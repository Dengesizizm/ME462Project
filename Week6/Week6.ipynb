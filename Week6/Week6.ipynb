{
  "nbformat": 4,
  "nbformat_minor": 0,
  "metadata": {
    "colab": {
      "name": "Week6.ipynb",
      "provenance": [],
      "collapsed_sections": [],
      "include_colab_link": true
    },
    "kernelspec": {
      "name": "python3",
      "display_name": "Python 3"
    }
  },
  "cells": [
    {
      "cell_type": "markdown",
      "metadata": {
        "id": "view-in-github",
        "colab_type": "text"
      },
      "source": [
        "<a href=\"https://colab.research.google.com/github/Dengesizizm/ME462Project/blob/master/Week6/Week6.ipynb\" target=\"_parent\"><img src=\"https://colab.research.google.com/assets/colab-badge.svg\" alt=\"Open In Colab\"/></a>"
      ]
    },
    {
      "cell_type": "markdown",
      "metadata": {
        "id": "q1AM6ADE6Id5",
        "colab_type": "text"
      },
      "source": [
        "# Basic Features of Control Systems\n",
        "\n",
        "&nbsp;&nbsp;&nbsp;Welcome back to Control Systems Notebook! The topic of this week is the basic features of control systems. You already learned mathematical modeling of the common engineering systems, and you are familiar with transfer functions and block diagram algebra. Then, you are ready to understand how control systems work and how you can design them!"
      ]
    },
    {
      "cell_type": "markdown",
      "metadata": {
        "id": "BaVA4RVw7MPD",
        "colab_type": "text"
      },
      "source": [
        "### A Typical Open-Loop Control System\n",
        "\n",
        "\n",
        "&nbsp;&nbsp;&nbsp;In the 1st week's Colab Notebook, we worked on the examples of the open-loop and closed-loop control systems to understand them clearly. If you do not remember, go to the first week's Colab and take a look to remind them quickly. The figure given below is a comprehensive block diagram representation of a typical open-loop control system.\n",
        "\n",
        "<center><img src=https://raw.githubusercontent.com/Dengesizizm/ME462Project/master/Week6/Figures/open_loop_system_.png height=\"250\"></center>\n",
        "\n",
        "&nbsp;&nbsp;&nbsp;As a first step, let's look at the inputs and output of the open-loop control system. As you know from previous weeks, $R(s)$ is the *reference input*, which is the desired behavior we want to obtain as a *controlled output* $C(s)$. Then, our aim is obtaining the equality $C(s)=R(s)$. $D(s)$ is the disturbance input acts on the plant, which is out of our control. Therefore, to obtain $C(s)=R(s)$ we should cancel the effect of the disturbance on the plant. For this purpose, the estimated value of the disturbance is given as input to the controller, which is $D^*(s)$.\n",
        "\n",
        "&nbsp;&nbsp;&nbsp;If we look at the transfer functions of the open-loop system above, $G_u(s)$ and $G_d(s)$ are the transfer functions of the plant, which are determined by the mathematical modeling of the systems we desire to control. $G_r(s)$ and $G_{d^*}(s)$ are the controller transfer functions, which will be determined by you to control the plant ina desired way. Now, let's use the transfer function algebra to understand how you can determine the controller's transfer functions.\n",
        "\n",
        "&nbsp;&nbsp;&nbsp;As you know, our aim is to obtain equality $C(s)=R(s)$. Therefore we should obtain the relation between them to understand how we can achieve that. It can be obtained as,\n",
        "\n",
        "$$C=(G_uG_r)R+(G_uG_{d^*})D^*+G_dD.$$\n",
        "\n",
        "&nbsp;&nbsp;&nbsp;*(P.S.: Take a pencil and paper and try to obtain equation above by yourself. It can be beneficial to understand the rest of the subject clearly.)*\n",
        "\n",
        "&nbsp;&nbsp;&nbsp;We know that $D^*(s)$ is the estimation of the $D(s)$ provided to the controller. Then, we can define the estimation error as $D'(s)=D(s)-D^*(s)$. This value shows us how precisely we estimated the disturbance is acting on the plant. If we insert that value into the equation above we obtain,\n",
        "\n",
        "$$C=(G_uG_r)R+(G_uG_{d^*}+G_d)D^*+G_dD'.$$\n",
        "\n",
        "&nbsp;&nbsp;&nbsp;As a first step to obtain $C(s)=R(s)$, we should determine the controller transfer functions as,\n",
        "\n",
        "$$G_u(s)G_r(s)=1\\rightarrow G_r(s)=\\frac{1}{G_u(s)},\\qquad and \\qquad G_u(s)G_{d^*}(s)+G_d(s)=0\\rightarrow G_{d^*}=-\\frac{G_d(s)}{G_u(s)}.$$\n",
        "\n",
        "&nbsp;&nbsp;&nbsp;Then, the equation becomes,\n",
        "\n",
        "$$C(s)=R(s)+G_d(s)D'(s).$$\n",
        "\n",
        "&nbsp;&nbsp;&nbsp;We cannot set $G_d(s)$ to zero since it is transfer function of the plant. Therefore, our estimated error value $D'(s)$ must be zero. To obtain that, our disturbance estimation $D^*(s)$ must be equal to the plant disturbance $D(s)$. If $D^*(s) = D(s)$ is achieved, the desired equality is obtained as,\n",
        "\n",
        "$$C(s)=R(s).$$"
      ]
    },
    {
      "cell_type": "markdown",
      "metadata": {
        "id": "KpqOyLtpbPmx",
        "colab_type": "text"
      },
      "source": [
        "&nbsp;&nbsp;&nbsp; <ins>***Case Study: Designing an Open Loop Controller for a DC Servomotor***</ins>\n",
        "\n",
        "&nbsp;&nbsp;&nbsp; In this example, you will try to design an open-loop controller for controlling the speed of the DC servomotor. The transfer function of the DC servomotor is provided in the block diagram as a first-order transfer function since the inductor of the armature circuit is very small $L_a\\approx0$. You can check your lecture notes to see how that transfer function is derived.\n",
        "\n",
        "<center><img src=https://raw.githubusercontent.com/Dengesizizm/ME462Project/master/Week6/Figures/dc_servomotor_figure.png height=\"200\"></center>\n",
        "\n",
        "<center><img src=https://raw.githubusercontent.com/Dengesizizm/ME462Project/master/Week6/Figures/open_loop_example.png height=\"250\"></center>\n",
        "\n",
        "\n",
        "&nbsp;&nbsp;&nbsp;In this example, we want the servomotor to rotate at $w=0.5 \\frac{rad}{s}$ which will be provided as an input to our controller $W(s)=R(s)=0.5s$. Moreover, there will be a small disturbance torque acting on the motor shaft as $T_d=0.01sin(0.04\\pi t) Nm$, whose Laplace transform can be obtined as $T_d(s)=D(s)\\approx\\frac{0.00126}{s^2+0.0158}$. The transfer function for the plant disturbance which explains the relation between disturbance torque and rotational speed of the motor shaft also given in the block diagram.\n",
        "\n",
        "&nbsp;&nbsp;&nbsp;To design the controller, you can use the procedure we discussed in the previous section. After finding the controller transfer functions, you can run the code below and enter the transfer function values into the textboxes. You can see the controller output function and the response plot of the system simultaneously.\n",
        "\n",
        "\n",
        "\n"
      ]
    },
    {
      "cell_type": "code",
      "metadata": {
        "id": "XFxJyJKJ5wXR",
        "colab_type": "code",
        "colab": {}
      },
      "source": [
        "!pip install ipywidgets\n",
        "!jupyter nbextension enable --py widgetsnbextension\n",
        "!pip install nodejs\n",
        "!pip install control\n",
        "from IPython.display import clear_output\n",
        "clear_output()\n",
        "import ipywidgets as widgets\n",
        "import control\n",
        "import matplotlib.pyplot as plt\n",
        "import numpy as np\n",
        "from IPython.display import display\n",
        "from IPython.display import Markdown as md\n",
        "from control import TransferFunction as tf\n",
        "from control import minreal\n",
        "from control import step_response\n",
        "from IPython.display import clear_output\n",
        "from ipywidgets import interact, interactive, fixed, interact_manual, Layout, HBox, Label, VBox, interactive_output\n",
        "\n",
        "def d_e(a):\n",
        "  a_latex = a._repr_latex_()\n",
        "  a_latex = a_latex[2:-2]\n",
        "  return a_latex\n",
        "\n",
        "def open_loop(Gr_numm,Gr_numm_1,Gd_numm,Gd_numm_1):\n",
        "  Gr = tf([Gr_numm,Gr_numm_1], [1])\n",
        "  Gd_star = tf([Gd_numm,Gd_numm_1], [1])\n",
        "  Gu = tf([100], [0.02,1])\n",
        "  Gd = tf([125000],[0.02,1])\n",
        "  Gcr = Gu*Gr\n",
        "  Gcd_star = Gu*Gd_star+Gd\n",
        "  Gcd = Gd\n",
        "  T = np.linspace(0, 320,1000)\n",
        "  t,y1=step_response(Gcr*tf([0.5], [1]),T) # w = 0.5 rad/s\n",
        "  t,y2=step_response(Gcd_star*tf([0.00126,0], [1,0,0.0158]),T) # 0.01*sin(0.04*pi*t)\n",
        "  t,y5=step_response(tf([0.5], [1]),T)\n",
        "  plt.subplot(1, 2, 1)\n",
        "  plt.plot(t,y5, \"-b\", label=\"R(s)\")\n",
        "  plt.plot(t,y1+y2, \"-r\", label=\"C(s)\")\n",
        "  plt.grid()\n",
        "  plt.xlabel('t (s)')\n",
        "  plt.ylabel('w (rad/s)')\n",
        "  plt.title(\"Angular speed(w) vs time(t)\")\n",
        "  plt.legend(loc=\"upper right\")\n",
        "  plt.subplot(1, 2, 2)\n",
        "  plt.plot(t,y1+y2-y5, \"-b\", label=\"E(s)\")\n",
        "  plt.grid()\n",
        "  plt.xlabel('t (s)')\n",
        "  plt.ylabel('w (rad/s)')\n",
        "  plt.title(\"Error(w) vs time(t)\")\n",
        "  plt.tight_layout()\n",
        "\n",
        "  display(md(\"$C(s) =\" + d_e(minreal(Gcr,verbose=False)) + \"R(s) +\" + d_e(minreal(Gcd_star,verbose=False)) + \"D^*(s) +\" + d_e(minreal(Gcd,verbose=False)) + \"D'(s)$\"))\n",
        "  print(\"\\n\")\n",
        "  display(md(\"If we assume we perfectly predicted the disturbance as $D'(s)=0$, the given input $R(s)$ and the output of the system $C(s)$ is:\"))\n",
        "display(md(\"$ $\"))\n",
        "Gr_numm = widgets.BoundedFloatText(value=0,min=-100000.0,max=100.0,step=0.01,description=u'Gr(s) =',disabled=False,layout=Layout(width='14%', height='80px'))\n",
        "Gr_numm_1 = widgets.BoundedFloatText(value=0,min=-100000.0,max=100000.0,step=0.01,description=u'',disabled=False,layout=Layout(width='7%', height='80px'))\n",
        "Gd_numm = widgets.BoundedFloatText(value=0,min=-100000.0,max=100000.0,step=0.01,description=u'Gd*(s) =',disabled=False,layout=Layout(width='14%', height='80px'))\n",
        "Gd_numm_1 = widgets.BoundedFloatText(value=0,min=-100000.0,max=100000.0,step=0.01,description=u'',disabled=False,layout=Layout(width='7%', height='80px'))\n",
        "\n",
        "out1 = interactive_output(open_loop,{\"Gr_numm\":Gr_numm, \"Gr_numm_1\":Gr_numm_1, \"Gd_numm\":Gd_numm, \"Gd_numm_1\":Gd_numm_1})\n",
        "hbox1 = HBox((Gr_numm,Label('s +'), Gr_numm_1,Label('\\xa0\\xa0\\xa0\\xa0\\xa0\\xa0\\xa0\\xa0\\xa0\\xa0'),Gd_numm,Label('s +'),Gd_numm_1))\n",
        "\n",
        "display(hbox1,out1)"
      ],
      "execution_count": null,
      "outputs": []
    },
    {
      "cell_type": "markdown",
      "metadata": {
        "id": "Om5VDyI-jlSD",
        "colab_type": "text"
      },
      "source": [
        "&nbsp;&nbsp;&nbsp; <ins>*Quick Solution:*</ins>\n",
        "\n",
        "&nbsp;&nbsp;&nbsp;The transfer functions of the plant are given as,\n",
        "$$G_u(s)=\\frac{100}{0.02s+1} \\qquad and \\qquad G_d(s)=\\frac{125000}{0.02s+1}.$$\n",
        "\n",
        "&nbsp;&nbsp;&nbsp;The transfer functions of the controller can be calculated as,\n",
        "$$G_r(s)=\\frac{1}{G_u(s)}\\rightarrow G_r(s)=0.0002s+0.01,$$\n",
        "\n",
        "$$ G_{d^*}=-\\frac{G_d(s)}{G_u(s)}\\rightarrow G_{d^*}=-1250.$$\n",
        "\n",
        "&nbsp;&nbsp;&nbsp;Then, the output can be obtained as,\n",
        "\n",
        "$$C(s)=\\frac{1}{1}R(s)+\\frac{0}{1}D^*(s)+\\frac{6.25*10^6}{s+50}D'(s).$$\n",
        "\n",
        "&nbsp;&nbsp;&nbsp; As we can see from this example, proper controller design is not enough to control the open-loop system in the desired way. We should also make a proper determination of $D(s)$ to obtain $D'(s)=0\\rightarrow  D^*(s)-D(s)=0$. In reality, estimating the $D(s)$ exactly is not possible, even using a sensor. Therefore, if the small estimated error values can be obtained, open-loop control will be satisfactory, $C(s)\\approx R(s)$. However, if the estimated error values are high, a **close-loop control** should be used since $C(s)\\not\\approx R(s)$.\n",
        "\n"
      ]
    },
    {
      "cell_type": "markdown",
      "metadata": {
        "id": "yZ4LsKA5q1cb",
        "colab_type": "text"
      },
      "source": [
        "### A Typical Closed Loop (Feedback) Control System\n",
        "\n",
        "\n",
        "&nbsp;&nbsp;&nbsp;The figure given below is a comprehensive block diagram representation of a typical closed-loop control system.\n",
        "\n",
        "<center><img src=https://raw.githubusercontent.com/Dengesizizm/ME462Project/master/Week6/Figures/close_loop_system.png height=\"300\"></center>\n",
        "\n",
        "&nbsp;&nbsp;&nbsp;We can see that plant transfer functions and input-output values are the same with the open-loop system at first glance. However, the controller transfer functions become $G_c(s)$ and $K$. The $K$ is named as an amplifier, which may also be called *gain of the controller*. We don't need $D^*(s)$ and $G_{d^*}(s)$ transfer functions because the knowledge of $D(s)$ will be provided to the controller via sensor feedback.\n",
        "\n",
        "&nbsp;&nbsp;&nbsp;The sensor has its transfer function $H(s)$ since it is also a physical system, and there will be disturbance $W(s)$ acting on the sensor, similar to the plant disturbance.\n",
        "\n",
        "&nbsp;&nbsp;&nbsp;As you know, our aim is to obtain equality $R(s)=C(s)$. Therefore, we should obtain the relation between them to understand how we can achieve that. It can be obtained as,\n",
        "\n",
        "$$C=\\frac{KG_uG_c}{1+KG_uG_cH}R+\\frac{G_d}{1+KG_uG_cH}D+\\frac{-KG_uG_c}{1+KG_uG_cH}W.$$\n",
        "\n",
        "&nbsp;&nbsp;&nbsp;If we choose the amplifier $K$ such as $K\\rightarrow \\infty$, \n",
        "\n",
        "$$\\lim_{K\\to \\infty}\\frac{KG_uG_c}{1+KG_uG_cH}R\\rightarrow \\frac{1}{H(s)}R,\\qquad \\lim_{K\\to \\infty}\\frac{G_d}{1+KG_uG_cH}D\\rightarrow 0,\\qquad \\lim_{K\\to \\infty}\\frac{-KG_uG_c}{1+KG_uG_cH}W\\rightarrow \\frac{-1}{H(s)}W.$$\n",
        "\n",
        "\n",
        "&nbsp;&nbsp;&nbsp; Then, the equation becomes,\n",
        "\n",
        "$$C=\\frac{1}{H(s)}R+\\frac{-1}{H(s)}W.$$\n",
        "\n",
        "&nbsp;&nbsp;&nbsp; At this point, we will make an assumption that the sensor is an ideal sensor where $H(s)=1$ and $W(s)=0$. That means the sensor measures the output value exactly, and disturbance does not affect the sensor value. Then, we obtained the desired result as,\n",
        "\n",
        "$$C(s)=R(s).$$"
      ]
    },
    {
      "cell_type": "markdown",
      "metadata": {
        "id": "w1cA4tavFqo_",
        "colab_type": "text"
      },
      "source": [
        "\n",
        "&nbsp;&nbsp;&nbsp; If we transform the previous open-loop DC servomotor system to the close-loop one, we can obtain the block diagram given below.\n",
        "\n",
        "<center><img src=https://raw.githubusercontent.com/Dengesizizm/ME462Project/master/Week6/Figures/close_loop_example.png height=\"300\"></center>\n",
        "\n",
        "&nbsp;&nbsp;&nbsp; The code similar to the open-loop case is provided below for the closed-loop system. You can observe the change in the output by adjusting the $K$ value. Moreover, you can change the sensor transfer function $H(s)$ to see how it affects the output as it gets away from the ideal sensor assumption $H(s)=1$."
      ]
    },
    {
      "cell_type": "code",
      "metadata": {
        "id": "IIxqSGCfFgMY",
        "colab_type": "code",
        "colab": {}
      },
      "source": [
        "def close_loop(Gc_num,Gc_num_1,K_num,H_num,H_num_1):\n",
        "  Gc = tf([Gc_num,Gc_num_1], [1])\n",
        "  K = tf([K_num], [1])\n",
        "  Gu = tf([100], [0.02,1])\n",
        "  Gd = tf([125000],[0.02,1])\n",
        "  H = tf([H_num,H_num_1], [1])\n",
        "  one = tf([1],[1])\n",
        "  Gcrr = minreal((K*Gu*Gc)/(1+K*Gu*Gc*H),verbose=False)\n",
        "  Gcd = minreal(Gd/(1+K*Gu*Gc*H),verbose=False)\n",
        "  Gcw = minreal(-K*Gu*Gc/(1+K*Gu*Gc*H),verbose=False)\n",
        "  T = np.linspace(0, 320,1000)\n",
        "  t,y3=step_response(Gcrr*tf([0.5], [1]),T)\n",
        "  t,y4=step_response(Gcd*tf([0.00126,0], [1,0,0.0158]),T) # 0.01*sin(0.04*pi*t)\n",
        "  t,y6=step_response(tf([0.5], [1]),T)\n",
        "  plt.subplot(1, 2, 1)\n",
        "  plt.plot(t,y6, \"-b\", label=\"R(s)\")\n",
        "  plt.plot(t,y3+y4, \"-r\", label=\"C(s)\")\n",
        "  plt.grid()\n",
        "  plt.xlabel('t (s)')\n",
        "  plt.ylabel('w (rad/s)')\n",
        "  plt.title(\"Angular speed(w) vs time(t)\")\n",
        "  plt.legend(loc=\"upper right\")\n",
        "  plt.ylim(min(y3+y4)-5, max(y3+y4)+5)\n",
        "  plt.subplot(1, 2, 2)\n",
        "  plt.plot(t,y3+y4-y6, \"-b\", label=\"E(s)\")\n",
        "  plt.grid()\n",
        "  plt.ylim(min(y3+y4-y6)-0.1, max(y3+y4-y6)+0.1)\n",
        "  plt.xlabel('t (s)')\n",
        "  plt.ylabel('w (rad/s)')\n",
        "  plt.title(\"Error(w) vs time(t)\")\n",
        "  plt.tight_layout()\n",
        "  display(md(\"$C(s) =\" + d_e(minreal(Gcrr,verbose=False)) + \"R(s) +\" + d_e(minreal(Gcd,verbose=False)) + \"D(s) +\" + d_e(minreal(Gcw,verbose=False)) + \"W(s)$\"))\n",
        "  print(\"\\n\")\n",
        "  display(md(\"If we assume that there is no disturbance from the sensor, $W(s)=0$, the given input $R(s)$ and the output of the system $C(s)$ is:\"))\n",
        "display(md(\"$ $\"))\n",
        "Gc_num = widgets.BoundedFloatText(value=1,min=-100.0,max=100.0,step=0.01,description=u'Gc(s) =',disabled=False,layout=Layout(width='14%', height='80px'))\n",
        "Gc_num_1 = widgets.BoundedFloatText(value=0.1,min=-100.0,max=100.0,step=0.01,description=u'',disabled=False,layout=Layout(width='7%', height='80px'))\n",
        "K_num = widgets.FloatSlider(value=0, min=0,max=5000.0, step=0.1,description='K =',disabled=False,continuous_update=False,orientation='horizontal',readout=True,readout_format='.1f',)\n",
        "H_num = widgets.BoundedFloatText(value=0.0,min=-100.0,max=100.0,step=0.01,description=u'H(s) =',disabled=False,layout=Layout(width='14%', height='80px'))\n",
        "H_num_1 = widgets.BoundedFloatText(value=1.0,min=-100.0,max=100.0,step=0.01,description=u'',disabled=False,layout=Layout(width='7%', height='80px'))\n",
        "out2 = interactive_output(close_loop,{\"Gc_num\":Gc_num, \"Gc_num_1\":Gc_num_1, \"K_num\":K_num, \"H_num\":H_num, \"H_num_1\":H_num_1})\n",
        "\n",
        "hbox2 = HBox((Gc_num,Label('s +'), Gc_num_1,Label('\\xa0\\xa0\\xa0\\xa0\\xa0\\xa0\\xa0\\xa0\\xa0\\xa0'),K_num))\n",
        "hbox3 = HBox((H_num,Label('s +'), H_num_1))\n",
        "ui = VBox([hbox2, hbox3])\n",
        "display(ui,out2)"
      ],
      "execution_count": null,
      "outputs": []
    },
    {
      "cell_type": "markdown",
      "metadata": {
        "id": "EJcCVuX0Jphi",
        "colab_type": "text"
      },
      "source": [
        "&nbsp;&nbsp;&nbsp; As you can observe from the code above and the derivations we made in the previous section, increasing $K$ value decreases the error, and to have $R(s)=C(s)$,  $K$ should be $\\infty$ which is not possible for a real controller. Therefore, we should change the controller transfer function to obtain $R(s)=C(s)$, rather than maximizing the $K$ value. In the next weeks, we will learn what is required from the controller to obtain zero steady-state error $R(s)=C(s)$ or keeping the output value in the small error margin $R(s)\\approx C(s)$.\n",
        "\n",
        "&nbsp;&nbsp;&nbsp; Before closing this week's Colab, let's look at the three basic characteristics of a control system: servo characteristics, regulator characteristics, and parameter sensitivity. \n"
      ]
    },
    {
      "cell_type": "markdown",
      "metadata": {
        "id": "QV-PXnYoNTiq",
        "colab_type": "text"
      },
      "source": [
        "&nbsp;&nbsp;&nbsp; ***Servo Characteristics of a Control System***\n",
        "\n",
        "&nbsp;&nbsp;&nbsp; The servo characteristics can be defined as the ability of a feedback control system to track a reference input, even in the absence of disturbances. This ability shows that the system behaves in the desired manner or not. To obtain a better ability to track the reference input, the reference input related part of the error transfer function should be close to zero \n",
        "$$\\frac{E(s)}{R(s)}\\approx0.$$ \n",
        "\n",
        "&nbsp;&nbsp;&nbsp;Then, in the absence of disturbances, $D(s)=0$ and $W(s)=0$, we can obtain the error transfer function from the closed-loop block diagram as,\n",
        "\n",
        "$$\\frac{E(s)}{R(s)}= \\frac{1}{1+KG_c(s)G_u(s)H(s)}.$$\n",
        "\n",
        "&nbsp;&nbsp;&nbsp;By looking the transfer function above and the closed-loop system block diagram, we can say that to have a good ability to track reference input, we should have a high quality sensor such as $H(s)\\approx1$ for getting accurate feedback signals and high gain value from the controller $K$, to reduce the error value. *(You can observe the servo characteristics in the closed-loop DC servomotor code we used above by changing the $K$ value and the $H(s)$ sensor transfer function.)*\n",
        "<br />\n",
        "<br />\n",
        "<br />\n",
        "&nbsp;&nbsp;&nbsp; ***Regulator Characteristics of a Control System***\n",
        "\n",
        "&nbsp;&nbsp;&nbsp; The regulator characteristics can be defined as a feedback control system's ability to suppress the plant disturbance, even when the reference input is zero, $R(s)=0$. To reduce the effect of the plant disturbance, the disturbance related part of the error transfer function should be close to zero \n",
        "$$\\frac{E(s)}{D(s)}\\approx0.$$ \n",
        "\n",
        "&nbsp;&nbsp;&nbsp;Then, in the absence of reference input and the sensor disturbance, $R(s)=0$ and $W(s)=0$, we can obtain the error transfer function from the closed-loop block diagram as,\n",
        "\n",
        "$$\\frac{E(s)}{R(s)}= \\frac{-G_d(s)H(s)}{1+KG_c(s)G_u(s)H(s)}.$$\n",
        "\n",
        "&nbsp;&nbsp;&nbsp;By looking at the transfer function above, we can say that to suppress the plant disturbance, we should have a high gain value from the controller $K$, to reduce the error value. *(You can observe the regulator characteristics in the closed-loop DC servomotor code we used above by changing the $K$ value.)*\n",
        "<br />\n",
        "<br />\n",
        "<br />\n",
        "&nbsp;&nbsp;&nbsp; ***Parameter Sensitivity of a Control System***\n",
        "\n",
        "&nbsp;&nbsp;&nbsp; Another characteristic of the control system is the parameter sensitivity, which is why we cannot find the exact transfer functions ​​of the plant, controller, and sensor. Since their parameters may change in time due to aging or wear, and there may be modeling and manufacturing errors, control systems should be designed as intensive as possible to the variations and uncertainties in such parameters.\n",
        "\n",
        "&nbsp;&nbsp;&nbsp; *This is all for this weeks Colab!* Next week, we will continue with the general requirements for a control system and try to understand the time response of the linear time-invariant systems. \n",
        "\n"
      ]
    }
  ]
}