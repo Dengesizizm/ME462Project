{
  "nbformat": 4,
  "nbformat_minor": 0,
  "metadata": {
    "colab": {
      "name": "Week4.ipynb",
      "provenance": [],
      "collapsed_sections": [],
      "toc_visible": true,
      "authorship_tag": "ABX9TyNIPPXtfvazLSGYdTtvp8lP",
      "include_colab_link": true
    },
    "kernelspec": {
      "name": "python3",
      "display_name": "Python 3"
    }
  },
  "cells": [
    {
      "cell_type": "markdown",
      "metadata": {
        "id": "view-in-github",
        "colab_type": "text"
      },
      "source": [
        "<a href=\"https://colab.research.google.com/github/Dengesizizm/ME462Project/blob/master/Week4/Week4.ipynb\" target=\"_parent\"><img src=\"https://colab.research.google.com/assets/colab-badge.svg\" alt=\"Open In Colab\"/></a>"
      ]
    },
    {
      "cell_type": "markdown",
      "metadata": {
        "id": "PyzIBTuOc376",
        "colab_type": "text"
      },
      "source": [
        "&nbsp;&nbsp;&nbsp;Welcome back to *Control Systems Notebooks*! This week, we will continue with the mathematical modeling of the electrical, fluid flow, and thermal systems."
      ]
    },
    {
      "cell_type": "markdown",
      "metadata": {
        "id": "ISekb5Wtcdan",
        "colab_type": "text"
      },
      "source": [
        "\n",
        "### Electrical Systems\n",
        "&nbsp;&nbsp;&nbsp;With the advancement of technology, electrical systems gained importance, and they started to be used in many engineering fields. Therefore, knowledge of the modeling of the electrical systems is essential for controlling various systems. For this course, we will model the basic electrical components such as a capacitor, resistor, inductor, and op-amps."
      ]
    },
    {
      "cell_type": "markdown",
      "metadata": {
        "id": "MOJnu9UKgFT2",
        "colab_type": "text"
      },
      "source": [
        "#### a) Capacitor\n",
        "\n",
        "&nbsp;&nbsp;&nbsp;A capacitor is an electrical component that can store energy in the form of an electrical charge producing a potential difference.  \n",
        "\n",
        "<center><img src=https://raw.githubusercontent.com/Dengesizizm/ME462Project/master/Week4/Figures/capacitor.png height=\"90\n",
        "\">  <img src=https://raw.githubusercontent.com/Dengesizizm/ME462Project/master/Week4/Figures/capacitor_real.jpeg height=\"90\"> </center>\n",
        "\n",
        "&nbsp;&nbsp;&nbsp; The voltage drop across the capacitor can be defined by the equation,\n",
        "\n",
        " $$v_1-v_2=\\frac{1}{C}\\int_{t=0}^t i\\,dt.$$\n",
        "\n",
        "&nbsp;&nbsp;&nbsp;where direction of the current i is from high potential to low potential.\n",
        "\n",
        "&nbsp;&nbsp;&nbsp;If we take Laplace transform of the equation above, we can obtain the relation between the voltage difference and current as,\n",
        "\n",
        " $$ \\mathcal{L}\\{v_1-v_2=\\frac{1}{C}\\int_{t=0}^t i\\,dt\\}  \\to V_c(s) = \\frac{1}{Cs}*I(s).$$\n",
        "\n",
        "&nbsp;&nbsp;&nbsp;If you noticed that, voltage difference is directly proportional to the current in the Laplace domain which is similar to the Ohm's law,\n",
        "\n",
        "$$v(t)= R*i(t).$$\n",
        "\n",
        "&nbsp;&nbsp;&nbsp;The term $\\frac{1}{Cs}$ is called *impedance* for capacitor, which is the measure of the opposition to current flow $i$ under applied voltage difference $v_c$.\n",
        "\n",
        "$$Z_C(s)=\\frac{1}{Cs}\\qquad(impedance\\,of\\,the\\,capacitor)$$ \n",
        "\n",
        "\n"
      ]
    },
    {
      "cell_type": "markdown",
      "metadata": {
        "id": "CFLWyMjtQK8M",
        "colab_type": "text"
      },
      "source": [
        "#### b) Resistor\n",
        "\n",
        "&nbsp;&nbsp;&nbsp;Resistance is a measure of the opposition to the flow of electric current as you know well from basic physics.  \n",
        "\n",
        "<center><img src=https://raw.githubusercontent.com/Dengesizizm/ME462Project/master/Week4/Figures/resistor.png height=\"90\n",
        "\"> <img src=https://raw.githubusercontent.com/Dengesizizm/ME462Project/master/Week4/Figures/resistor_real.jpeg height=\"90\n",
        "\"> </center>\n",
        "\n",
        "&nbsp;&nbsp;&nbsp; The mathematical model of the resistor is obtained from Ohm's law as,\n",
        "\n",
        " $$v(t)= R*i(t).$$\n",
        "\n",
        "\n",
        "&nbsp;&nbsp;&nbsp;If we take Laplace transform of the equation, we can obtain the relation between the voltage difference and current as,\n",
        "\n",
        " $$\\mathcal{L}\\{v(t)= R*i(t)\\}  \\to V_R(s) = R*I(s).$$\n",
        "\n",
        "&nbsp;&nbsp;&nbsp;In resistor model, resistance value $R$ itself is the *impedance* for resistor.\n",
        "\n",
        "$$Z_R(s)=R\\qquad(impedance\\,of\\,the\\,resistor)$$ \n",
        "\n",
        "&nbsp;&nbsp;&nbsp;*(P.S.: Did you notice the colorful circles in the picture of a resistor? Do you know what do they mean?)*\n"
      ]
    },
    {
      "cell_type": "markdown",
      "metadata": {
        "id": "65-3GAN7SVB-",
        "colab_type": "text"
      },
      "source": [
        "#### c) Inductor\n",
        "\n",
        "&nbsp;&nbsp;&nbsp;An inductor is an electrical component that stores energy in a magnetic field when electric current flows through it.  \n",
        "\n",
        "<center/><img src=https://raw.githubusercontent.com/Dengesizizm/ME462Project/master/Week4/Figures/inductor.png height=\"90\n",
        "\"> <img src=https://raw.githubusercontent.com/Dengesizizm/ME462Project/master/Week4/Figures/inductor_real.jpg height=\"90\n",
        "\"> </center>\n",
        "\n",
        "&nbsp;&nbsp;&nbsp; The voltage drop across the capacitor can be defined by the equation,\n",
        "\n",
        " $$v_1-v_2=L\\frac{di}{dt}.$$\n",
        "\n",
        "&nbsp;&nbsp;&nbsp;where direction of the current i is from high potential to low potential.\n",
        "\n",
        "&nbsp;&nbsp;&nbsp;If we take Laplace transform of the equation above, we can obtain the relation between the voltage difference and current as,\n",
        "\n",
        " $$ \\mathcal{L}\\{v_1-v_2=L\\frac{di}{dt}\\}  \\to V_L(s) = L*s*I(s)$$\n",
        "\n",
        "&nbsp;&nbsp;&nbsp;If you noticed that, voltage difference is directly proportional to the current in the Laplace domain, similar to the capacitor case. \n",
        " \n",
        "&nbsp;&nbsp;&nbsp;Therefore term $L*s*I(s)$ is called *impedance* for inductor.\n",
        "\n",
        "$$Z_L(s)=L*s*I(s) \\qquad (impedance\\,of\\,the\\,inductor)$$ "
      ]
    },
    {
      "cell_type": "markdown",
      "metadata": {
        "id": "61tCK0wsUwvo",
        "colab_type": "text"
      },
      "source": [
        "#### Kirchhoff's Current & Voltage Laws\n",
        "\n",
        "&nbsp;&nbsp;&nbsp;Up to now, we recalled the equations of the basic electical components and obtained their mathematical models in the Laplace domain separately. \n",
        "\n",
        "&nbsp;&nbsp;&nbsp;However, in the electrical systems, eletrical components used together in the same circuit. Therefore, to obtain transfer function of the whole system, Kirchhoff's current and voltage laws are used, as you know from fundamental physics course.\n",
        "\n",
        "&nbsp;&nbsp;&nbsp; According to the Kirchhoff's current law, for any junction *(node)* in an electrical circuit, the sum of currents flowing into that node is equal to the sum of currents flowing out of that node.\n",
        "\n",
        "<center><img src=https://raw.githubusercontent.com/Dengesizizm/ME462Project/master/Week4/Figures/current_law.png height=\"120\n",
        "\"> </center>\n",
        "\n",
        "\n",
        "&nbsp;&nbsp;&nbsp;For the figure above we can say that,\n",
        "\n",
        "$$i_1+i_4=i_2+i_3+i_5. $$\n",
        "\n",
        "&nbsp;&nbsp;&nbsp; Furthermore, Kirchhoff's voltage law says that the directed sum of the potential differences *(voltages)* around any closed loop in the circuit is zero.\n",
        "\n",
        "<center><img src=https://raw.githubusercontent.com/Dengesizizm/ME462Project/master/Week4/Figures/voltage_law.png height=\"120\n",
        "\"> </center>\n",
        "\n",
        "&nbsp;&nbsp;&nbsp; If we use the voltage law for the circuit in the figure above, we obtain the equation\n",
        "\n",
        "$$v_b+v_d-v_a-v_c=0. $$\n",
        "\n",
        "&nbsp;&nbsp;&nbsp; ***A Little Advice :***  Before starting to analysis of an electrical system, you can replace all the electrical components in the circuit by their *impedances*. Therefore, you can treat them as resistors and model them by using Ohm's law as we did for a resistor in the section *b)* above. This method may shorten your solution and help you to prevent mistakes.\n",
        "\n",
        "\n"
      ]
    },
    {
      "cell_type": "markdown",
      "metadata": {
        "id": "aIftrVcYRjbv",
        "colab_type": "text"
      },
      "source": [
        "#### d) Operational Amplifiers (Op-amp)\n",
        "\n",
        "&nbsp;&nbsp;&nbsp;An op-amp is an electrical component that produces an output potential which is typically hundreds of thousands of times larger than the potential difference between its input terminals.\n",
        "\n",
        "\n",
        " <center><img src=https://raw.githubusercontent.com/Dengesizizm/ME462Project/master/Week4/Figures/op_amp.png height=\"160\"> <img src=https://raw.githubusercontent.com/Dengesizizm/ME462Project/master/Week4/Figures/op_amp_real.jpg height=\"160\n",
        "\"></center>\n",
        "\n",
        "&nbsp;&nbsp;&nbsp; If you look at the figure above, there is an op-amp including input and output voltage values. The relation between input voltage difference and output voltage value can be described as,\n",
        "\n",
        " $$e_o=K(e_2-e_1).$$\n",
        "\n",
        "&nbsp;&nbsp;&nbsp;As you can see clearly, input voltage difference is amplified $K$ times, which is called as *differential (voltage) gain*.\n",
        "\n",
        "&nbsp;&nbsp;&nbsp;***Ideal Op-amp:*** While we are modeling the op-amps, we will assume they are *ideal op-amps*. In the ideal op-amp, no current flows into the input terminals. This assumption is quite reasonable since in an actual op-amp, the current flow into the input terminals are very small *(almost negligible)*. \n",
        "\n",
        "*(P.S.: Did you notice that the real shape of LM741 is rectangular rather than a triangle, and it has eight legs rather than three? What are the other five legs stands for?)*\n",
        "<br/><br/>\n",
        "\n",
        "\n",
        "\n",
        "&nbsp;&nbsp;&nbsp; <ins>***Case Study: Inverting Amplifier***</ins>\n",
        "\n",
        "<center><img src=https://raw.githubusercontent.com/Dengesizizm/ME462Project/master/Week4/Figures/inverting_op_amp.png></center>\n",
        "\n",
        "&nbsp;&nbsp;&nbsp;In the figure above, you see an inverting amplifier, which consist of an op-amp and two resistances. It is called as inverting amplifier since the output of the op-amp is provided as feedback to the *inverted terminal $(-)$* of the op-amp. \n",
        "\n",
        "&nbsp;&nbsp;&nbsp;Now, we can try to obtain the mathematical model of the *inverting amplifier* by using models of the electrical components and Kirchhoff's law, as we learned in the previous sections in this notebook.\n",
        "\n",
        "&nbsp;&nbsp;&nbsp;As a first step, let's obtain the eqations of the resistances. If we call the voltage value at the node B as $e_B$,\n",
        "\n",
        "$$i_{AB}=\\frac{e_i-e_B}{R_1}\\qquad i_{CB}=\\frac{e_o-e_B}{R_2}$$\n",
        "\n",
        "&nbsp;&nbsp;&nbsp;where $i_{AB}$ is the current flows from node A to node B, and $i_{CB}$ is the output current of the op-amp. Then, to combine these two equations, we can use Kirchhoff's current law for node B as,\n",
        "\n",
        "$$i_{AB}+i_{CB}=0\\rightarrow \\frac{e_i-e_B}{R_1}+\\frac{e_o-e_B}{R_2}=0 \\rightarrow \\frac{e_i}{R_1}+\\frac{e_o}{R_2}=(\\frac{1}{R_1}+\\frac{1}{R_2})e_B . $$\n",
        "\n",
        "&nbsp;&nbsp;&nbsp;Notice that, since the op-amp is assumed as ideal one, the current flows from node B to the inverted terminal of the op-amp is ***zero***. Therefore, it is not included in the equation above.\n",
        "\n",
        "&nbsp;&nbsp;&nbsp;Furthermore, we have the op-amp equation obtained in the previous section as,\n",
        "\n",
        "$$e_o=K(e_2-e_1) $$\n",
        "\n",
        "&nbsp;&nbsp;&nbsp;where $e_1$ is the voltage value of the inverted terminal (-) and $e_2$ is the voltage value of the non-inverted terminal (+). In the inverting amplifier case,\n",
        " $$e_1= e_B\\quad\\&\\quad e_2=0  \\qquad then\\,\\,equation\\,\\,becomes \\qquad e_o=-Ke_B \\rightarrow e_B=\\frac{-e_o}{K}.$$\n",
        "\n",
        " &nbsp;&nbsp;&nbsp;If we combine the *current law equation* & *op-amp equation* together, we get,\n",
        "\n",
        " $$\\frac{e_i}{R_1}+\\frac{e_o}{R_2}=(\\frac{1}{R_1}+\\frac{1}{R_2})\\frac{-e_o}{K}. $$\n",
        "\n",
        "&nbsp;&nbsp;&nbsp;Then, by playing with this equation, the ratio of the $e_o$ to $e_i$ can be found as,\n",
        "\n",
        "$$\\frac{e_o}{e_i}=\\frac{-\\frac{R_2}{R_1}}{1+\\frac{1+\\frac{R_2}{R_1}}{K}}. $$\n",
        "\n",
        "&nbsp;&nbsp;&nbsp; If we assume that the magnitudes of the resistances $R_1$ & $R_2$ are of comparable order, and since voltage gain of the op-amp $K\\gg1$, the term $\\frac{1+\\frac{R_2}{R_1}}{K}\\approx0.$\n",
        "\n",
        "&nbsp;&nbsp;&nbsp; Then equation of the inverting amplifier simplified to,\n",
        "\n",
        "$$\\frac{e_o(t)}{e_i(t)}=-\\frac{R_2}{R_1}. $$\n",
        "\n",
        "&nbsp;&nbsp;&nbsp;If we take Laplace transform of the equation of the inverting amplifier, *the transfer function of the inverting amplifier* can be obtained as,\n",
        "\n",
        "$$\\mathcal{L}\\{\\frac{e_o(t)}{e_i(t)}  -\\frac{R_2}{R_1}\\}\\rightarrow \\frac{E_o(s)}{E_i(s)}=-\\frac{R_2}{R_1}.$$\n",
        "\n",
        "\n",
        "&nbsp;&nbsp;&nbsp;By using the mathematical models of the components & Kirchhoff's laws as we did in this example, you can obtain the desired transfer functions of the electrical systems, such as op-amps or electrical circuits, in a systematic way! However, dont forget that  practicing on different examples is important for enhancing your mathematical modeling skills. You can find a lot of examples in your lecture notes or reference books.\n",
        "\n",
        "\n",
        "\n",
        "\n",
        "\n",
        "\n",
        "\n",
        "\n",
        "\n",
        "\n",
        "\n",
        "\n",
        "\n",
        "\n",
        "\n",
        "\n",
        "\n",
        "\n",
        "\n"
      ]
    },
    {
      "cell_type": "markdown",
      "metadata": {
        "id": "zFnYWGimBYY3",
        "colab_type": "text"
      },
      "source": [
        "### Fluid Flow Systems\n",
        "&nbsp;&nbsp;&nbsp;The fluid flow systems are widely used in machine tool applications, aircraft control systems, and similar operations. If we want to control these systems, we should be able to obtain their mathematical models correctly.\n",
        "\n",
        "&nbsp;&nbsp;&nbsp;Since we already know the mathematical modeling of the electrical systems, we can use the analogy between electrical and fluid flow systems such as,\n",
        "\n",
        "$$p \\leftrightarrow voltage, \\qquad Q \\leftrightarrow current $$\n",
        "\n",
        "&nbsp;&nbsp;&nbsp; where $p$ is the pressure and $Q$ is the volumetric flow rate of the fluid. That analogy may help you to understand fluid flow systems more easily.\n",
        "\n"
      ]
    },
    {
      "cell_type": "markdown",
      "metadata": {
        "id": "5mR6k0GAI2u6",
        "colab_type": "text"
      },
      "source": [
        "#### a) Pipe or Valve Resistance\n",
        "\n",
        "&nbsp;&nbsp;&nbsp;While fluid is flowing through the pipe or valve, there will be resistance against the flow due to friction acting on the fluid.\n",
        "\n",
        "<center><img src=https://raw.githubusercontent.com/Dengesizizm/ME462Project/master/Week4/Figures/pipe_valve_resistance.png></center>\n",
        "\n",
        "&nbsp;&nbsp;&nbsp;In the figure above, you can see the representation of the pipe and valve resistances. Remember that, fluid flows from higher pressure to lower pressure such as electric current which flows from higher potential to lower one.\n",
        "\n",
        "\n",
        "&nbsp;&nbsp;&nbsp; The mathematical model of the resistance can be obtained similar to electrical one as,\n",
        "\n",
        " $$p_1-p_2=R*Q$$\n",
        "\n",
        "\n",
        "&nbsp;&nbsp;&nbsp;where $p_1-p_2$ is the pressure difference and $Q$ is the volumetric flow rate."
      ]
    },
    {
      "cell_type": "markdown",
      "metadata": {
        "id": "QO4tnDCZI56A",
        "colab_type": "text"
      },
      "source": [
        "#### b) Liquid Tank Capacitance\n",
        "&nbsp;&nbsp;&nbsp;The capacitance of a tank can be defined as the change in the amount of stored liquid per  unit change in the pressure difference,\n",
        "\n",
        "$$ V = C*(p_1-p_2) $$\n",
        "\n",
        "&nbsp;&nbsp;&nbsp;where $C$ is the capacitance and $V$ is the volume of the fluid in the tank.\n",
        "\n",
        "\n",
        "<center><img src=https://raw.githubusercontent.com/Dengesizizm/ME462Project/master/Week4/Figures/liquid_tank_capacitance.png></center>\n",
        "\n",
        "&nbsp;&nbsp;&nbsp;In the figure above, a fluid tank with two input and one output flows is represented. $Q_1$, $Q_2$ and $Q_3$ are volumetric flow rates of the input and output sections. $p_t$ is pressure at the surface of the tank while $p_b$ is the pressure at the bottom. The heigth of the fluid in the tank is $H$ and the cross-sectional area of the tank is $A$.\n",
        "\n",
        "\n",
        "&nbsp;&nbsp;&nbsp; Then, by using the definition of the capacitance, the system in th figure can be modeled as,\n",
        "\n",
        " $$ V = C*(p_b-p_t) \\qquad \\frac{dV}{dt} = Q_1+Q_2-Q_3$$\n",
        "\n",
        "$$ C*\\frac{d(p_b-p_t)}{dt}=\\sum Q$$\n",
        "\n",
        "*(P.S.: Compare this model with the capacitor we discussed in the electrical systems to observe the analogy between them.)*\n",
        "\n"
      ]
    },
    {
      "cell_type": "markdown",
      "metadata": {
        "id": "D8p1iB8DPG6V",
        "colab_type": "text"
      },
      "source": [
        "#### c) Liquid Inertance\n",
        "&nbsp;&nbsp;&nbsp;The inertance of the fluid is the change required in the volumetric flow rate to change pressure difference along the flow. Keep in mind that inertance is important especially for long and thin pipes.\n",
        "\n",
        "<center><img src=https://raw.githubusercontent.com/Dengesizizm/ME462Project/master/Week4/Figures/fluid_inertance.png></center>\n",
        "\n",
        "&nbsp;&nbsp;&nbsp;By using the definition of the fluid inertance, the system in the figure above can be modeled as,\n",
        "\n",
        "$$ p_1-p_2=I*\\frac{dQ}{dt} $$\n",
        "\n",
        "&nbsp;&nbsp;&nbsp;where $I$ is the inertance and $Q$ is the volumetric flow rate.\n",
        "\n",
        "*(P.S.: Again, you can compare this model with electrical inductor to see the analogy between them.)*"
      ]
    },
    {
      "cell_type": "markdown",
      "metadata": {
        "id": "waQpXp3FSuJl",
        "colab_type": "text"
      },
      "source": [
        "### Thermal Systems\n",
        "&nbsp;&nbsp;&nbsp;Another engineering system you may encounter in different applications is the thermal systems, especially in the heating and cooling applications. Therefore, modeling of the thermal systems is important for obtaining satisfying results in the relevant applications.\n",
        "\n",
        "&nbsp;&nbsp;&nbsp;Like in the fluid flow systems, there is also an anology between the thermal systems and electrical systems such as,\n",
        "\n",
        "$$T \\leftrightarrow voltage, \\qquad q \\leftrightarrow current $$\n",
        "\n",
        "&nbsp;&nbsp;&nbsp; where $T$ is the temperature and $q$ is the heat transfer rate. That analogy may help you to understand the thermal systems more easily."
      ]
    },
    {
      "cell_type": "markdown",
      "metadata": {
        "id": "r4DXnZM6VSnm",
        "colab_type": "text"
      },
      "source": [
        "#### a) Thermal Capacitance\n",
        "\n",
        "&nbsp;&nbsp;&nbsp;Thermal capacitance can be defined as the change in the heat energy stored for unit temperature difference,\n",
        "\n",
        "$$C*\\frac{dT}{dt}=\\sum q $$\n",
        "\n",
        "&nbsp;&nbsp;&nbsp;where $C$ is the thermal capacitance and $q$ is the heat transfer rate (change in the heat energy).\n",
        "\n",
        "<center><img src=https://raw.githubusercontent.com/Dengesizizm/ME462Project/master/Week4/Figures/thermal_capacitance.png></center>\n",
        "\n",
        "&nbsp;&nbsp;&nbsp;Then, we can obtain the model of the system shown in the figure above as,\n",
        "\n",
        "$$C*\\frac{dT}{dt}= q_1-q_2-q_3.  $$"
      ]
    },
    {
      "cell_type": "markdown",
      "metadata": {
        "id": "4slL-AdI0T5F",
        "colab_type": "text"
      },
      "source": [
        "#### b) Thermal Resistance (Conduction)\n",
        "\n",
        "&nbsp;&nbsp;&nbsp; In a conduction type heat transfer process, there is a temperature difference between two points due to thermal resistance. The heat flows from higher temperature to lower temperature as you know from the thermodynamics course.\n",
        "\n",
        "<center><img src=https://raw.githubusercontent.com/Dengesizizm/ME462Project/master/Week4/Figures/thermal_resistance.png><center>\n",
        "\n",
        "&nbsp;&nbsp;&nbsp; The mathematical model of the system given in the figure above can be found as,\n",
        "\n",
        "$$T_1-T_2=R*q$$\n",
        "\n",
        "\n",
        "&nbsp;&nbsp;&nbsp;where $T_1$ & $T_2$ are temperature values of opposing sides of the object and $q$ is the heat transfer rate between them.\n",
        "\n"
      ]
    },
    {
      "cell_type": "markdown",
      "metadata": {
        "id": "ZC2j_5885m7Y",
        "colab_type": "text"
      },
      "source": [
        "&nbsp;&nbsp;&nbsp;Up to now, you have learned modeling of the mechanical, electrical, fluid flow and thermal systems. Moreover, you can use your knowledge for modeling more complex systems that include multiple types of these systems such as DC or hydraulic servo motors. Since you know the Laplace transform, you can obtain the desired transfer functions of these systems for controller design. In the next weeks Notebook, we will look at some examples of these kind of applications before starting to basic features of the control systems.\n",
        "\n",
        "&nbsp;&nbsp;&nbsp;Until that time, you can solve examples related to Laplace transform and system modeling topics, which can be found in your lecture notes or reference books. \n",
        "\n",
        "&nbsp;&nbsp;&nbsp;If you understand these topics clearly, rest of the course will be much simpler and meaningful for you!"
      ]
    }
  ]
}