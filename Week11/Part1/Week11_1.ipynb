{
  "nbformat": 4,
  "nbformat_minor": 0,
  "metadata": {
    "colab": {
      "name": "Week11_1.ipynb",
      "provenance": [],
      "collapsed_sections": [],
      "toc_visible": true,
      "authorship_tag": "ABX9TyMH+KN1bRMXr9LsaSuas/nA",
      "include_colab_link": true
    },
    "kernelspec": {
      "name": "python3",
      "display_name": "Python 3"
    },
    "widgets": {
      "application/vnd.jupyter.widget-state+json": {
        "bde5b82259ed492cb7229db616fb6ce1": {
          "model_module": "@jupyter-widgets/controls",
          "model_name": "HBoxModel",
          "state": {
            "_view_name": "HBoxView",
            "_dom_classes": [],
            "_model_name": "HBoxModel",
            "_view_module": "@jupyter-widgets/controls",
            "_model_module_version": "1.5.0",
            "_view_count": null,
            "_view_module_version": "1.5.0",
            "box_style": "",
            "layout": "IPY_MODEL_3152ead132a9421aa74d3df6edd18053",
            "_model_module": "@jupyter-widgets/controls",
            "children": [
              "IPY_MODEL_3c44b015c3404eeda18a815d44cfd6bb",
              "IPY_MODEL_925c190b8ccb487da69d8875dc8bfcfd",
              "IPY_MODEL_80ebf69c26354382957ef7a16e67874e"
            ]
          }
        },
        "3152ead132a9421aa74d3df6edd18053": {
          "model_module": "@jupyter-widgets/base",
          "model_name": "LayoutModel",
          "state": {
            "_view_name": "LayoutView",
            "grid_template_rows": null,
            "right": null,
            "justify_content": null,
            "_view_module": "@jupyter-widgets/base",
            "overflow": null,
            "_model_module_version": "1.2.0",
            "_view_count": null,
            "flex_flow": null,
            "width": null,
            "min_width": null,
            "border": null,
            "align_items": null,
            "bottom": null,
            "_model_module": "@jupyter-widgets/base",
            "top": null,
            "grid_column": null,
            "overflow_y": null,
            "overflow_x": null,
            "grid_auto_flow": null,
            "grid_area": null,
            "grid_template_columns": null,
            "flex": null,
            "_model_name": "LayoutModel",
            "justify_items": null,
            "grid_row": null,
            "max_height": null,
            "align_content": null,
            "visibility": null,
            "align_self": null,
            "height": null,
            "min_height": null,
            "padding": null,
            "grid_auto_rows": null,
            "grid_gap": null,
            "max_width": null,
            "order": null,
            "_view_module_version": "1.2.0",
            "grid_template_areas": null,
            "object_position": null,
            "object_fit": null,
            "grid_auto_columns": null,
            "margin": null,
            "display": null,
            "left": null
          }
        },
        "3c44b015c3404eeda18a815d44cfd6bb": {
          "model_module": "@jupyter-widgets/controls",
          "model_name": "FloatSliderModel",
          "state": {
            "_view_name": "FloatSliderView",
            "style": "IPY_MODEL_e3b44d6120f9477cb8360a358c5c5e28",
            "_dom_classes": [],
            "description": "K =",
            "step": 0.1,
            "_model_name": "FloatSliderModel",
            "orientation": "horizontal",
            "max": 5,
            "_view_module": "@jupyter-widgets/controls",
            "_model_module_version": "1.5.0",
            "value": 1,
            "_view_count": null,
            "disabled": false,
            "_view_module_version": "1.5.0",
            "min": 0.1,
            "continuous_update": false,
            "readout_format": ".1f",
            "description_tooltip": null,
            "readout": true,
            "_model_module": "@jupyter-widgets/controls",
            "layout": "IPY_MODEL_76b7e104f3444358aa09b01b3ba543e3"
          }
        },
        "925c190b8ccb487da69d8875dc8bfcfd": {
          "model_module": "@jupyter-widgets/controls",
          "model_name": "FloatSliderModel",
          "state": {
            "_view_name": "FloatSliderView",
            "style": "IPY_MODEL_45d705ed8146486ea50d3ab2c7d11f6a",
            "_dom_classes": [],
            "description": "T =",
            "step": 0.1,
            "_model_name": "FloatSliderModel",
            "orientation": "horizontal",
            "max": 10,
            "_view_module": "@jupyter-widgets/controls",
            "_model_module_version": "1.5.0",
            "value": 1,
            "_view_count": null,
            "disabled": false,
            "_view_module_version": "1.5.0",
            "min": 0,
            "continuous_update": false,
            "readout_format": ".1f",
            "description_tooltip": null,
            "readout": true,
            "_model_module": "@jupyter-widgets/controls",
            "layout": "IPY_MODEL_cc25f0cbbd634a4680416396c7f158ec"
          }
        },
        "80ebf69c26354382957ef7a16e67874e": {
          "model_module": "@jupyter-widgets/controls",
          "model_name": "FloatSliderModel",
          "state": {
            "_view_name": "FloatSliderView",
            "style": "IPY_MODEL_0c006e58dabb4a1292bbe6186dfb6034",
            "_dom_classes": [],
            "description": "T_0 =",
            "step": 0.1,
            "_model_name": "FloatSliderModel",
            "orientation": "horizontal",
            "max": 5,
            "_view_module": "@jupyter-widgets/controls",
            "_model_module_version": "1.5.0",
            "value": -3.7,
            "_view_count": null,
            "disabled": false,
            "_view_module_version": "1.5.0",
            "min": -5,
            "continuous_update": false,
            "readout_format": ".1f",
            "description_tooltip": null,
            "readout": true,
            "_model_module": "@jupyter-widgets/controls",
            "layout": "IPY_MODEL_e584173186c04234ac80652bc04f2750"
          }
        },
        "e3b44d6120f9477cb8360a358c5c5e28": {
          "model_module": "@jupyter-widgets/controls",
          "model_name": "SliderStyleModel",
          "state": {
            "_view_name": "StyleView",
            "handle_color": null,
            "_model_name": "SliderStyleModel",
            "description_width": "",
            "_view_module": "@jupyter-widgets/base",
            "_model_module_version": "1.5.0",
            "_view_count": null,
            "_view_module_version": "1.2.0",
            "_model_module": "@jupyter-widgets/controls"
          }
        },
        "76b7e104f3444358aa09b01b3ba543e3": {
          "model_module": "@jupyter-widgets/base",
          "model_name": "LayoutModel",
          "state": {
            "_view_name": "LayoutView",
            "grid_template_rows": null,
            "right": null,
            "justify_content": null,
            "_view_module": "@jupyter-widgets/base",
            "overflow": null,
            "_model_module_version": "1.2.0",
            "_view_count": null,
            "flex_flow": null,
            "width": null,
            "min_width": null,
            "border": null,
            "align_items": null,
            "bottom": null,
            "_model_module": "@jupyter-widgets/base",
            "top": null,
            "grid_column": null,
            "overflow_y": null,
            "overflow_x": null,
            "grid_auto_flow": null,
            "grid_area": null,
            "grid_template_columns": null,
            "flex": null,
            "_model_name": "LayoutModel",
            "justify_items": null,
            "grid_row": null,
            "max_height": null,
            "align_content": null,
            "visibility": null,
            "align_self": null,
            "height": null,
            "min_height": null,
            "padding": null,
            "grid_auto_rows": null,
            "grid_gap": null,
            "max_width": null,
            "order": null,
            "_view_module_version": "1.2.0",
            "grid_template_areas": null,
            "object_position": null,
            "object_fit": null,
            "grid_auto_columns": null,
            "margin": null,
            "display": null,
            "left": null
          }
        },
        "45d705ed8146486ea50d3ab2c7d11f6a": {
          "model_module": "@jupyter-widgets/controls",
          "model_name": "SliderStyleModel",
          "state": {
            "_view_name": "StyleView",
            "handle_color": null,
            "_model_name": "SliderStyleModel",
            "description_width": "",
            "_view_module": "@jupyter-widgets/base",
            "_model_module_version": "1.5.0",
            "_view_count": null,
            "_view_module_version": "1.2.0",
            "_model_module": "@jupyter-widgets/controls"
          }
        },
        "cc25f0cbbd634a4680416396c7f158ec": {
          "model_module": "@jupyter-widgets/base",
          "model_name": "LayoutModel",
          "state": {
            "_view_name": "LayoutView",
            "grid_template_rows": null,
            "right": null,
            "justify_content": null,
            "_view_module": "@jupyter-widgets/base",
            "overflow": null,
            "_model_module_version": "1.2.0",
            "_view_count": null,
            "flex_flow": null,
            "width": null,
            "min_width": null,
            "border": null,
            "align_items": null,
            "bottom": null,
            "_model_module": "@jupyter-widgets/base",
            "top": null,
            "grid_column": null,
            "overflow_y": null,
            "overflow_x": null,
            "grid_auto_flow": null,
            "grid_area": null,
            "grid_template_columns": null,
            "flex": null,
            "_model_name": "LayoutModel",
            "justify_items": null,
            "grid_row": null,
            "max_height": null,
            "align_content": null,
            "visibility": null,
            "align_self": null,
            "height": null,
            "min_height": null,
            "padding": null,
            "grid_auto_rows": null,
            "grid_gap": null,
            "max_width": null,
            "order": null,
            "_view_module_version": "1.2.0",
            "grid_template_areas": null,
            "object_position": null,
            "object_fit": null,
            "grid_auto_columns": null,
            "margin": null,
            "display": null,
            "left": null
          }
        },
        "0c006e58dabb4a1292bbe6186dfb6034": {
          "model_module": "@jupyter-widgets/controls",
          "model_name": "SliderStyleModel",
          "state": {
            "_view_name": "StyleView",
            "handle_color": null,
            "_model_name": "SliderStyleModel",
            "description_width": "",
            "_view_module": "@jupyter-widgets/base",
            "_model_module_version": "1.5.0",
            "_view_count": null,
            "_view_module_version": "1.2.0",
            "_model_module": "@jupyter-widgets/controls"
          }
        },
        "e584173186c04234ac80652bc04f2750": {
          "model_module": "@jupyter-widgets/base",
          "model_name": "LayoutModel",
          "state": {
            "_view_name": "LayoutView",
            "grid_template_rows": null,
            "right": null,
            "justify_content": null,
            "_view_module": "@jupyter-widgets/base",
            "overflow": null,
            "_model_module_version": "1.2.0",
            "_view_count": null,
            "flex_flow": null,
            "width": null,
            "min_width": null,
            "border": null,
            "align_items": null,
            "bottom": null,
            "_model_module": "@jupyter-widgets/base",
            "top": null,
            "grid_column": null,
            "overflow_y": null,
            "overflow_x": null,
            "grid_auto_flow": null,
            "grid_area": null,
            "grid_template_columns": null,
            "flex": null,
            "_model_name": "LayoutModel",
            "justify_items": null,
            "grid_row": null,
            "max_height": null,
            "align_content": null,
            "visibility": null,
            "align_self": null,
            "height": null,
            "min_height": null,
            "padding": null,
            "grid_auto_rows": null,
            "grid_gap": null,
            "max_width": null,
            "order": null,
            "_view_module_version": "1.2.0",
            "grid_template_areas": null,
            "object_position": null,
            "object_fit": null,
            "grid_auto_columns": null,
            "margin": null,
            "display": null,
            "left": null
          }
        },
        "738e6114eeb74f3b927c85ab0f554422": {
          "model_module": "@jupyter-widgets/controls",
          "model_name": "HBoxModel",
          "state": {
            "_view_name": "HBoxView",
            "_dom_classes": [],
            "_model_name": "HBoxModel",
            "_view_module": "@jupyter-widgets/controls",
            "_model_module_version": "1.5.0",
            "_view_count": null,
            "_view_module_version": "1.5.0",
            "box_style": "",
            "layout": "IPY_MODEL_5bbce58c76d4488b9e7ea9eaaaf6d704",
            "_model_module": "@jupyter-widgets/controls",
            "children": [
              "IPY_MODEL_b3be0cb07a1948299f6715f7c47e4600",
              "IPY_MODEL_254a350e0b154897a4e23053e137c878"
            ]
          }
        },
        "5bbce58c76d4488b9e7ea9eaaaf6d704": {
          "model_module": "@jupyter-widgets/base",
          "model_name": "LayoutModel",
          "state": {
            "_view_name": "LayoutView",
            "grid_template_rows": null,
            "right": null,
            "justify_content": null,
            "_view_module": "@jupyter-widgets/base",
            "overflow": null,
            "_model_module_version": "1.2.0",
            "_view_count": null,
            "flex_flow": null,
            "width": null,
            "min_width": null,
            "border": null,
            "align_items": null,
            "bottom": null,
            "_model_module": "@jupyter-widgets/base",
            "top": null,
            "grid_column": null,
            "overflow_y": null,
            "overflow_x": null,
            "grid_auto_flow": null,
            "grid_area": null,
            "grid_template_columns": null,
            "flex": null,
            "_model_name": "LayoutModel",
            "justify_items": null,
            "grid_row": null,
            "max_height": null,
            "align_content": null,
            "visibility": null,
            "align_self": null,
            "height": null,
            "min_height": null,
            "padding": null,
            "grid_auto_rows": null,
            "grid_gap": null,
            "max_width": null,
            "order": null,
            "_view_module_version": "1.2.0",
            "grid_template_areas": null,
            "object_position": null,
            "object_fit": null,
            "grid_auto_columns": null,
            "margin": null,
            "display": null,
            "left": null
          }
        },
        "b3be0cb07a1948299f6715f7c47e4600": {
          "model_module": "@jupyter-widgets/controls",
          "model_name": "FloatSliderModel",
          "state": {
            "_view_name": "FloatSliderView",
            "style": "IPY_MODEL_2de2740615a04ce69892727e4cb3a8ec",
            "_dom_classes": [],
            "description": "ξ =",
            "step": 0.05,
            "_model_name": "FloatSliderModel",
            "orientation": "horizontal",
            "max": 5,
            "_view_module": "@jupyter-widgets/controls",
            "_model_module_version": "1.5.0",
            "value": 0,
            "_view_count": null,
            "disabled": false,
            "_view_module_version": "1.5.0",
            "min": 0,
            "continuous_update": false,
            "readout_format": ".05f",
            "description_tooltip": null,
            "readout": true,
            "_model_module": "@jupyter-widgets/controls",
            "layout": "IPY_MODEL_9b1892b7eb724ba49d8235385aec2f89"
          }
        },
        "254a350e0b154897a4e23053e137c878": {
          "model_module": "@jupyter-widgets/controls",
          "model_name": "FloatSliderModel",
          "state": {
            "_view_name": "FloatSliderView",
            "style": "IPY_MODEL_9aeaaac1e93840dd915692cf5a74974a",
            "_dom_classes": [],
            "description": "t_axis_size =",
            "step": 1,
            "_model_name": "FloatSliderModel",
            "orientation": "horizontal",
            "max": 100,
            "_view_module": "@jupyter-widgets/controls",
            "_model_module_version": "1.5.0",
            "value": 25,
            "_view_count": null,
            "disabled": false,
            "_view_module_version": "1.5.0",
            "min": 10,
            "continuous_update": false,
            "readout_format": ".1f",
            "description_tooltip": null,
            "readout": true,
            "_model_module": "@jupyter-widgets/controls",
            "layout": "IPY_MODEL_751cafad295148189e175b6d10b4e4b5"
          }
        },
        "2de2740615a04ce69892727e4cb3a8ec": {
          "model_module": "@jupyter-widgets/controls",
          "model_name": "SliderStyleModel",
          "state": {
            "_view_name": "StyleView",
            "handle_color": null,
            "_model_name": "SliderStyleModel",
            "description_width": "",
            "_view_module": "@jupyter-widgets/base",
            "_model_module_version": "1.5.0",
            "_view_count": null,
            "_view_module_version": "1.2.0",
            "_model_module": "@jupyter-widgets/controls"
          }
        },
        "9b1892b7eb724ba49d8235385aec2f89": {
          "model_module": "@jupyter-widgets/base",
          "model_name": "LayoutModel",
          "state": {
            "_view_name": "LayoutView",
            "grid_template_rows": null,
            "right": null,
            "justify_content": null,
            "_view_module": "@jupyter-widgets/base",
            "overflow": null,
            "_model_module_version": "1.2.0",
            "_view_count": null,
            "flex_flow": null,
            "width": null,
            "min_width": null,
            "border": null,
            "align_items": null,
            "bottom": null,
            "_model_module": "@jupyter-widgets/base",
            "top": null,
            "grid_column": null,
            "overflow_y": null,
            "overflow_x": null,
            "grid_auto_flow": null,
            "grid_area": null,
            "grid_template_columns": null,
            "flex": null,
            "_model_name": "LayoutModel",
            "justify_items": null,
            "grid_row": null,
            "max_height": null,
            "align_content": null,
            "visibility": null,
            "align_self": null,
            "height": null,
            "min_height": null,
            "padding": null,
            "grid_auto_rows": null,
            "grid_gap": null,
            "max_width": null,
            "order": null,
            "_view_module_version": "1.2.0",
            "grid_template_areas": null,
            "object_position": null,
            "object_fit": null,
            "grid_auto_columns": null,
            "margin": null,
            "display": null,
            "left": null
          }
        },
        "9aeaaac1e93840dd915692cf5a74974a": {
          "model_module": "@jupyter-widgets/controls",
          "model_name": "SliderStyleModel",
          "state": {
            "_view_name": "StyleView",
            "handle_color": null,
            "_model_name": "SliderStyleModel",
            "description_width": "",
            "_view_module": "@jupyter-widgets/base",
            "_model_module_version": "1.5.0",
            "_view_count": null,
            "_view_module_version": "1.2.0",
            "_model_module": "@jupyter-widgets/controls"
          }
        },
        "751cafad295148189e175b6d10b4e4b5": {
          "model_module": "@jupyter-widgets/base",
          "model_name": "LayoutModel",
          "state": {
            "_view_name": "LayoutView",
            "grid_template_rows": null,
            "right": null,
            "justify_content": null,
            "_view_module": "@jupyter-widgets/base",
            "overflow": null,
            "_model_module_version": "1.2.0",
            "_view_count": null,
            "flex_flow": null,
            "width": null,
            "min_width": null,
            "border": null,
            "align_items": null,
            "bottom": null,
            "_model_module": "@jupyter-widgets/base",
            "top": null,
            "grid_column": null,
            "overflow_y": null,
            "overflow_x": null,
            "grid_auto_flow": null,
            "grid_area": null,
            "grid_template_columns": null,
            "flex": null,
            "_model_name": "LayoutModel",
            "justify_items": null,
            "grid_row": null,
            "max_height": null,
            "align_content": null,
            "visibility": null,
            "align_self": null,
            "height": null,
            "min_height": null,
            "padding": null,
            "grid_auto_rows": null,
            "grid_gap": null,
            "max_width": null,
            "order": null,
            "_view_module_version": "1.2.0",
            "grid_template_areas": null,
            "object_position": null,
            "object_fit": null,
            "grid_auto_columns": null,
            "margin": null,
            "display": null,
            "left": null
          }
        },
        "dcaa83422acb4ec2911b19935135d10d": {
          "model_module": "@jupyter-widgets/output",
          "model_name": "OutputModel",
          "state": {
            "_view_name": "OutputView",
            "msg_id": "",
            "_dom_classes": [],
            "_model_name": "OutputModel",
            "outputs": [
              {
                "output_type": "stream",
                "metadata": {
                  "tags": []
                },
                "text": "\n\nPoles:  [-0.+1.j  0.-1.j]\n",
                "stream": "stdout"
              },
              {
                "output_type": "display_data",
                "metadata": {
                  "tags": [],
                  "needs_background": "light"
                },
                "image/png": "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\n",
                "text/plain": "<Figure size 5400x360 with 1 Axes>"
              }
            ],
            "_view_module": "@jupyter-widgets/output",
            "_model_module_version": "1.0.0",
            "_view_count": null,
            "_view_module_version": "1.0.0",
            "layout": "IPY_MODEL_9f339cafd2784728841076993a143414",
            "_model_module": "@jupyter-widgets/output"
          }
        },
        "9f339cafd2784728841076993a143414": {
          "model_module": "@jupyter-widgets/base",
          "model_name": "LayoutModel",
          "state": {
            "_view_name": "LayoutView",
            "grid_template_rows": null,
            "right": null,
            "justify_content": null,
            "_view_module": "@jupyter-widgets/base",
            "overflow": null,
            "_model_module_version": "1.2.0",
            "_view_count": null,
            "flex_flow": null,
            "width": null,
            "min_width": null,
            "border": null,
            "align_items": null,
            "bottom": null,
            "_model_module": "@jupyter-widgets/base",
            "top": null,
            "grid_column": null,
            "overflow_y": null,
            "overflow_x": null,
            "grid_auto_flow": null,
            "grid_area": null,
            "grid_template_columns": null,
            "flex": null,
            "_model_name": "LayoutModel",
            "justify_items": null,
            "grid_row": null,
            "max_height": null,
            "align_content": null,
            "visibility": null,
            "align_self": null,
            "height": null,
            "min_height": null,
            "padding": null,
            "grid_auto_rows": null,
            "grid_gap": null,
            "max_width": null,
            "order": null,
            "_view_module_version": "1.2.0",
            "grid_template_areas": null,
            "object_position": null,
            "object_fit": null,
            "grid_auto_columns": null,
            "margin": null,
            "display": null,
            "left": null
          }
        }
      }
    }
  },
  "cells": [
    {
      "cell_type": "markdown",
      "metadata": {
        "id": "view-in-github",
        "colab_type": "text"
      },
      "source": [
        "<a href=\"https://colab.research.google.com/github/Dengesizizm/ME462Project/blob/master/Week11/Part1/Week11_1.ipynb\" target=\"_parent\"><img src=\"https://colab.research.google.com/assets/colab-badge.svg\" alt=\"Open In Colab\"/></a>"
      ]
    },
    {
      "cell_type": "markdown",
      "metadata": {
        "id": "9SqxNmaLdNG5",
        "colab_type": "text"
      },
      "source": [
        "&nbsp;&nbsp;&nbsp;Welcome back to Control Systems Notebook! This week, we will continue studying the Step Response of LTI Systems. After that we will study on \"Dominant Poles and System Simplification\" and \"Relation Between Pole Location and Step Response\" topics."
      ]
    },
    {
      "cell_type": "markdown",
      "metadata": {
        "id": "uCGW5xFudy8-",
        "colab_type": "text"
      },
      "source": [
        "#Step Response of LTI Systems"
      ]
    },
    {
      "cell_type": "markdown",
      "metadata": {
        "id": "zLlHpCi0d1e6",
        "colab_type": "text"
      },
      "source": [
        "##Step Response of Second Order LTI Systems"
      ]
    },
    {
      "cell_type": "markdown",
      "metadata": {
        "id": "NES3h_uRd4kJ",
        "colab_type": "text"
      },
      "source": [
        "### $T_0 \\neq 0$ Case $\\color{green}{Fin}$\n",
        "\n",
        "$$G(s) = K \\frac{T_0 s + 1}{T^2 s^2 + 2 \\xi T s + 1} = K \\frac{\\eta \\omega_n s + \\omega_n^2}{s^2 + 2 \\xi \\omega_n s + \\omega_n^2} \\label{1} \\tag{1}$$\n",
        "\n",
        "</br>&nbsp;&nbsp;&nbsp;From **FVT**:\n",
        "\n",
        "$$y_f = K x_0 \\quad \\text{[excluding $\\xi = 0$ case]} $$\n",
        "\n",
        "</br>&nbsp;&nbsp;&nbsp;From **IVT**:\n",
        "\n",
        "$$y_0 = 0 \\quad , \\quad \\dot{y}_0 = \\frac{K T_0 x_0}{T^2} = \\frac{T_0}{T^2} y_f = \\eta \\omega_n y_f$$\n",
        "\n",
        "</br></br></br></br>"
      ]
    },
    {
      "cell_type": "markdown",
      "metadata": {
        "id": "1YkgkzH3eosf",
        "colab_type": "text"
      },
      "source": [
        "#### &nbsp;&nbsp;&nbsp;Overdamped ($\\xi > 1$) Case $\\color{green}{Fin}$\n",
        "\n",
        "</br>&nbsp;&nbsp;&nbsp;Equation \\eqref{1} becomes:\n",
        "\n",
        "$$\\boxed{G(s) = \\frac{K (T_0 s + 1)}{(T_1 s + 1)(T_2 s + 1)}} \\quad , \\quad \\text{[ assuming $T_1 > T_2$ ]}$$\n",
        "\n",
        "</br>&nbsp;&nbsp;&nbsp;Using partial fractions:\n",
        "\n",
        "$$G(s) = \\frac{K_1}{(T_1 s + 1)} + \\frac{K_2}{(T_2 s + 1)}$$\n",
        "\n",
        "</br>&nbsp;&nbsp;&nbsp; where,\n",
        "\n",
        "$$K_1 = \\frac{T_1 - T_0}{T_1 - T_2} K \\quad , \\quad K_2 = \\frac{T_0 - T_2}{T_1 - T_2} K$$\n",
        "\n",
        "</br></br>$$\\boxed{y(t) = y_f \\left(1 - \\frac{T_1 - T_0}{T_1 - T_2} e^{- \\frac{t}{T_1}} - \\frac{T_0 - T_2}{T_1 - T_2} e^{- \\frac{t}{T_2}}\\right) h(t)}$$\n",
        "\n",
        "\n",
        "</br>&nbsp;&nbsp;&nbsp;***Some important cases:***\n",
        "\n",
        "$\\bullet \\quad T_0 = 0 \\quad \\quad \\quad \\; \\; \\; \\implies \\text{Second order $T_0 = 0$ case}$\n",
        "</br>$\\bullet \\quad T_0 = T_2 \\quad \\quad  \\quad \\; \\implies \\text{Pole-zero cancellation, first order behaviour}$\n",
        "</br>$\\bullet \\quad T_0 = T_1 \\quad \\quad \\quad \\; \\implies \\text{Pole-zero cancellation, first order behaviour}$\n",
        "</br>$\\bullet \\quad T_0 > T_1 > T_2 \\quad \\implies \\text{Overshooting behaviour}$\n",
        "</br>$\\bullet \\quad T_0 < 0 \\quad \\quad \\quad \\; \\; \\; \\implies \\text{Reverse starting behaviour}$\n",
        "\n",
        "\n",
        "</br></br><center>[Jump to the graph](#t-0-neq-0-graph)</center>\n",
        "\n",
        "</br></br></br></br>"
      ]
    },
    {
      "cell_type": "markdown",
      "metadata": {
        "id": "OophIM7EepT8",
        "colab_type": "text"
      },
      "source": [
        "#### &nbsp;&nbsp;&nbsp;Critically Damped ($\\xi = 1$) Case $\\color{green}{Fin}$\n",
        "\n",
        "</br>&nbsp;&nbsp;&nbsp;Equation \\eqref{1} becomes:\n",
        "\n",
        "$$\\boxed{G(s) = \\frac{K (T_0 s + 1)}{(T s + 1)^2}}$$\n",
        "\n",
        "</br></br>$$\\boxed{y(t) = y_f \\left[1 - \\left(1 + \\frac{T - T_0}{T^2} t\\right) e^{- \\frac{t}{T}}\\right] h(t)}$$\n",
        "\n",
        "</br></br><center>[Jump to the graph](#t-0-neq-0-graph)</center>\n",
        "\n",
        "</br></br></br></br>"
      ]
    },
    {
      "cell_type": "markdown",
      "metadata": {
        "id": "K3JwEhRIerNN",
        "colab_type": "text"
      },
      "source": [
        "#### &nbsp;&nbsp;&nbsp;Underdamped ($0 < \\xi < 1$) Case $\\color{green}{Fin}$\n",
        "\n",
        "</br>&nbsp;&nbsp;&nbsp;Equation \\eqref{1} can be written like the following expression:\n",
        "\n",
        "$$\\boxed{G(s) = K \\frac{\\eta \\omega_n s + \\omega_n^2}{s^2 + 2 \\xi \\omega_n s + \\omega_n^2} =  K \\frac{\\eta \\omega_n s + \\omega_n^2}{(s + \\sigma)^2 + \\omega_d^2}}$$\n",
        "\n",
        "</br>&nbsp;&nbsp;&nbsp;where,\n",
        "\n",
        "$$\\sigma = \\xi  \\omega_n \\quad , \\quad \\omega_d = \\omega_n \\sqrt{1 - \\xi^2} \\quad , \\quad p_{1,2} = - \\sigma \\mp j \\omega_d$$\n",
        "\n",
        "</br></br>\n",
        "\n",
        "$$\\boxed{\n",
        "  \\begin{matrix}\n",
        "  y(t) = y_f \\left[1 - e^{- \\xi \\omega_n t}\\left(cos \\omega_d t + \\frac{\\xi - \\eta}{\\sqrt{1 - \\xi^2}} sin \\omega_d t\\right)\\right] h(t) \\\\\n",
        "  = y_f \\left[1 - a_0 e ^{- \\xi \\omega_n t} cos(\\omega_d t - \\phi)\\right] h(t) \\\\\n",
        "  = y_f \\left[1 - a_0 e ^{- \\xi \\omega_n t} sin(\\omega_d t + \\psi)\\right] h(t)\n",
        " \\end{matrix}\n",
        "}$$\n",
        "\n",
        "</br>&nbsp;&nbsp;&nbsp;where,\n",
        "\n",
        "$$a_0 = \\frac{\\sqrt{\\eta^2 - 2 \\xi \\eta + 1}}{\\sqrt{1 - \\xi^2}}$$\n",
        "\n",
        "$$\\phi = tan^{-1} \\left(\\frac{\\xi - \\eta}{\\sqrt{1 - \\xi^2}}\\right)$$\n",
        "\n",
        "$$\\psi = tan^{-1} \\left(\\frac{\\sqrt{1 - \\xi^2}}{\\xi - \\eta}\\right)$$\n",
        "\n",
        "</br></br><center>[Jump to the graph](#t-0-neq-0-graph)</center>\n",
        "\n",
        "</br></br></br></br>"
      ]
    },
    {
      "cell_type": "markdown",
      "metadata": {
        "id": "Fdu2EPqnetah",
        "colab_type": "text"
      },
      "source": [
        "#### &nbsp;&nbsp;&nbsp;Undamped ($\\xi = 0$) Case $\\color{green}{Fin}$\n",
        "\n",
        "</br>&nbsp;&nbsp;&nbsp;Equation \\eqref{1} becomes:\n",
        "\n",
        "$$\\boxed{G(s) = K \\frac{\\eta \\omega_n s + \\omega_n^2}{s^2 + \\omega_n^2}}$$\n",
        "\n",
        "$$\\boxed{\n",
        "  \\begin{matrix}\n",
        "  y(t) = y_f \\left[1 - a_0 \\: cos(\\omega_n t + \\phi_0)\\right] h(t) \\\\\n",
        "  = y_f \\left[1 - a_0 \\: sin(\\omega_n t - \\psi_0)\\right] h(t)\n",
        " \\end{matrix}\n",
        "}$$\n",
        "\n",
        "</br>&nbsp;&nbsp;&nbsp;where,\n",
        "\n",
        "$$a_0 = \\sqrt{1 + \\eta^2}$$\n",
        "\n",
        "$$\\phi_0 = tan^{-1}(\\eta)$$\n",
        "\n",
        "$$\\psi_0 = tan^{-1}(\\frac{1}{\\eta})$$\n",
        "\n",
        "</br></br></br></br>"
      ]
    },
    {
      "cell_type": "markdown",
      "metadata": {
        "id": "nY1Riy9vla04",
        "colab_type": "text"
      },
      "source": [
        "<a name=\"t-0-neq-0-graph\"></a>\n",
        "#### $T_0 \\neq 0$ Graph $\\color{green}{Fin}$"
      ]
    },
    {
      "cell_type": "code",
      "metadata": {
        "id": "mRoBJiENvN3y",
        "colab_type": "code",
        "colab": {
          "base_uri": "https://localhost:8080/",
          "height": 449,
          "referenced_widgets": [
            "bde5b82259ed492cb7229db616fb6ce1",
            "3152ead132a9421aa74d3df6edd18053",
            "3c44b015c3404eeda18a815d44cfd6bb",
            "925c190b8ccb487da69d8875dc8bfcfd",
            "80ebf69c26354382957ef7a16e67874e",
            "e3b44d6120f9477cb8360a358c5c5e28",
            "76b7e104f3444358aa09b01b3ba543e3",
            "45d705ed8146486ea50d3ab2c7d11f6a",
            "cc25f0cbbd634a4680416396c7f158ec",
            "0c006e58dabb4a1292bbe6186dfb6034",
            "e584173186c04234ac80652bc04f2750",
            "738e6114eeb74f3b927c85ab0f554422",
            "5bbce58c76d4488b9e7ea9eaaaf6d704",
            "b3be0cb07a1948299f6715f7c47e4600",
            "254a350e0b154897a4e23053e137c878",
            "2de2740615a04ce69892727e4cb3a8ec",
            "9b1892b7eb724ba49d8235385aec2f89",
            "9aeaaac1e93840dd915692cf5a74974a",
            "751cafad295148189e175b6d10b4e4b5",
            "dcaa83422acb4ec2911b19935135d10d",
            "9f339cafd2784728841076993a143414"
          ]
        },
        "outputId": "5d22f600-04eb-41c5-cba4-e09c8772d493"
      },
      "source": [
        "  !pip install control\n",
        "  from IPython.display import clear_output\n",
        "  clear_output()\n",
        "  import matplotlib.pyplot as plt\n",
        "  import numpy as np\n",
        "  import control\n",
        "  from IPython.display import display\n",
        "  from IPython.display import Markdown as md\n",
        "  from control import TransferFunction as tf\n",
        "  from control import minreal\n",
        "  from control import step_response\n",
        "  import ipywidgets as widgets\n",
        "  from ipywidgets import interact, interactive, fixed, interact_manual, Layout, HBox, Label, VBox, interactive_output\n",
        "  \n",
        "  T = None\n",
        "  T_0 = None\n",
        "  K = None\n",
        "  ξ = None\n",
        "\n",
        "\n",
        "  def calculate_response(general_t, T_0, K, T, ξ):\n",
        "    global current_tf\n",
        "    current_tf = tf([K * T_0, K], [T**2, 2*ξ*T, 1])\n",
        "    return step_response(current_tf, general_t)\n",
        "\n",
        "  def calculate_envelopes(general_t, T_0, K, T, ξ):\n",
        "    return np.ones(len(general_t)) * K * (1 + np.sqrt(1 + (T_0 / T)**2)), np.ones(len(general_t)) * K * (1 - np.sqrt(1 + (T_0 / T)**2))\n",
        "\n",
        "\n",
        "  def plot_function(T_0, K, T, ξ, t_axis_size):\n",
        "\n",
        "    general_t = np.linspace(0, t_axis_size,1000)\n",
        "    #t = np.arange(-2., 5*T + 5, 0.01)\n",
        "    figure = plt.figure(figsize=(75,5))\n",
        "    sub_plot = figure.add_subplot(131)\n",
        "\n",
        "    output_t, output_y = calculate_response(general_t, T_0, K, T, ξ)\n",
        "\n",
        "    if ξ == 0.0:\n",
        "      env_1, env_2 = calculate_envelopes(general_t, T_0, K, T, ξ)\n",
        "      sub_plot.plot(output_t, output_y, output_t, env_1, output_t, env_2)\n",
        "      sub_plot.legend([\"y(t)\", f\"(1 + $a_0$)$y_f$= {env_1[0].round(4)}\", f\"(1 - $a_0$)$y_f$= {env_2[0].round(4)}\"])\n",
        "    else:\n",
        "      sub_plot.plot(output_t, output_y)\n",
        "\n",
        "\n",
        "    plt.xticks(np.arange(-1, t_axis_size + 1, 1.0))\n",
        "    plt.ylim(min(output_y) - 0.1, max(output_y) + 0.1)\n",
        "\n",
        "    sub_plot.set_xlabel('t')\n",
        "\n",
        "\n",
        "    sub_plot.set_ylabel('y(t)')\n",
        "    sub_plot.grid(True)\n",
        "    print(\"\\n\")\n",
        "\n",
        "\n",
        "    print(\"Poles: \", current_tf.pole())\n",
        "  \n",
        "  T_0 = widgets.FloatSlider(value=1.0, min=-5.0,max=5.0, step=0.1,description='T_0 =',disabled=False,continuous_update=False,orientation='horizontal',readout=True,readout_format='.1f',)\n",
        "  K = widgets.FloatSlider(value=1.0, min=0.1,max=5.0, step=0.1,description='K =',disabled=False,continuous_update=False,orientation='horizontal',readout=True,readout_format='.1f',)\n",
        "  T = widgets.FloatSlider(value=1.0, min=0.0,max=10.0, step=0.1,description='T =',disabled=False,continuous_update=False,orientation='horizontal',readout=True,readout_format='.1f',)\n",
        "  ξ = widgets.FloatSlider(value=3.0, min=0,max=5.0, step=0.05,description='ξ =',disabled=False,continuous_update=False,orientation='horizontal',readout=True,readout_format='.05f',)\n",
        "  t_axis_size = widgets.FloatSlider(value=25.0, min=10,max=100.0, step=1,description='t_axis_size =',disabled=False,continuous_update=False,orientation='horizontal',readout=True,readout_format='.1f',)\n",
        "  out1 = interactive_output(plot_function,{\"T_0\":T_0, \"K\":K, \"T\":T, \"ξ\":ξ, \"t_axis_size\":t_axis_size})\n",
        "  \n",
        "\n",
        "  hbox1 = HBox((K, T, T_0))\n",
        "  hbox2 = HBox((ξ, t_axis_size))\n",
        "  display(hbox1, hbox2, out1)"
      ],
      "execution_count": 21,
      "outputs": [
        {
          "output_type": "display_data",
          "data": {
            "application/vnd.jupyter.widget-view+json": {
              "model_id": "bde5b82259ed492cb7229db616fb6ce1",
              "version_minor": 0,
              "version_major": 2
            },
            "text/plain": [
              "HBox(children=(FloatSlider(value=1.0, continuous_update=False, description='K =', max=5.0, min=0.1, readout_fo…"
            ]
          },
          "metadata": {
            "tags": []
          }
        },
        {
          "output_type": "display_data",
          "data": {
            "application/vnd.jupyter.widget-view+json": {
              "model_id": "738e6114eeb74f3b927c85ab0f554422",
              "version_minor": 0,
              "version_major": 2
            },
            "text/plain": [
              "HBox(children=(FloatSlider(value=3.0, continuous_update=False, description='ξ =', max=5.0, readout_format='.05…"
            ]
          },
          "metadata": {
            "tags": []
          }
        },
        {
          "output_type": "display_data",
          "data": {
            "application/vnd.jupyter.widget-view+json": {
              "model_id": "dcaa83422acb4ec2911b19935135d10d",
              "version_minor": 0,
              "version_major": 2
            },
            "text/plain": [
              "Output()"
            ]
          },
          "metadata": {
            "tags": []
          }
        }
      ]
    },
    {
      "cell_type": "markdown",
      "metadata": {
        "id": "QDiY33Lne80K",
        "colab_type": "text"
      },
      "source": [
        "###Degenerate Second Order Systems $\\color{green}{Fin}$\n",
        "\n",
        "</br>&nbsp;&nbsp;&nbsp;$\\bullet \\quad $ **System with free differentiator**\n",
        "\n",
        "$$\\boxed{G(s) = \\frac{\\color{red}{s}(b_1)}{a_2 s^2 + a_1 s + a_0}} = \\frac{b_1 s + 0}{a_2 s^2 + a_1 s + a_0}$$\n",
        "\n",
        "</br>&nbsp;&nbsp;&nbsp; Response of $G(s)$ to $x_0 h(t)$ $\\equiv$ Response of $G'(s) = \\frac{b_1}{a_2 s^2 + a_1 s + a_0}$ to $x_0 \\delta (t)$.\n",
        "\n",
        "</br>&nbsp;&nbsp;&nbsp;An example system is as follows:\n",
        "\n",
        "<center><img src=\"https://raw.githubusercontent.com/Dengesizizm/ME462Project/master/Week11/Part1/Figures/example_degenerate_1.png\" width=400></img></center>\n",
        "\n",
        "$$m \\ddot{y} + b \\dot{y} + k y = b \\dot{x} \\quad \\implies \\quad \\frac{Y(s)}{X(s)} = \\frac{bs}{m s^2 + bs + k}$$\n",
        "\n",
        "</br>&nbsp;&nbsp;&nbsp;$\\bullet \\quad $ **System with one free integrator**\n",
        "\n",
        "$$\\boxed{G(s) = \\frac{b_1 s + b_0}{\\color{red}{s}(a_2 s + a_1)}} = \\frac{b_1 s + b_0}{a_2 s^2 + a_1 s + 0}$$\n",
        "\n",
        "</br>&nbsp;&nbsp;&nbsp; Response of $G(s)$ to $x_0 h(t)$ $\\equiv$ Response of $G'(s) = \\frac{b_1 s + b_0}{a_2 s + a_1}$ to $x_0 u_r (t)$.\n",
        "\n",
        "</br>&nbsp;&nbsp;&nbsp;An example system is as follows:\n",
        "\n",
        "<center><img src=\"https://raw.githubusercontent.com/Dengesizizm/ME462Project/master/Week11/Part1/Figures/example_degenerate_2.png\" width=400></img></center>\n",
        "\n",
        "$$m \\ddot{y} + b \\dot{y} = f \\quad \\implies \\quad \\frac{Y(s)}{F(s)} = \\frac{1}{s (m s + b)}$$\n",
        "\n",
        "</br>&nbsp;&nbsp;&nbsp;$\\bullet \\quad $ **System with two free integrator**\n",
        "\n",
        "$$\\boxed{G(s) = \\frac{b_1 s + b_0}{\\color{red}{s^2}(a_2)}} = \\frac{b_1 s + b_0}{a_2 s^2 + 0 s + 0}$$\n",
        "\n",
        "</br>&nbsp;&nbsp;&nbsp;An example system is as follows:\n",
        "\n",
        "<center><img src=\"https://raw.githubusercontent.com/Dengesizizm/ME462Project/master/Week11/Part1/Figures/example_degenerate_3.png\" width=200></img></center>\n",
        "\n",
        "$$m \\ddot{y} = f \\quad \\implies \\quad \\frac{Y(s)}{F(s)} = \\frac{1}{s^2 (m)}$$"
      ]
    },
    {
      "cell_type": "markdown",
      "metadata": {
        "id": "9JMsbkdcQMLE",
        "colab_type": "text"
      },
      "source": [
        "#### Degenerate Second Order Systems Graph $\\color{green}{Fin}$"
      ]
    },
    {
      "cell_type": "code",
      "metadata": {
        "id": "BLJ0ABqrQZ9T",
        "colab_type": "code",
        "colab": {}
      },
      "source": [
        "  !pip install ipywidgets\n",
        "  !pip install control\n",
        "  !jupyter nbextension enable --py widgetsnbextension\n",
        "  !pip install nodejs\n",
        "  from IPython.display import clear_output\n",
        "  clear_output()\n",
        "  import matplotlib.pyplot as plt\n",
        "  import numpy as np\n",
        "  import control\n",
        "  from IPython.display import display\n",
        "  from IPython.display import Markdown as md\n",
        "  from control import TransferFunction as tf\n",
        "  from control import minreal\n",
        "  from control import step_response\n",
        "  import ipywidgets as widgets\n",
        "  from ipywidgets import interact, interactive, fixed, interact_manual, Layout, HBox, Label, VBox, interactive_output\n",
        "  \n",
        "  T = None\n",
        "  T_0 = None\n",
        "  K = None\n",
        "  ξ = None\n",
        "\n",
        "  def calculate_response(general_t, g_num1, g_num2, g_den1, g_den2, g_den3):\n",
        "    global current_tf\n",
        "    current_tf = tf([g_num1, g_num2], [g_den1, g_den2, g_den3])\n",
        "    return step_response(current_tf, general_t)\n",
        "\n",
        "\n",
        "  def plot_function(g_num1, g_num2, g_den1, g_den2, g_den3, t_axis_size):\n",
        "\n",
        "    general_t = np.linspace(0, t_axis_size,1000)\n",
        "    figure = plt.figure(figsize=(75,5))\n",
        "    sub_plot = figure.add_subplot(131)\n",
        "\n",
        "    output_t, output_y = calculate_response(general_t, g_num1, g_num2, g_den1, g_den2, g_den3)\n",
        "\n",
        "\n",
        "    sub_plot.plot(output_t, output_y)\n",
        "\n",
        "\n",
        "    plt.xticks(np.arange(-1, t_axis_size + 1, 1.0))\n",
        "    plt.ylim(min(output_y) - 0.1, max(output_y) + 0.1)\n",
        "\n",
        "    sub_plot.set_xlabel('t')\n",
        "\n",
        "\n",
        "    sub_plot.set_ylabel('y(t)')\n",
        "    sub_plot.grid(True)\n",
        "    print(\"\\n\")\n",
        "\n",
        "    display(md(\"$G(s) = \\\\frac{\" + str(g_num1) + \"s + \" + str(g_num2) + \"}{\" + str(g_den1) + \"s^2 + \" + str(g_den2) + \"s + \" + str(g_den3) + \"}$\"))\n",
        "\n",
        "  \n",
        "  display(md(\"$ $\"))\n",
        "  g_num1 = widgets.BoundedFloatText(value=1,min=-100.0,max=100.0,step=0.1,description=u'Numerator: ',disabled=False,layout=Layout(width='10%', height='80px'))\n",
        "  g_num2 = widgets.BoundedFloatText(value=1,min=-100.0,max=100.0,step=0.1,description=u'',disabled=False,layout=Layout(width='5%', height='80px'))\n",
        "  g_den1 = widgets.BoundedFloatText(value=1,min=-100.0,max=100.0,step=0.1,description=u'Denumerator: ',disabled=False,layout=Layout(width='10%', height='80px'))\n",
        "  g_den2 = widgets.BoundedFloatText(value=1,min=-100.0,max=100.0,step=0.1,description=u'',disabled=False,layout=Layout(width='5%', height='80px'))\n",
        "  g_den3 = widgets.BoundedFloatText(value=1,min=-100.0,max=100.0,step=0.1,description=u'',disabled=False,layout=Layout(width='5%', height='80px'))\n",
        "\n",
        "\n",
        "  t_axis_size = widgets.FloatSlider(value=25.0, min=10,max=100.0, step=1,description='t_axis_size =',disabled=False,continuous_update=False,orientation='horizontal',readout=True,readout_format='.1f',)\n",
        "  out1 = interactive_output(plot_function,{\"g_num1\":g_num1, \"g_num2\":g_num2, \"g_den1\":g_den1, \"g_den2\":g_den2, \"g_den3\":g_den3, \"t_axis_size\":t_axis_size})\n",
        "  \n",
        "\n",
        "  hbox1 = HBox((g_num1, Label(\"s + \"), g_num2))\n",
        "  hbox2 = HBox((g_den1, Label(\"s^2 + \"), g_den2, Label(\"s + \"), g_den3))\n",
        "  hbox3 = HBox((t_axis_size, Label(\"\")))\n",
        "  display(hbox1, hbox2, hbox3, out1)"
      ],
      "execution_count": null,
      "outputs": []
    },
    {
      "cell_type": "markdown",
      "metadata": {
        "id": "W4xmW3g2fdxT",
        "colab_type": "text"
      },
      "source": [
        "## Step Response of Higher Order LTI Systems ($n > 3$) $\\color{red}{Unfin}$\n",
        "\n",
        "$$\\boxed{\n",
        "  \\begin{matrix}\n",
        "  G(s) = \\frac{b_m s^m + \\dots + b_1 s + b_0}{a_n s^n + \\dots + a_1 s + a_0} \\\\\n",
        "  = K \\frac{T_0^m s^m + \\beta_{m - 1} T_0^{m-1} s^{m - 1} + \\dots + \\beta_1 T_0 s + 1}{T^n s^n + \\alpha_{n-1} T^{n - 1} s^{n - 1} + \\dots + \\alpha_1 T s + 1} \\\\\n",
        "  = K \\frac{\\eta^m \\omega_n^{n - m} s^m + \\dots + \\eta \\beta_1 \\omega_n^{n - 1} s + \\omega_n^{n}}{s^n + \\alpha_{n-1} \\omega_n s^{n - 1} + \\dots + \\alpha_1 \\omega_n^{n - 1} s + \\omega_n^{n}}\n",
        " \\end{matrix}\n",
        "}$$\n",
        "\n",
        "</br>&nbsp;&nbsp;&nbsp;where:\n",
        "\n",
        "$$n \\geq 3 \\text{ and } m < n$$"
      ]
    },
    {
      "cell_type": "markdown",
      "metadata": {
        "id": "wgoS_f3dgPR6",
        "colab_type": "text"
      },
      "source": [
        "### &nbsp;&nbsp;&nbsp;Decomposition of Higher Order Systems $\\color{red}{Unfin}$"
      ]
    },
    {
      "cell_type": "markdown",
      "metadata": {
        "id": "D9gshEwjgQv3",
        "colab_type": "text"
      },
      "source": [
        "### &nbsp;&nbsp;&nbsp;Relation Between Pole Location and Step Response $\\color{red}{Unfin}$"
      ]
    },
    {
      "cell_type": "markdown",
      "metadata": {
        "id": "JkynbyqtgYuh",
        "colab_type": "text"
      },
      "source": [
        "### &nbsp;&nbsp;&nbsp;Dominant Poles and System Simplification $\\color{red}{Unfin}$"
      ]
    }
  ]
}