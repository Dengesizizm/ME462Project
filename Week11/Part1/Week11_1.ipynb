{
  "nbformat": 4,
  "nbformat_minor": 0,
  "metadata": {
    "colab": {
      "name": "Week11 - 1.ipynb",
      "provenance": [],
      "collapsed_sections": [],
      "toc_visible": true,
      "authorship_tag": "ABX9TyOEmi2a6CX6e5skMZf0lR9D",
      "include_colab_link": true
    },
    "kernelspec": {
      "name": "python3",
      "display_name": "Python 3"
    }
  },
  "cells": [
    {
      "cell_type": "markdown",
      "metadata": {
        "id": "view-in-github",
        "colab_type": "text"
      },
      "source": [
        "<a href=\"https://colab.research.google.com/github/Dengesizizm/ME462Project/blob/master/Week11/Part1/Week11_1.ipynb\" target=\"_parent\"><img src=\"https://colab.research.google.com/assets/colab-badge.svg\" alt=\"Open In Colab\"/></a>"
      ]
    },
    {
      "cell_type": "markdown",
      "metadata": {
        "id": "9SqxNmaLdNG5",
        "colab_type": "text"
      },
      "source": [
        "&nbsp;&nbsp;&nbsp;Welcome back to Control Systems Notebook! This week, we will continue studying the Step Response of LTI Systems. After that we will study on \"Dominant Poles and System Simplification\" and \"Relation Between Pole Location and Step Response\" topics."
      ]
    },
    {
      "cell_type": "markdown",
      "metadata": {
        "id": "uCGW5xFudy8-",
        "colab_type": "text"
      },
      "source": [
        "#Step Response of LTI Systems"
      ]
    },
    {
      "cell_type": "markdown",
      "metadata": {
        "id": "zLlHpCi0d1e6",
        "colab_type": "text"
      },
      "source": [
        "##Step Response of Second Order LTI Systems"
      ]
    },
    {
      "cell_type": "markdown",
      "metadata": {
        "id": "NES3h_uRd4kJ",
        "colab_type": "text"
      },
      "source": [
        "### $T_0 \\neq 0$ Case $\\color{green}{Fin}$\n",
        "\n",
        "$$G(s) = K \\frac{T_0 s + 1}{T^2 s^2 + 2 \\xi T s + 1} = K \\frac{\\eta \\omega_n s + \\omega_n^2}{s^2 + 2 \\xi \\omega_n s + \\omega_n^2} \\label{1} \\tag{1}$$\n",
        "\n",
        "</br>&nbsp;&nbsp;&nbsp;From **FVT**:\n",
        "\n",
        "$$y_f = K x_0 \\quad \\text{[excluding $\\xi = 0$ case]} $$\n",
        "\n",
        "</br>&nbsp;&nbsp;&nbsp;From **IVT**:\n",
        "\n",
        "$$y_0 = 0 \\quad , \\quad \\dot{y}_0 = \\frac{K T_0 x_0}{T^2} = \\frac{T_0}{T^2} y_f = \\eta \\omega_n y_f$$\n",
        "\n",
        "</br></br></br></br>"
      ]
    },
    {
      "cell_type": "markdown",
      "metadata": {
        "id": "1YkgkzH3eosf",
        "colab_type": "text"
      },
      "source": [
        "#### &nbsp;&nbsp;&nbsp;Overdamped ($\\xi > 1$) Case $\\color{red}{Unfin}$\n",
        "\n",
        "</br>&nbsp;&nbsp;&nbsp;Equation \\eqref{1} becomes:\n",
        "\n",
        "$$\\boxed{G(s) = \\frac{K (T_0 s + 1)}{(T_1 s + 1)(T_2 s + 1)}} \\quad , \\quad \\text{[ assuming $T_1 > T_2$ ]}$$\n",
        "\n",
        "</br>&nbsp;&nbsp;&nbsp;Using partial fractions:\n",
        "\n",
        "$$G(s) = \\frac{K_1}{(T_1 s + 1)} + \\frac{K_2}{(T_2 s + 1)}$$\n",
        "\n",
        "</br>&nbsp;&nbsp;&nbsp; where,\n",
        "\n",
        "$$K_1 = \\frac{T_1 - T_0}{T_1 - T_2} K \\quad , \\quad K_2 = \\frac{T_0 - T_2}{T_1 - T_2} K$$\n",
        "\n",
        "</br></br>$$\\boxed{y(t) = y_f \\left(1 - \\frac{T_1 - T_0}{T_1 - T_2} e^{- \\frac{t}{T_1}} - \\frac{T_0 - T_2}{T_1 - T_2} e^{- \\frac{t}{T_2}}\\right) h(t)}$$\n",
        "\n",
        "\n",
        "</br></br>$$\\color{red}{\\text{!!! EXPLAIN CASES !!!}}$$\n",
        "\n",
        "</br></br></br></br>"
      ]
    },
    {
      "cell_type": "markdown",
      "metadata": {
        "id": "OophIM7EepT8",
        "colab_type": "text"
      },
      "source": [
        "#### &nbsp;&nbsp;&nbsp;Critically Damped ($\\xi = 1$) Case $\\color{red}{Unfin}$\n",
        "\n",
        "</br>&nbsp;&nbsp;&nbsp;Equation \\eqref{1} becomes:\n",
        "\n",
        "$$\\boxed{G(s) = \\frac{K (T_0 s + 1)}{(T s + 1)^2}}$$\n",
        "\n",
        "</br></br>$$\\boxed{y(t) = y_f \\left[1 - \\left(1 + \\frac{T - T_0}{T^2} t\\right) e^{- \\frac{t}{T}}\\right] h(t)}$$\n",
        "\n",
        "</br></br></br></br>"
      ]
    },
    {
      "cell_type": "markdown",
      "metadata": {
        "id": "K3JwEhRIerNN",
        "colab_type": "text"
      },
      "source": [
        "#### &nbsp;&nbsp;&nbsp;Underdamped ($0 < \\xi < 1$) Case $\\color{red}{Unfin}$\n",
        "\n",
        "</br>&nbsp;&nbsp;&nbsp;Equation \\eqref{1} can be written like the following expression:\n",
        "\n",
        "$$\\boxed{G(s) = K \\frac{\\eta \\omega_n s + \\omega_n^2}{s^2 + 2 \\xi \\omega_n s + \\omega_n^2} =  K \\frac{\\eta \\omega_n s + \\omega_n^2}{(s + \\sigma)^2 + \\omega_d^2}}$$\n",
        "\n",
        "</br>&nbsp;&nbsp;&nbsp;where,\n",
        "\n",
        "$$\\sigma = \\xi  \\omega_n \\quad , \\quad \\omega_d = \\omega_n \\sqrt{1 - \\xi^2} \\quad , \\quad p_{1,2} = - \\sigma \\mp j \\omega_d$$\n",
        "\n",
        "</br></br>\n",
        "\n",
        "$$\\boxed{\n",
        "  \\begin{matrix}\n",
        "  y(t) = y_f \\left[1 - e^{- \\xi \\omega_n t}\\left(cos \\omega_d t + \\frac{\\xi - \\eta}{\\sqrt{1 - \\xi^2}} sin \\omega_d t\\right)\\right] h(t) \\\\\n",
        "  = y_f \\left[1 - a_0 e ^{- \\xi \\omega_n t} cos(\\omega_d t - \\phi)\\right] h(t) \\\\\n",
        "  = y_f \\left[1 - a_0 e ^{- \\xi \\omega_n t} sin(\\omega_d t + \\psi)\\right] h(t)\n",
        " \\end{matrix}\n",
        "}$$\n",
        "\n",
        "</br>&nbsp;&nbsp;&nbsp;where,\n",
        "\n",
        "$$a_0 = \\frac{\\sqrt{\\eta^2 - 2 \\xi \\eta + 1}}{\\sqrt{1 - \\xi^2}}$$\n",
        "\n",
        "$$\\phi = tan^{-1} \\left(\\frac{\\xi - \\eta}{\\sqrt{1 - \\xi^2}}\\right)$$\n",
        "\n",
        "$$\\psi = tan^{-1} \\left(\\frac{\\sqrt{1 - \\xi^2}}{\\xi - \\eta}\\right)$$\n",
        "\n",
        "</br></br></br></br>"
      ]
    },
    {
      "cell_type": "markdown",
      "metadata": {
        "id": "Fdu2EPqnetah",
        "colab_type": "text"
      },
      "source": [
        "#### &nbsp;&nbsp;&nbsp;Undamped ($\\xi = 0$) Case $\\color{red}{Unfin}$\n",
        "\n",
        "</br>&nbsp;&nbsp;&nbsp;Equation \\eqref{1} becomes:\n",
        "\n",
        "$$\\boxed{G(s) = K \\frac{\\eta \\omega_n s + \\omega_n^2}{s^2 + \\omega_n^2}}$$\n",
        "\n",
        "$$\\boxed{\n",
        "  \\begin{matrix}\n",
        "  y(t) = y_f \\left[1 - a_0 \\: cos(\\omega_n t + \\phi_0)\\right] h(t) \\\\\n",
        "  = y_f \\left[1 - a_0 \\: sin(\\omega_n t - \\psi_0)\\right] h(t)\n",
        " \\end{matrix}\n",
        "}$$\n",
        "\n",
        "</br>&nbsp;&nbsp;&nbsp;where,\n",
        "\n",
        "$$a_0 = \\sqrt{1 + \\eta^2}$$\n",
        "\n",
        "$$\\phi_0 = tan^{-1}(\\eta)$$\n",
        "\n",
        "$$\\psi_0 = tan^{-1}(\\frac{1}{\\eta})$$\n",
        "\n",
        "</br></br></br></br>"
      ]
    },
    {
      "cell_type": "markdown",
      "metadata": {
        "id": "nY1Riy9vla04",
        "colab_type": "text"
      },
      "source": [
        "#### $T_0 \\neq 0$ Graph $\\color{red}{Unfin}$"
      ]
    },
    {
      "cell_type": "markdown",
      "metadata": {
        "id": "QDiY33Lne80K",
        "colab_type": "text"
      },
      "source": [
        "###Degenerate Second Order Systems Case $\\color{red}{Unfin}$"
      ]
    },
    {
      "cell_type": "markdown",
      "metadata": {
        "id": "W4xmW3g2fdxT",
        "colab_type": "text"
      },
      "source": [
        "## Step Response of Higher Order LTI Systems ($n > 3$) $\\color{red}{Unfin}$\n",
        "\n",
        "$$\\boxed{\n",
        "  \\begin{matrix}\n",
        "  y(t) = y_f \\left[1 - e^{- \\xi \\omega_n t}\\left(cos \\omega_d t + \\frac{\\xi}{\\sqrt{1 - \\xi^2}} sin \\omega_d t\\right)\\right] h(t) \\\\\n",
        "  = y_f \\left[1 - a_0 e ^{- \\xi \\omega_n t} cos(\\omega_d t - \\phi)\\right] h(t) \\\\\n",
        "  = y_f \\left[1 - a_0 e ^{- \\xi \\omega_n t} sin(\\omega_d t + \\psi)\\right] h(t)\n",
        " \\end{matrix}\n",
        "}$$"
      ]
    },
    {
      "cell_type": "markdown",
      "metadata": {
        "id": "wgoS_f3dgPR6",
        "colab_type": "text"
      },
      "source": [
        "### &nbsp;&nbsp;&nbsp;Decomposition of Higher Order Systems $\\color{red}{Unfin}$"
      ]
    },
    {
      "cell_type": "markdown",
      "metadata": {
        "id": "D9gshEwjgQv3",
        "colab_type": "text"
      },
      "source": [
        "### &nbsp;&nbsp;&nbsp;Relation Between Pole Location and Step Response $\\color{red}{Unfin}$"
      ]
    },
    {
      "cell_type": "markdown",
      "metadata": {
        "id": "JkynbyqtgYuh",
        "colab_type": "text"
      },
      "source": [
        "### &nbsp;&nbsp;&nbsp;Dominant Poles and System Simplification $\\color{red}{Unfin}$"
      ]
    }
  ]
}