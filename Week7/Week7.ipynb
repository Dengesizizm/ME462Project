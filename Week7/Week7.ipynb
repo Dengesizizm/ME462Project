{
  "nbformat": 4,
  "nbformat_minor": 0,
  "metadata": {
    "colab": {
      "name": "Week7.ipynb",
      "provenance": [],
      "collapsed_sections": [],
      "toc_visible": true,
      "authorship_tag": "ABX9TyOHiUz73yczqTUfpdcpGrYA",
      "include_colab_link": true
    },
    "kernelspec": {
      "name": "python3",
      "display_name": "Python 3"
    }
  },
  "cells": [
    {
      "cell_type": "markdown",
      "metadata": {
        "id": "view-in-github",
        "colab_type": "text"
      },
      "source": [
        "<a href=\"https://colab.research.google.com/github/Dengesizizm/ME462Project/blob/master/Week7/Week7.ipynb\" target=\"_parent\"><img src=\"https://colab.research.google.com/assets/colab-badge.svg\" alt=\"Open In Colab\"/></a>"
      ]
    },
    {
      "cell_type": "markdown",
      "metadata": {
        "id": "g1DaR3YqW5SE",
        "colab_type": "text"
      },
      "source": [
        "# General Requirements for a Control System\n",
        "\n",
        "&nbsp;&nbsp;&nbsp;In the last week's notebook, we have covered the three basic characteristics of control systems: regulator characteristics, servo characteristics and parameter sensitivity. There are also three additional requirements for a control system: stability, accuracy and satisfactory transient response.</br></br>\n",
        "\n",
        "&nbsp;&nbsp;&nbsp;**Stability** $\\implies$ The controlled output transients should die out, and a (probably new) steady state must be reached.</br>\n",
        "&nbsp;&nbsp;&nbsp;**Accuracy** $\\implies$ This new steady state value of the controlled output should be as close to its desired value as possible.</br>\n",
        "&nbsp;&nbsp;&nbsp;**Satisfactory transient response** $\\implies$ Transients should die out quickly without excessive oscillations.</br></br>\n",
        "\n",
        "&nbsp;&nbsp;&nbsp;This week, we will be starting with the [Stability Analysis](#stability-analysis). However, we need to first understand what is the [Time Response of LTI Systems](#time-response)."
      ]
    },
    {
      "cell_type": "markdown",
      "metadata": {
        "id": "6rGk_jeJXOCm",
        "colab_type": "text"
      },
      "source": [
        "<a name=\"time-response\"></a>\n",
        "# Time Response of LTI Systems\n",
        "\n",
        "&nbsp;&nbsp;&nbsp;**Time Response:** The response of a system to the standard test inputs (i.e., impulse, step, ramp, and acceleration inputs) when the <ins>**I.C.'s**</ins> (Initial Conditions) are zero."
      ]
    },
    {
      "cell_type": "markdown",
      "metadata": {
        "id": "mHD_2fYbXSO-",
        "colab_type": "text"
      },
      "source": [
        "## Impulse Response\n",
        "\n",
        "&nbsp;&nbsp;&nbsp;***Impulse function*** is a special case of ***pulse function***. To have a better understanding, let's start with ***unit pulse function***.\n",
        "\n",
        "$$\\text{Unit pulse function} = \\pi_\\varepsilon(t) = \n",
        "  \\begin{cases}\n",
        "    1/\\varepsilon       & \\quad \\text{if } 0\\leq t \\leq \\varepsilon\\\\\n",
        "    0  & \\quad \\text{otherwise}\n",
        "  \\end{cases}$$\n",
        "\n",
        "<center><img src=\"https://raw.githubusercontent.com/Dengesizizm/ME462Project/master/Week7/Drawings/Unit%20Pulse.png\"></img></center>\n",
        "\n",
        "</br>&nbsp;&nbsp;&nbsp;Then, we can define the ***unit impulse function*** as:\n",
        "\n",
        "$$\\lim \\limits_{\\varepsilon \\to 0} \\pi_\\varepsilon (t) = \\delta (t) =\n",
        "  \\begin{cases}\n",
        "    \\infty       & \\quad \\text{if } t = 0\\\\\n",
        "    0  & \\quad \\text{if } t \\neq 0\n",
        "  \\end{cases}$$\n",
        "\n",
        "</br></br>&nbsp;&nbsp;&nbsp;While calculating the area under the unit impulse function, we can imagine a limit such as:\n",
        "\n",
        "$$\\lim \\limits_{x \\to 0}(\\frac{1}{x} * x) = \\lim \\limits_{x \\to 0} (1) = 1\n",
        "  \\begin{cases}\n",
        "  \\text{where $\\frac{1}{x}$ is the height and $x$ is the width}\n",
        "  \\end{cases}$$\n",
        "\n",
        "</br></br>&nbsp;&nbsp;&nbsp;Or we can simply show that:\n",
        "\n",
        "$$\\int \\limits_{-\\infty}^{+\\infty} \\delta (t) \\mathrm{d}t = \\int \\limits_{0^-}^{0^+} \\delta (t) \\mathrm{d}t = 1$$\n",
        "\n",
        "&nbsp;&nbsp;&nbsp;Therefore,\n",
        "\n",
        "$$\\boxed{L [\\delta (t)] = 1}$$\n",
        "\n",
        "</br>&nbsp;&nbsp;&nbsp;***Unit impulse response*** is the response of the system to the ***unit impulse input***.\n",
        "\n",
        "$$Y_{ui}(s) = G(s) * 1 = G(s)$$\n",
        "\n",
        "</br>$$\\therefore \\: y_{ui}(t) = L^{-1}[G(s)] = g(t)$$\n",
        "\n",
        "&nbsp;&nbsp;&nbsp;We can generalize this to obtain ***general impulse response*** as:\n",
        "\n",
        "$$x(t) = I_o \\: \\delta (t) \\implies y(t) = I_o \\: g(t) = I_o \\: y_{ui}(t)$$"
      ]
    },
    {
      "cell_type": "markdown",
      "metadata": {
        "id": "8uIBdrvHXVbH",
        "colab_type": "text"
      },
      "source": [
        "## Step Response\n",
        "\n",
        "&nbsp;&nbsp;&nbsp;We can define the ***unit step function*** as:\n",
        "\n",
        "$$\\text{Unit step function} = h(t) = \n",
        "  \\begin{cases}\n",
        "    1       & \\quad \\text{if } t \\geq 0\\\\\n",
        "    0  & \\quad \\text{if } t < 0\n",
        "  \\end{cases} \\label{1} \\tag{1}$$\n",
        "\n",
        "<center><img src=\"https://raw.githubusercontent.com/Dengesizizm/ME462Project/master/Week7/Drawings/Unit%20Step.png\"></img></center>\n",
        "\n",
        "$$h(t) = \\int \\limits_0^t \\delta (\\tau) \\text{d}\\tau$$\n",
        "\n",
        "\n",
        "\n",
        "\n",
        "---\n",
        "\n",
        "\n",
        "&nbsp;&nbsp;&nbsp;***Note:*** The integral of *unit impulse function* equals to 1 if it includes where the impulse lies, i.e. the origin.\n",
        "\n",
        "\n",
        "---\n",
        "\n",
        "\n",
        "&nbsp;&nbsp;&nbsp;Therefore,\n",
        "\n",
        "$$\\boxed{L[h(t)] = \\frac{1}{s}}$$\n",
        "\n",
        "</br>&nbsp;&nbsp;&nbsp;***Unit step response*** is the response of the system to the ***unit step input***.\n",
        "\n",
        "$$Y_{us}(s) = G(s) * \\frac{1}{s} = \\frac{1}{s} \\: Y_{ui}(s)$$\n",
        "\n",
        "$$\\therefore \\: y_{us}(t) = \\int \\limits_0^t y_{ui} (\\tau) \\text{d}\\tau$$\n",
        "\n",
        "$$\\implies Y_{ui}(s) = s \\: Y_{us}(s) \\implies y_{ui}(t) = \\dot{y}_{us}(t) \\label{2} \\tag{2}$$\n",
        "\n",
        "</br>&nbsp;&nbsp;&nbsp;We can generalize this to obtain ***general step response*** as:\n",
        "\n",
        "$$x(t) = x_o \\: h(t) \\implies y(t) = x_o \\: y_{us}(t)$$\n",
        "\n",
        "</br></br></br>\n",
        "\n",
        "---\n",
        "\n",
        "\n",
        "&nbsp;&nbsp;&nbsp;To have a better understanding about the relation between unit impulse and unit step functions, let's solve a quick problem.\n",
        "\n",
        "&nbsp;&nbsp;&nbsp;**Ex:**\n",
        "\n",
        "&nbsp;&nbsp;&nbsp;Given: $y_{us}(t) = e^{2t} - e^{-2t} \\quad \\text{for} \\quad t \\geq 0$\n",
        "\n",
        "&nbsp;&nbsp;&nbsp;Find: $y_{ui}(t)$\n",
        "\n",
        "</br>Since the *unit step function* equals to $1$ when $t \\geq 0$, we can write the given $y_{us}(t)$ as follows:\n",
        "\n",
        "$$y_{us}(t) = [e^{2t} - e^{-2t}] * h(t)$$\n",
        "\n",
        "</br>From \\eqref{1} and \\eqref{2}, we know that $\\dot{h}(t) = \\delta (t)$ and $y_{ui}(t) = \\dot{y}_{us}(t)$,\n",
        "\n",
        "$$y_{ui}(t) = \\dot{y}_{us}(t) = [2 e^{2t} - 2e^{-2t}]*h(t) + [e^{2t} - e^{-2t}] * \\delta (t)$$\n",
        "\n",
        "</br>Since the ***unit impulse function*** equals to zero at any point other than the origin, we can write the expression $f(t) * \\delta (t)$ like $f(0) * \\delta (t)$.\n",
        "\n",
        "$$\\boxed{y_{ui}(t)} = [2 e^{2t} - 2e^{-2t}]*h(t) + 0 * \\delta (t) = \\boxed{[2 e^{2t} - 2e^{-2t}]*h(t)}$$\n",
        "\n",
        "\n",
        "---\n",
        "\n"
      ]
    },
    {
      "cell_type": "markdown",
      "metadata": {
        "id": "0DRrWqd6XXS6",
        "colab_type": "text"
      },
      "source": [
        "## Ramp Response\n",
        "\n",
        "&nbsp;&nbsp;&nbsp;We can define the ***unit ramp function*** as:\n",
        "\n",
        "$$\\text{Unit ramp function} = u_r(t) = t \\: h(t) = \n",
        "  \\begin{cases}\n",
        "    t       & \\quad \\text{if } t \\geq 0\\\\\n",
        "    0  & \\quad \\text{if } t < 0\n",
        "  \\end{cases}$$\n",
        "\n",
        "<center><img src=\"https://raw.githubusercontent.com/Dengesizizm/ME462Project/master/Week7/Drawings/Unit%20Ramp.png\"></img></center>\n",
        "\n",
        "$$u_r(t) = \\int \\limits_0^t h(\\tau) \\text{d}\\tau$$\n",
        "\n",
        "$$\\boxed{L[u_r(t)] = \\frac{1}{s^2}}$$\n",
        "\n",
        "</br>&nbsp;&nbsp;&nbsp;***Unit ramp response*** is the response of the system to the ***unit ramp input***.\n",
        "\n",
        "$$Y_{ur}(s) = G(s) * \\frac{1}{s^2} = \\frac{1}{s} \\: \\left[G(s) * \\frac{1}{s}\\right] = \\frac{1}{s} \\: Y_{us}(s)$$\n",
        "\n",
        "$$\\therefore \\: y_{ur}(t) = \\int \\limits_0^t y_{us} (\\tau) \\text{d}\\tau$$\n",
        "\n",
        "$$\\implies y_{us}(t) = \\dot{y}_{ur}(t)$$\n",
        "\n",
        "</br>&nbsp;&nbsp;&nbsp;We can generalize this to obtain ***general ramp response*** as:\n",
        "\n",
        "$$x(t) = v_o \\: t \\: h(t) = v_o \\: u_r(t) \\implies y(t) = v_o \\: y_{ur}(t)$$"
      ]
    },
    {
      "cell_type": "markdown",
      "metadata": {
        "id": "7-lrmDl7XauK",
        "colab_type": "text"
      },
      "source": [
        "## Acceleration Response\n",
        "\n",
        "&nbsp;&nbsp;&nbsp;We can define the ***unit acceleration function*** as:\n",
        "\n",
        "$$\\text{Unit acceleration function} = u_a(t) = \\frac{1}{2} \\: t^2 \\: h(t) = \n",
        "  \\begin{cases}\n",
        "    \\frac{1}{2} \\: t^2       & \\quad \\text{if } t \\geq 0\\\\\n",
        "    0  & \\quad \\text{if } t < 0\n",
        "  \\end{cases}$$\n",
        "\n",
        "<center><img src=\"https://raw.githubusercontent.com/Dengesizizm/ME462Project/master/Week7/Drawings/Unit%20Acceleration.png\"></img></center>\n",
        "\n",
        "$$u_a(t) = \\int \\limits_0^t u_r(\\tau) \\text{d}\\tau$$\n",
        "\n",
        "$$\\boxed{L[u_a(t)] = \\frac{1}{s^3}}$$\n",
        "\n",
        "</br>&nbsp;&nbsp;&nbsp;***Unit acceleration response*** is the response of the system to the ***unit acceleration input***.\n",
        "\n",
        "$$Y_{ua}(s) = G(s) * \\frac{1}{s^3} = \\frac{1}{s} \\: \\left[G(s) * \\frac{1}{s^2}\\right] = \\frac{1}{s} \\: Y_{ur}(s)$$\n",
        "\n",
        "$$\\therefore \\: y_{ua}(t) = \\int \\limits_0^t y_{ur} (\\tau) \\text{d}\\tau$$\n",
        "\n",
        "$$\\implies y_{ur}(t) = \\dot{y}_{ua}(t)$$\n",
        "\n",
        "</br>&nbsp;&nbsp;&nbsp;We can generalize this to obtain ***general acceleration response*** as:\n",
        "\n",
        "$$x(t) = \\frac{1}{2} \\: a_o \\: t^2 \\: h(t) = a_o \\: u_r(t) \\implies y(t) = a_o \\: y_{ua}(t)$$"
      ]
    },
    {
      "cell_type": "markdown",
      "metadata": {
        "id": "OqtFs76vXcvU",
        "colab_type": "text"
      },
      "source": [
        "<a name=\"stability-analysis\"></a>\n",
        "# Stability Analysis\n",
        "\n",
        "&nbsp;&nbsp;&nbsp;Stability analysis' purpose is to have a better understanding of how would the system behave to some input in time. Will a mass-spring system come to rest if an impulse input is given? If so, how much time would it take? Before jumping into the details, we have to understand some basic concepts, so let's start."
      ]
    },
    {
      "cell_type": "markdown",
      "metadata": {
        "id": "RnV08q9lXh-I",
        "colab_type": "text"
      },
      "source": [
        "## Poles and Zeros of a Transfer Function\n",
        "\n",
        "&nbsp;&nbsp;&nbsp;Let's start with theoretical definitions of pole and zero. Considering this simple transfer function:</br></br>\n",
        "\n",
        "<center><img src=\"https://raw.githubusercontent.com/Dengesizizm/ME462Project/master/Week7/Drawings/Simple%20Transfer%20Function.png\"></img></center>\n",
        "\n",
        "&nbsp;&nbsp;&nbsp;We can say that</br>\n",
        "&nbsp;&nbsp;&nbsp;&nbsp;&nbsp;&nbsp;$p_i$ is a ***pole*** of $G(s)$ if $\\lim \\limits_{s \\to p_i} G(s) = \\infty$</br>\n",
        "&nbsp;&nbsp;&nbsp;&nbsp;&nbsp;&nbsp;$z_j$ is a ***zero*** of $G(s)$ if $\\lim \\limits_{s \\to z_j} G(s) = 0$\n",
        "\n",
        "</br></br>&nbsp;&nbsp;&nbsp;Considering a transfer function like $G(s) = \\frac{s-1}{(s+2)(s +7)}$ we can say that it has 2 poles and 1 zero which are $p_1 = -2$, $p_2 = -7$ and $z_1 = 1$.\n",
        "\n",
        "</br></br>&nbsp;&nbsp;&nbsp;Representation of poles and zeros are made in complex s-plane like the following figure:\n",
        "\n",
        "<center><img src=\"https://raw.githubusercontent.com/Dengesizizm/ME462Project/master/Week7/Drawings/Poles%20and%20Zeros%20Representation.png\"></img></center>"
      ]
    },
    {
      "cell_type": "markdown",
      "metadata": {
        "id": "zLerKBVOXf6F",
        "colab_type": "text"
      },
      "source": [
        "## Characteristic Equation\n",
        "\n",
        "&nbsp;&nbsp;&nbsp;Without any time delay, the transfer function $G(s)$ of a system can be written as:\n",
        "\n",
        "$$G(s) = \\frac{N(s)}{D(s)}$$\n",
        "\n",
        "&nbsp;&nbsp;&nbsp;where,\n",
        "\n",
        "$$N(s) = b_m s^m + \\dots + b_1 s + b_0$$\n",
        "$$D(s) = a_n s^n + \\dots + a_1 s + a_0$$\n",
        "\n",
        "&nbsp;&nbsp;&nbsp;Since the poles of a transfer function gives us a lot of information about how the system behaves to some input, we are interested in $D(s)$ greately. Therefore $D(s)$ is called ***characteristic polynomial*** and $D(s) = 0$ is called ***characteristic equation***.\n",
        "\n",
        "&nbsp;&nbsp;&nbsp;As covered before in $G(s) = \\frac{s-1}{(s+2)(s+7)}$ example, roots of $N(s) = 0$ gives us all the zeros and roots of $D(s) = 0$ gives us all the poles.</br></br></br>\n",
        "\n",
        "\n",
        "\n",
        "---\n",
        "\n",
        "\n",
        "***Note:*** Remember that ***poles*** and ***zeros*** are complex numbers, therefore not real numbers necessarily.\n",
        "\n",
        "\n",
        "---\n",
        "\n",
        "</br></br>&nbsp;&nbsp;&nbsp;If there is no pole/zero cancellation in a transfer function like:\n",
        "\n",
        "$$G(s) = \\frac{b_m (s - z_1) (s - z_2) \\dots (s - z_m)}{a_n (s - p_1) (s - p_2) \\dots (s - p_n)}$$\n",
        "\n",
        "&nbsp;&nbsp;&nbsp;We can say that ***n*** equals to the **order of the system** and ***m*** equals to the **order of input-effect dynamics** (*numerator dynamics*)."
      ]
    }
  ]
}