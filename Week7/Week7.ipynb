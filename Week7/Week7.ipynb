{
  "nbformat": 4,
  "nbformat_minor": 0,
  "metadata": {
    "colab": {
      "name": "Week7.ipynb",
      "provenance": [],
      "collapsed_sections": [],
      "toc_visible": true,
      "authorship_tag": "ABX9TyPOt4DJcTbo/r4qwByKR6Rj",
      "include_colab_link": true
    },
    "kernelspec": {
      "name": "python3",
      "display_name": "Python 3"
    }
  },
  "cells": [
    {
      "cell_type": "markdown",
      "metadata": {
        "id": "view-in-github",
        "colab_type": "text"
      },
      "source": [
        "<a href=\"https://colab.research.google.com/github/Dengesizizm/ME462Project/blob/master/Week7/Week7.ipynb\" target=\"_parent\"><img src=\"https://colab.research.google.com/assets/colab-badge.svg\" alt=\"Open In Colab\"/></a>"
      ]
    },
    {
      "cell_type": "markdown",
      "metadata": {
        "id": "g1DaR3YqW5SE",
        "colab_type": "text"
      },
      "source": [
        "# General Requirements for a Control System ${\\color{red}{Unfinished}}$"
      ]
    },
    {
      "cell_type": "markdown",
      "metadata": {
        "id": "6rGk_jeJXOCm",
        "colab_type": "text"
      },
      "source": [
        "# Time Response of LTI Systems ${\\color{red}{Unfinished}}$\n",
        "\n",
        "&nbsp;&nbsp;&nbsp;**Time Response:** The response of a system to the standard test inputs (i.e., impulse, step, ramp, and acceleration inputs) when the <ins>**I.C.'s**</ins> (Initial Conditions) are zero."
      ]
    },
    {
      "cell_type": "markdown",
      "metadata": {
        "id": "mHD_2fYbXSO-",
        "colab_type": "text"
      },
      "source": [
        "## Impulse Response ${\\color{green}{Finished}}$\n",
        "\n",
        "&nbsp;&nbsp;&nbsp;***Impulse function*** is a special case of ***pulse function***. To have a better understanding, let's start with ***unit pulse function***.\n",
        "\n",
        "$$\\text{Unit pulse function} = \\pi_\\varepsilon(t) = \n",
        "  \\begin{cases}\n",
        "    1/\\varepsilon       & \\quad \\text{if } 0\\leq t \\leq \\varepsilon\\\\\n",
        "    0  & \\quad \\text{otherwise}\n",
        "  \\end{cases}$$\n",
        "\n",
        "<center><img src=\"https://raw.githubusercontent.com/Dengesizizm/ME462Project/master/Week7/Drawings/Unit%20Pulse.png\"></img></center>\n",
        "\n",
        "</br>&nbsp;&nbsp;&nbsp;Then, we can define the ***unit impulse function*** as:\n",
        "\n",
        "$$\\lim \\limits_{\\varepsilon \\to 0} \\pi_\\varepsilon (t) = \\delta (t) =\n",
        "  \\begin{cases}\n",
        "    \\infty       & \\quad \\text{if } t = 0\\\\\n",
        "    0  & \\quad \\text{if } t \\neq 0\n",
        "  \\end{cases}$$\n",
        "\n",
        "</br></br>&nbsp;&nbsp;&nbsp;While calculating the area under the unit impulse function, we can imagine a limit such as:\n",
        "\n",
        "$$\\lim \\limits_{x \\to 0}(\\frac{1}{x} * x) = \\lim \\limits_{x \\to 0} (1) = 1\n",
        "  \\begin{cases}\n",
        "  \\text{where $\\frac{1}{x}$ is the height and $x$ is the width}\n",
        "  \\end{cases}$$\n",
        "\n",
        "</br></br>&nbsp;&nbsp;&nbsp;Or we can simply show that:\n",
        "\n",
        "$$\\int \\limits_{-\\infty}^{+\\infty} \\delta (t) \\mathrm{d}t = \\int \\limits_{0^-}^{0^+} \\delta (t) \\mathrm{d}t = 1$$\n",
        "\n",
        "&nbsp;&nbsp;&nbsp;Therefore,\n",
        "\n",
        "$$\\boxed{L [\\delta (t)] = 1}$$\n",
        "\n",
        "</br>&nbsp;&nbsp;&nbsp;***Unit impulse response*** is the response of the system to the ***unit impulse input***.\n",
        "\n",
        "$$Y_{ui}(s) = G(s) * 1 = G(s)$$\n",
        "\n",
        "</br>$$\\therefore \\: y_{ui}(t) = L^{-1}[G(s)] = g(t)$$\n",
        "\n",
        "&nbsp;&nbsp;&nbsp;We can generalize this to obtain ***general impulse response*** as:\n",
        "\n",
        "$$x(t) = I_o \\: \\delta (t) \\implies y(t) = I_o \\: g(t) = I_o \\: y_{ui}(t)$$"
      ]
    },
    {
      "cell_type": "markdown",
      "metadata": {
        "id": "8uIBdrvHXVbH",
        "colab_type": "text"
      },
      "source": [
        "## Step Response ${\\color{red}{Unfinished}}$\n",
        "\n",
        "&nbsp;&nbsp;&nbsp;We can define the ***unit step function*** as:\n",
        "\n",
        "$$\\text{Unit step function} = h(t) = \n",
        "  \\begin{cases}\n",
        "    1       & \\quad \\text{if } t \\geq 0\\\\\n",
        "    0  & \\quad \\text{if } t < 0\n",
        "  \\end{cases}$$\n",
        "\n",
        "<center><img src=\"https://raw.githubusercontent.com/Dengesizizm/ME462Project/master/Week7/Drawings/Unit%20Step.png\"></img></center>\n",
        "\n",
        "$$h(t) = \\int \\limits_0^t \\delta (\\tau) \\text{d}\\tau$$\n",
        "\n",
        "\n",
        "\n",
        "\n",
        "---\n",
        "\n",
        "\n",
        "&nbsp;&nbsp;&nbsp;***Note:*** The integral of *unit impulse function* equals to 1 if it includes where the impulse lies, i.e. the origin.\n",
        "\n",
        "\n",
        "---\n",
        "\n",
        "\n",
        "&nbsp;&nbsp;&nbsp;Therefore,\n",
        "\n",
        "$$\\boxed{L[h(t)] = \\frac{1}{s}}$$\n",
        "\n",
        "</br>&nbsp;&nbsp;&nbsp;***Unit step response*** is the response of the system to the ***unit step input***.\n",
        "\n",
        "$$Y_{us}(s) = G(s) * \\frac{1}{s} = \\frac{1}{s} \\: Y_{ui}(s)$$\n",
        "\n",
        "$$\\therefore \\: y_{us}(t) = \\int \\limits_0^t y_{ui} (\\tau) \\text{d}\\tau$$\n",
        "\n",
        "$$\\implies Y_{ui}(s) = s \\: Y_{us}(s) \\implies y_{ui}(t) = \\dot{y}_{us}(t)$$\n",
        "\n",
        "</br>&nbsp;&nbsp;&nbsp;We can generalize this to obtain ***general step response*** as:\n",
        "\n",
        "$$x(t) = x_o \\: h(t) \\implies y(t) = x_o \\: y_{us}(t)$$\n",
        "\n",
        "</br></br></br>\n",
        "\n",
        "---\n",
        "\n",
        "\n",
        "&nbsp;&nbsp;&nbsp;An example will be implemented here\n",
        "\n",
        "\n",
        "\n",
        "---\n",
        "\n"
      ]
    },
    {
      "cell_type": "markdown",
      "metadata": {
        "id": "0DRrWqd6XXS6",
        "colab_type": "text"
      },
      "source": [
        "## Ramp Response ${\\color{red}{Unfinished}}$"
      ]
    },
    {
      "cell_type": "markdown",
      "metadata": {
        "id": "7-lrmDl7XauK",
        "colab_type": "text"
      },
      "source": [
        "## Acceleration Response ${\\color{red}{Unfinished}}$"
      ]
    },
    {
      "cell_type": "markdown",
      "metadata": {
        "id": "OqtFs76vXcvU",
        "colab_type": "text"
      },
      "source": [
        "# Stability Analysis ${\\color{red}{Unfinished}}$"
      ]
    },
    {
      "cell_type": "markdown",
      "metadata": {
        "id": "zLerKBVOXf6F",
        "colab_type": "text"
      },
      "source": [
        "## Characteristic Equation ${\\color{red}{Unfinished}}$"
      ]
    },
    {
      "cell_type": "markdown",
      "metadata": {
        "id": "RnV08q9lXh-I",
        "colab_type": "text"
      },
      "source": [
        "## Poles and Zeros of a Transfer Function ${\\color{red}{Unfinished}}$"
      ]
    }
  ]
}