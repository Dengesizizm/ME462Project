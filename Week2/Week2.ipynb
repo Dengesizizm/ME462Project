{
  "nbformat": 4,
  "nbformat_minor": 0,
  "metadata": {
    "colab": {
      "name": "Week2.ipynb",
      "provenance": [],
      "collapsed_sections": [],
      "toc_visible": true,
      "authorship_tag": "ABX9TyNKVTmL/z0EJo0SdUrxC0Kw",
      "include_colab_link": true
    },
    "kernelspec": {
      "name": "python3",
      "display_name": "Python 3"
    }
  },
  "cells": [
    {
      "cell_type": "markdown",
      "metadata": {
        "id": "view-in-github",
        "colab_type": "text"
      },
      "source": [
        "<a href=\"https://colab.research.google.com/github/Dengesizizm/ME462Project/blob/master/Week2/Week2.ipynb\" target=\"_parent\"><img src=\"https://colab.research.google.com/assets/colab-badge.svg\" alt=\"Open In Colab\"/></a>"
      ]
    },
    {
      "cell_type": "markdown",
      "metadata": {
        "id": "REgBMV0QM7uA",
        "colab_type": "text"
      },
      "source": [
        "# Recall\n",
        "\n",
        "&nbsp;&nbsp;&nbsp;In last week's RC car example, we met with the basic concepts of control systems. To refresh our memories let's go over those basic concepts briefly.\n",
        "\n",
        "* The RC car was our ***plant***.\n",
        "* The distance we wanted our RC car to travel was our ***input***.\n",
        "* The measured distance, on the other hand, was our ***output***.\n",
        "* The difference between *input* and *output* was our ***error*** of the system. With this error value, we can determine how successful our control system operates.\n",
        "* An electric motor was our ***actuator*** which actuates our *plant* depending on the incoming electrical signals.\n",
        "* A controller circuit board was our ***controller*** which takes the *input* (or the *error* in *closed loop* case) and sends the electrical signals to the *actuator*.\n",
        "* The strong wind affecting the motion of our RC car was our ***disturbance*** of the plant.<br/>\n",
        "<br/>\n",
        "\n",
        "&nbsp;&nbsp;&nbsp;If we caught up with the last week's topics, then we can move on to [Input/Output (I/O) Relations](#input-output)."
      ]
    },
    {
      "cell_type": "markdown",
      "metadata": {
        "id": "96MEaMmOaPDI",
        "colab_type": "text"
      },
      "source": [
        "<a name=\"input-output\"></a>\n",
        "# Input/Output (I/O) Relations\n",
        "\n",
        "&nbsp;&nbsp;&nbsp;We know that if the I/O relationship (In the time domain) of a system can be given by a linear, ordinary differential equation with constant coefficients, they are called Linear, Time-Invariant (LTI) Systems. In our course, we will only consider LTI Systems."
      ]
    },
    {
      "cell_type": "markdown",
      "metadata": {
        "id": "RY2CYlIaRTYb",
        "colab_type": "text"
      },
      "source": [
        "<a name=\"siso\"></a>\n",
        "## Single Input, Single Output (SISO) Systems\n",
        "\n",
        "&nbsp;&nbsp;&nbsp;Now let's think of a system where there are only one input and one output. For simplification, think about controlling the speed of a fan.\n",
        "\n",
        "![Block diagram of RC car system](https://raw.githubusercontent.com/Dengesizizm/ME462Project/master/Week2/Figures/SISO.png)\n",
        "\n",
        "&nbsp;&nbsp;&nbsp;For general cases, the input output relation can be written in the time domain like this:\n",
        "\n",
        "$$a_n\\frac{d^n y}{d t^n} +\\cdot\\cdot\\cdot+ a_1\\frac{dy}{dt} + a_0 y = b_m\\frac{d^m x}{d t^m} +\\cdot\\cdot\\cdot+ b_1\\frac{dx}{dt} + b_0 x\\tag{1}\\label{iorelation}$$<br/>\n",
        "\n",
        "&nbsp;&nbsp;&nbsp;Since this equation is in the time domain we need to write this in another domain. And yes, it is the [Laplace](#laplace) domain.\n",
        "\n"
      ]
    },
    {
      "cell_type": "markdown",
      "metadata": {
        "id": "TvwkaPJGNaqk",
        "colab_type": "text"
      },
      "source": [
        "<a name=\"laplace\"></a>\n",
        "### Laplace Transform\n",
        "\n",
        "Recall that:\n",
        "$$L\\left[\\frac{d^h}{dt^h}f(t)\\right] = s^h F(s) - s^{h-1}f^{(0)}(0) - s^{h-2}f^{(1)}(0) - s^{h-3}f^{(2)}(0)- \\cdot\\cdot\\cdot - s^0f^{(h-1)}(0)\\tag{2}\\label{laplace}$$<br/>\n",
        "\n",
        "\n",
        "where\n",
        "$$f^{(k)}(t) = \\frac{d^k}{d t^k} f(t)$$<br/>\n",
        "\n",
        "\n",
        "If we assume zero initial conditions:\n",
        "$$y(0) = \\dot y(0) = \\cdot\\cdot\\cdot = y^{(n-1)}(0) = 0$$\n",
        "$$x(0) = \\dot x(0) = \\cdot\\cdot\\cdot = x^{(m-1)}(0) = 0$$<br/>\n",
        "\n",
        "\n",
        "Then the Laplace transform of \\eqref{iorelation} will be:\n",
        "$$(a_n s^n + \\cdot\\cdot\\cdot + a_1s + a_0) Y(s) = (b_m s^m + \\cdot\\cdot\\cdot + b_1 s + b_0) X(s)\\tag{3}\\label{laplace_applied_equation}$$<br/>\n",
        "\n",
        "\n",
        "where\n",
        "$$X(s) = L\\left[x(t)\\right]$$\n",
        "$$Y(s) = L\\left[y(t)\\right]$$<br/>\n",
        "\n",
        "\n",
        "\n",
        "---\n",
        "\n",
        "\n",
        "<br/>&nbsp;&nbsp;&nbsp;Now head back to our ***controlling the speed of a fan*** example and continue with some Python code simultaneously.<br/>\n",
        "&nbsp;&nbsp;&nbsp;First, we need to import some parts of the *sympy* module in order to represent our functions symbolically and the ***laplace_transform*** function itself.<br/><br/>\n",
        "\n",
        "\n",
        "---\n",
        "\n",
        "\n",
        "&nbsp;&nbsp;&nbsp;**Note:** Don't forget to run every code cell to make the Python magic work!\n",
        "\n",
        "\n",
        "---\n",
        "\n",
        "\n",
        "\n",
        "\n"
      ]
    },
    {
      "cell_type": "code",
      "metadata": {
        "id": "cl24sFXqjuF5",
        "colab_type": "code",
        "colab": {}
      },
      "source": [
        "from sympy.abc import s, t\n",
        "from sympy.integrals import laplace_transform"
      ],
      "execution_count": 0,
      "outputs": []
    },
    {
      "cell_type": "markdown",
      "metadata": {
        "id": "p1YX7GP-juet",
        "colab_type": "text"
      },
      "source": [
        "&nbsp;&nbsp;&nbsp;Let us assume the voltage function $x(t)$ in the time domain is:\n",
        "$$x(t) = 5 t^2 - 3t +7$$"
      ]
    },
    {
      "cell_type": "code",
      "metadata": {
        "id": "dYfrmkZjlb5M",
        "colab_type": "code",
        "colab": {}
      },
      "source": [
        "x = 5*t**2 - 3*t + 7"
      ],
      "execution_count": 0,
      "outputs": []
    },
    {
      "cell_type": "markdown",
      "metadata": {
        "id": "-syupXjrjlHv",
        "colab_type": "text"
      },
      "source": [
        "&nbsp;&nbsp;&nbsp;And the input output relation between voltage $x(t)$ and the measured speed of the fan $y(t)$ in the time domain is:\n",
        "$$y = \\frac{d^2 x}{dt^2} + x$$<br/>\n",
        "&nbsp;&nbsp;&nbsp;We need to apply Laplace transform \\eqref{laplace} with zero initial conditions to this equation to obtain an equation in this form \\eqref{laplace_applied_equation}.So,\n",
        "$$L\\left[\\frac{d^2 x}{d t^2}\\right] = s^2 X(s) - s^1 x^{(0)}(0) - s^0 x^{(1)}(0) = s^2 X(s),\\quad x^{(0)}(0) = x^{(1)}(0) = 0$$\n",
        "$$L\\left[x\\right] = X(s)$$\n",
        "$$L\\left[y\\right] = Y(s)$$<br/>\n",
        "&nbsp;&nbsp;&nbsp;Then,\n",
        "$$Y(s) = (s^2 + 1) \\: X(s)\\tag{4}\\label{4}$$<br/>\n",
        "&nbsp;&nbsp;&nbsp;Now referring to the [Appendix - Laplace Transform Pairs](#laplace-table), we write the voltage function $x(t)$ in the Laplace domain:\n",
        "$$X(s) = 5\\frac{2}{s^2} - \\frac{3}{s^2} + \\frac{7}{s}$$<br/>\n",
        "&nbsp;&nbsp;&nbsp;Arranging the equation, we get:\n",
        "$$X(s) = \\frac{7s^2 - 3s + 10}{s^3}$$<br/>\n",
        "\n",
        "\n",
        "---\n",
        "\n",
        "\n",
        "&nbsp;&nbsp;&nbsp;**Note:** For the constant part of the x(t) function, we looked at the *Unit Step* function at the table. That's because:\n",
        "\n",
        "$$ h(t) =\n",
        "  \\begin{cases}\n",
        "    1  & \\: \\text{if } & \\: t \\geq 0\\\\\n",
        "    0  & \\: \\text{if } & \\: t < 0\n",
        "  \\end{cases}\n",
        "$$<br/>\n",
        "&nbsp;&nbsp;&nbsp;*Unit Step* function will be covered in the upcoming weeks broadly.\n",
        "\n",
        "\n",
        "---\n",
        "\n",
        "\n",
        "<br/>&nbsp;&nbsp;&nbsp;Now let's continue with the Python code. ***laplace_transform*** function of the *sympy* module easily applies laplace transform symbolically. This function returns $(\\text{X, a, cond})$ where $\\text{X}$ is the Laplace transform of $\\text{x}$, $\\text{Re(s)>a}$ is the half-plane of convergence (which is going to be covered in the upcoming weeks in *Stability Analysis*), and $\\text{cond}$ are auxiliary convergence conditions. Therefore, we are only interested in the first term.\n"
      ]
    },
    {
      "cell_type": "code",
      "metadata": {
        "id": "57BtLlArLdq5",
        "colab_type": "code",
        "colab": {}
      },
      "source": [
        "X = laplace_transform(x, t, s)\n",
        "print(X[0])"
      ],
      "execution_count": 0,
      "outputs": []
    },
    {
      "cell_type": "markdown",
      "metadata": {
        "id": "pQHWEK94SJCq",
        "colab_type": "text"
      },
      "source": [
        "### Transfer Function and Block Diagram\n",
        "\n",
        "&nbsp;&nbsp;&nbsp;Let's remember this equation $\\eqref{4}$. Solving for the $\\frac{Y(s)}{X(s)}$ we get the following:\n",
        "$$\\frac{Y(s)}{X(s)} = s^2 + 1 = G(s)$$<br/>\n",
        "\n",
        "&nbsp;&nbsp;&nbsp;where G(s) is the ***transfer function (TF)*** relating the output $Y(s)$ to the input $X(s)$. We can rewrite this equation as:\n",
        "$$Y(s) = G(s) \\cdot X(s)\\tag{5}\\label{5}$$"
      ]
    },
    {
      "cell_type": "markdown",
      "metadata": {
        "id": "dbwXeuvbNeqx",
        "colab_type": "text"
      },
      "source": [
        "&nbsp;&nbsp;&nbsp;We can represent the $\\eqref{5}$ with this ***block diagram (BD)***:\n",
        "![Block Diagram](https://raw.githubusercontent.com/Dengesizizm/ME462Project/master/Week2/Figures/Block%20Diagram.png)\n",
        "\n",
        "\n",
        "---\n",
        "\n",
        "\n",
        "&nbsp;&nbsp;&nbsp;**Note:** It is important to note that an operational block can have <ins>**only one input**</ins> and <ins>**only one output**</ins>.<br/>\n",
        "\n",
        "\n",
        "---\n",
        "\n",
        "\n",
        "<br/>&nbsp;&nbsp;&nbsp;Here are the properties of G(s):\n",
        "\n",
        "* It does **not** depend on the initial conditions because we assume they are zero while finding the G(s) itself.\n",
        "* It does **not** give us any clue about the physical structure of the system. Transfer functions of two physically different systems may be identical.\n",
        "* It shows how the input affects the output but does **not** depend on either input or output.\n",
        "* Except for the systems with transportation lag (time delay), TF is always in the form $\\frac{N(s)}{D(s)}$ where $N(s)$ and $D(s)$ are polynomials in $s$.\n",
        "\n",
        "\n"
      ]
    },
    {
      "cell_type": "markdown",
      "metadata": {
        "id": "DFB3pPBrSox2",
        "colab_type": "text"
      },
      "source": [
        "<a name=\"miso\"></a>\n",
        "## Multiple Input, Single Output (MISO) Systems\n",
        "\n",
        "![MISO](https://raw.githubusercontent.com/Dengesizizm/ME462Project/master/Week2/Figures/MISO.png)"
      ]
    },
    {
      "cell_type": "markdown",
      "metadata": {
        "id": "zRMmeVtSS0Zx",
        "colab_type": "text"
      },
      "source": [
        "<a name=\"mimo\"></a>\n",
        "## Multiple Input, Multiple Output (MIMO) Systems"
      ]
    },
    {
      "cell_type": "markdown",
      "metadata": {
        "id": "LHRR--yTNsi3",
        "colab_type": "text"
      },
      "source": [
        "<a name=\"bd-algebra\"></a>\n",
        "# Block Diagram Algebra"
      ]
    },
    {
      "cell_type": "markdown",
      "metadata": {
        "id": "z7aekQ0WUjY5",
        "colab_type": "text"
      },
      "source": [
        "<a name=\"appendix\"></a>\n",
        "# Appendix\n",
        "\n"
      ]
    },
    {
      "cell_type": "markdown",
      "metadata": {
        "id": "8R0b0k7KGYN-",
        "colab_type": "text"
      },
      "source": [
        "<a name=\"laplace-table\"></a>\n",
        "## Some of the Common Laplace Transform Pairs\n",
        "<br/>\n",
        "\n",
        "<table>\n",
        "  <thead>\n",
        "    <tr>\n",
        "      <th colspan=2>Time Domain Function</th>\n",
        "      <th>Laplace Domain Function</th>\n",
        "    </tr>\n",
        "  </thead>\n",
        "  <thead>\n",
        "    <tr>\n",
        "      <th>Name</th>\n",
        "      <th>Definition</th>\n",
        "      <th>Definition</th>\n",
        "    </tr>\n",
        "  </thead>\n",
        "  <tbody>\n",
        "    <tr>\n",
        "      <td><i>Unit Impulse</i></td>\n",
        "      <td>$$\\delta (t)$$</td>\n",
        "      <td>$$1$$</td>\n",
        "    </tr>\n",
        "    <tr>\n",
        "      <td><i>Unit Step</i></td>\n",
        "      <td>$$h(t)$$</td>\n",
        "      <td>$$\\frac{1}{s}$$</td>\n",
        "    </tr>\n",
        "    <tr>\n",
        "      <td><i>Unit Ramp</i></td>\n",
        "      <td>$$t$$</td>\n",
        "      <td>$$\\frac{1}{s^2}$$</td>\n",
        "    </tr>\n",
        "    <tr>\n",
        "      <td><i>Parabola</i></td>\n",
        "      <td>$$t^2$$</td>\n",
        "      <td>$$\\frac{2}{s^2}$$</td>\n",
        "    </tr>\n",
        "    <tr>\n",
        "      <td><i>Exponential</i></td>\n",
        "      <td>$$e^{-at}$$</td>\n",
        "      <td>$$\\frac{1}{s + a}$$</td>\n",
        "    </tr>\n",
        "    <tr>\n",
        "      <td><i>Asymptotic Exponential</i></td>\n",
        "      <td>$$\\frac{1}{a}(1 - e^{-at})$$</td>\n",
        "      <td>$$\\frac{1}{s(s + a)}$$</td>\n",
        "    </tr>\n",
        "    <tr>\n",
        "      <td><i>Dual Exponential</i></td>\n",
        "      <td>$$\\frac{1}{b - a}(e^{-at} - e^{-bt})$$</td>\n",
        "      <td>$$\\frac{1}{(s + a)(s + b)}$$</td>\n",
        "    </tr>\n",
        "    <tr>\n",
        "      <td><i>Asymptotic Dual Exponential</i></td>\n",
        "      <td>$$\\frac{1}{ab}\\left[1 + \\frac{1}{a - b}(b\\:e^{-at} - a\\:e^{-bt})\\right]$$</td>\n",
        "      <td>$$\\frac{1}{s(s + a)(s + b)}$$</td>\n",
        "    </tr>\n",
        "    <tr>\n",
        "      <td><i>Time Multiplied Exponential</i></td>\n",
        "      <td>$$t\\:e^{-at}$$</td>\n",
        "      <td>$$\\frac{1}{(s + a)^2}$$</td>\n",
        "    </tr>\n",
        "    <tr>\n",
        "      <td><i>Sine</i></td>\n",
        "      <td>$$\\sin(\\omega_0\\:t)$$</td>\n",
        "      <td>$$\\frac{\\omega_0}{s^2 + \\omega_0^2}$$</td>\n",
        "    </tr>\n",
        "    <tr>\n",
        "      <td><i>Cosine</i></td>\n",
        "      <td>$$\\cos(\\omega_0\\:t)$$</td>\n",
        "      <td>$$\\frac{s}{s^2 + \\omega_0^2}$$</td>\n",
        "    </tr>\n",
        "    <tr>\n",
        "      <td><i>Decaying Sine</i></td>\n",
        "      <td>$$e^{-at} \\sin(\\omega_d\\:t)$$</td>\n",
        "      <td>$$\\frac{\\omega_d}{(s + a)^2 + \\omega_d^2}$$</td>\n",
        "    </tr>\n",
        "    <tr>\n",
        "      <td><i>Decaying Cosine</i></td>\n",
        "      <td>$$e^{-at} \\cos(\\omega_d\\:t)$$</td>\n",
        "      <td>$$\\frac{s + a}{(s + a)^2 + \\omega_d^2}$$</td>\n",
        "    </tr>\n",
        "  </tbody>\n",
        "</table>"
      ]
    }
  ]
}