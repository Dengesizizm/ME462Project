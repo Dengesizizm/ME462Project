{
  "nbformat": 4,
  "nbformat_minor": 0,
  "metadata": {
    "colab": {
      "name": "Week2.ipynb",
      "provenance": [],
      "collapsed_sections": [],
      "toc_visible": true,
      "authorship_tag": "ABX9TyO3avVuuELft1knQQdX8OHN",
      "include_colab_link": true
    },
    "kernelspec": {
      "name": "python3",
      "display_name": "Python 3"
    }
  },
  "cells": [
    {
      "cell_type": "markdown",
      "metadata": {
        "id": "view-in-github",
        "colab_type": "text"
      },
      "source": [
        "<a href=\"https://colab.research.google.com/github/Dengesizizm/ME462Project/blob/master/Week2/Week2.ipynb\" target=\"_parent\"><img src=\"https://colab.research.google.com/assets/colab-badge.svg\" alt=\"Open In Colab\"/></a>"
      ]
    },
    {
      "cell_type": "markdown",
      "metadata": {
        "id": "REgBMV0QM7uA",
        "colab_type": "text"
      },
      "source": [
        "# Recall\n",
        "\n",
        "&nbsp;&nbsp;&nbsp;In last week's RC car example, we met with the basic concepts of control systems. To refresh our memories let's go over those basic concepts briefly.\n",
        "\n",
        "* The RC car was our ***plant***.\n",
        "* The distance we wanted our RC car to travel was our ***input***.\n",
        "* The measured distance, on the other hand, was our ***output***.\n",
        "* The difference between *input* and *output* was our ***error*** of the system. With this error value, we can determine how successful our control system operates.\n",
        "* An electric motor was our ***actuator*** which actuates our *plant* depending on the incoming electrical signals.\n",
        "* A controller circuit board was our ***controller*** which takes the *input* (or the *error* in *closed loop* case) and sends the electrical signals to the *actuator*.\n",
        "* The strong wind affecting the motion of our RC car was our ***disturbance*** of the plant.<br/>\n",
        "<br/>\n",
        "\n",
        "&nbsp;&nbsp;&nbsp;If we caught up with the last week's topics, then we can move on to [Input/Output (I/O) Relations](#input-output)."
      ]
    },
    {
      "cell_type": "markdown",
      "metadata": {
        "id": "96MEaMmOaPDI",
        "colab_type": "text"
      },
      "source": [
        "<a name=\"input-output\"></a>\n",
        "# Input/Output (I/O) Relations\n",
        "\n",
        "&nbsp;&nbsp;&nbsp;We know that if the I/O relationship (In the time domain) of a system can be given by a linear, ordinary differential equation with constant coefficients, they are called Linear, Time-Invariant (LTI) Systems. In our course, we will only consider LTI Systems."
      ]
    },
    {
      "cell_type": "markdown",
      "metadata": {
        "id": "RY2CYlIaRTYb",
        "colab_type": "text"
      },
      "source": [
        "<a name=\"siso\"></a>\n",
        "## Single Input, Single Output (SISO) Systems\n",
        "\n",
        "&nbsp;&nbsp;&nbsp;Now let's think of a system where there are only one input and one output. For simplification, think about controlling the speed of a fan.\n",
        "\n",
        "![Block diagram of RC car system](https://raw.githubusercontent.com/Dengesizizm/ME462Project/master/Week2/SISO.png)\n",
        "\n",
        "&nbsp;&nbsp;&nbsp;For general cases, the input output relation can be written in the time domain like this:\n",
        "\n",
        "$$a_n\\frac{d^n y}{d t^n} +\\cdot\\cdot\\cdot+ a_1\\frac{dy}{dt} + a_0 y = b_m\\frac{d^m x}{d t^m} +\\cdot\\cdot\\cdot+ b_1\\frac{dx}{dt} + b_0 x\\tag{1}\\label{iorelation}$$<br/>\n",
        "\n",
        "&nbsp;&nbsp;&nbsp;Since this equation is in the time domain we need to write this in another domain. And yes, it is the [Laplace](#laplace) domain.\n",
        "\n"
      ]
    },
    {
      "cell_type": "markdown",
      "metadata": {
        "id": "TvwkaPJGNaqk",
        "colab_type": "text"
      },
      "source": [
        "<a name=\"laplace\"></a>\n",
        "### Laplace Transform\n",
        "\n",
        "Recall that:\n",
        "$$L\\left[\\frac{d^h}{dt^h}f(t)\\right] = s^h F(s) - s^{h-1}f^{(0)}(0) - s^{h-2}f^{(1)}(0) - s^{h-3}f^{(2)}(0)- \\cdot\\cdot\\cdot - s^0f^{(h-1)}(0)\\tag{2}\\label{laplace}$$<br/>\n",
        "\n",
        "\n",
        "where\n",
        "$$f^{(k)}(t) = \\frac{d^k}{d t^k} f(t)$$<br/>\n",
        "\n",
        "\n",
        "If we assume zero initial conditions:\n",
        "$$y(0) = \\dot y(0) = \\cdot\\cdot\\cdot = y^{(n-1)}(0) = 0$$\n",
        "$$x(0) = \\dot x(0) = \\cdot\\cdot\\cdot = x^{(m-1)}(0) = 0$$<br/>\n",
        "\n",
        "\n",
        "Then the Laplace transform of \\eqref{iorelation} will be:\n",
        "$$(a_n s^n + \\cdot\\cdot\\cdot + a_1s + a_0) Y(s) = (b_m s^m + \\cdot\\cdot\\cdot + b_1 s + b_0) X(s)\\tag{3}\\label{laplace_applied_equation}$$<br/>\n",
        "\n",
        "\n",
        "where\n",
        "$$X(s) = L\\left[x(t)\\right]$$\n",
        "$$Y(s) = L\\left[y(t)\\right]$$<br/>\n",
        "\n",
        "___\n",
        "<br/>&nbsp;&nbsp;&nbsp;Now head back to our ***controlling the speed of a fan*** example and continue with some Python code simultaneously.\n",
        "<br/>&nbsp;&nbsp;&nbsp;First, we need to import some parts of the sympy module in order to represent our functions symbolically and the ***laplace_transform*** function itself.\n",
        "\n",
        "\n",
        "\n"
      ]
    },
    {
      "cell_type": "code",
      "metadata": {
        "id": "cl24sFXqjuF5",
        "colab_type": "code",
        "colab": {}
      },
      "source": [
        "from sympy.abc import s, t\n",
        "from sympy.integrals import laplace_transform"
      ],
      "execution_count": 0,
      "outputs": []
    },
    {
      "cell_type": "markdown",
      "metadata": {
        "id": "p1YX7GP-juet",
        "colab_type": "text"
      },
      "source": [
        "&nbsp;&nbsp;&nbsp;Let us assume the voltage function $x(t)$ in the time domain is:\n",
        "$$x(t) = 5 t^2 - 3t +7$$"
      ]
    },
    {
      "cell_type": "code",
      "metadata": {
        "id": "dYfrmkZjlb5M",
        "colab_type": "code",
        "colab": {}
      },
      "source": [
        "x = 5*t**2 - 3*t + 7"
      ],
      "execution_count": 0,
      "outputs": []
    },
    {
      "cell_type": "markdown",
      "metadata": {
        "id": "-syupXjrjlHv",
        "colab_type": "text"
      },
      "source": [
        "&nbsp;&nbsp;&nbsp;And the input output relation between voltage $x(t)$ and the measured speed of the fan $y(t)$ in the time domain is:\n",
        "$$y = \\frac{d^2 x}{dt^2} + x$$<br/>\n",
        "&nbsp;&nbsp;&nbsp;We need to apply Laplace transform \\eqref{laplace} with zero initial conditions to this equation to obtain an equation in this form \\eqref{laplace_applied_equation}.So,\n",
        "$$L\\left[\\frac{d^2 x}{d t^2}\\right] = s^2 X(s) - s^1 x^{(0)}(0) - s^0 x^{(1)}(0) = s^2 X(s),\\quad x^{(0)}(0) = x^{(1)}(0) = 0$$\n",
        "$$L\\left[x\\right] = X(s)$$\n",
        "$$L\\left[y\\right] = Y(s)$$<br/>\n",
        "&nbsp;&nbsp;&nbsp;Then,\n",
        "$$Y(s) = (s^2 + 1) \\: X(s)$$<br/>\n",
        "&nbsp;&nbsp;&nbsp;Now referring to the [Appendix](#appendix), we write the voltage function $x(t)$ in the Laplace domain:\n"
      ]
    },
    {
      "cell_type": "code",
      "metadata": {
        "id": "57BtLlArLdq5",
        "colab_type": "code",
        "outputId": "97836c4d-799f-4c7f-8960-bf761eca557f",
        "colab": {
          "base_uri": "https://localhost:8080/",
          "height": 34
        }
      },
      "source": [
        "import sympy as sym\n",
        "from sympy.abc import s,t,x,y,z\n",
        "from sympy.integrals import laplace_transform\n",
        "from sympy.integrals import inverse_laplace_transform\n",
        "\n",
        "f = 4 * t**(2) + 2 * t + 9\n",
        "U = laplace_transform(f, t, s)\n",
        "print(U[0])"
      ],
      "execution_count": 0,
      "outputs": [
        {
          "output_type": "stream",
          "text": [
            "(9*s**2 + 2*s + 8)/s**3\n"
          ],
          "name": "stdout"
        }
      ]
    },
    {
      "cell_type": "markdown",
      "metadata": {
        "id": "pQHWEK94SJCq",
        "colab_type": "text"
      },
      "source": [
        "### Transfer Function"
      ]
    },
    {
      "cell_type": "markdown",
      "metadata": {
        "id": "DFB3pPBrSox2",
        "colab_type": "text"
      },
      "source": [
        "<a name=\"miso\"></a>\n",
        "## Multiple Input, Single Output (MISO) Systems"
      ]
    },
    {
      "cell_type": "markdown",
      "metadata": {
        "id": "zRMmeVtSS0Zx",
        "colab_type": "text"
      },
      "source": [
        "<a name=\"mimo\"></a>\n",
        "## Multiple Input, Multiple Output (MIMO) Systems"
      ]
    },
    {
      "cell_type": "markdown",
      "metadata": {
        "id": "dbwXeuvbNeqx",
        "colab_type": "text"
      },
      "source": [
        "<a name=\"bd\"></a>\n",
        "# Block Diagrams"
      ]
    },
    {
      "cell_type": "markdown",
      "metadata": {
        "id": "LHRR--yTNsi3",
        "colab_type": "text"
      },
      "source": [
        "<a name=\"bd-algebra\"></a>\n",
        "## Block Diagram Algebra"
      ]
    },
    {
      "cell_type": "markdown",
      "metadata": {
        "id": "z7aekQ0WUjY5",
        "colab_type": "text"
      },
      "source": [
        "<a name=\"appendix\"></a>\n",
        "# Appendix\n",
        "\n",
        "Time Domain Function |&nbsp;| Laplace Domain Function\n",
        "--- | --- | ---\n",
        "**Name** | **Definition** | &nbsp;\n",
        "*Unit Impulse* | $\\delta (t)$ | 1\n",
        "\n",
        "<table>\n",
        "  <thead>\n",
        "    <tr>\n",
        "      <th colspan=2>Time Domain Function</th>\n",
        "      <th>Laplace Domain <br/>Function</th>\n",
        "    </tr>\n",
        "  </thead>\n",
        "  <thead>\n",
        "    <tr>\n",
        "      <th>Name</th>\n",
        "      <th>Definition</th>\n",
        "      <th>&nbsp;</th>\n",
        "    </tr>\n",
        "  </thead>\n",
        "  <tbody>\n",
        "    <tr>\n",
        "      <td><i>Unit Impulse</i></td>\n",
        "      <td>&nbsp;&nbsp;&nbsp;&nbsp;&nbsp;$\\delta (t)$</td>\n",
        "      <td>&nbsp;&nbsp;&nbsp;&nbsp;&nbsp;&nbsp;&nbsp;&nbsp;&nbsp;&nbsp;&nbsp;&nbsp;&nbsp;1</td>\n",
        "    </tr>\n",
        "  </tbody>\n",
        "</table>\n",
        "\n"
      ]
    }
  ]
}