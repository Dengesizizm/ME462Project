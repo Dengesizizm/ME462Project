{
  "nbformat": 4,
  "nbformat_minor": 0,
  "metadata": {
    "colab": {
      "name": "Week2.ipynb",
      "provenance": [],
      "collapsed_sections": [],
      "authorship_tag": "ABX9TyMqD8U9HD+KBTaBAG+F5CpD",
      "include_colab_link": true
    },
    "kernelspec": {
      "name": "python3",
      "display_name": "Python 3"
    }
  },
  "cells": [
    {
      "cell_type": "markdown",
      "metadata": {
        "id": "view-in-github",
        "colab_type": "text"
      },
      "source": [
        "<a href=\"https://colab.research.google.com/github/Dengesizizm/ME462Project/blob/master/Week2/Week2.ipynb\" target=\"_parent\"><img src=\"https://colab.research.google.com/assets/colab-badge.svg\" alt=\"Open In Colab\"/></a>"
      ]
    },
    {
      "cell_type": "markdown",
      "metadata": {
        "id": "REgBMV0QM7uA",
        "colab_type": "text"
      },
      "source": [
        "# Recall\n",
        "\n",
        "&nbsp;&nbsp;&nbsp;In last week's RC car example, we met with the basic concepts of control systems. To refresh our memories let's go over those basic concepts briefly.\n",
        "\n",
        "* The RC car was our ***plant***.\n",
        "* The distance we wanted our RC car to travel was our ***input***.\n",
        "* The measured distance, on the other hand was our ***output***.\n",
        "* The difference between *input* and *output* was our ***error*** of the system. With this error value we can determine how successful our control system operates.\n",
        "* An electric motor was our ***actuator*** which actuates our *plant* depending on the incoming electrical signals.\n",
        "* A controller circuit board was our ***controller*** which takes the *input* (or the *error* in *closed loop* case) and sends the electrical signals to the *actuator*.\n",
        "* The strong wind affecting the motion of our RC car was our ***disturbance*** of the plant.\n",
        "\n",
        "\\\n",
        "&nbsp;&nbsp;&nbsp;If we caught up with the last week's topics, then we can move on to [Input/Output (I/O) Relations](#input-output)."
      ]
    },
    {
      "cell_type": "markdown",
      "metadata": {
        "id": "96MEaMmOaPDI",
        "colab_type": "text"
      },
      "source": [
        "<a name=\"input-output\"></a>\n",
        "# Input/Output (I/O) Relations"
      ]
    },
    {
      "cell_type": "markdown",
      "metadata": {
        "id": "TvwkaPJGNaqk",
        "colab_type": "text"
      },
      "source": [
        "<a name=\"laplace\"></a>\n",
        "## Laplace Transform"
      ]
    },
    {
      "cell_type": "markdown",
      "metadata": {
        "id": "RY2CYlIaRTYb",
        "colab_type": "text"
      },
      "source": [
        "<a name=\"siso\"></a>\n",
        "## Single Input, Single Output (SISO) Systems"
      ]
    },
    {
      "cell_type": "markdown",
      "metadata": {
        "id": "DFB3pPBrSox2",
        "colab_type": "text"
      },
      "source": [
        "<a name=\"miso\"></a>\n",
        "## Multiple Input, Single Output (MISO) Systems"
      ]
    },
    {
      "cell_type": "markdown",
      "metadata": {
        "id": "zRMmeVtSS0Zx",
        "colab_type": "text"
      },
      "source": [
        "<a name=\"mimo\"></a>\n",
        "## Multiple Input, Multiple Output (MIMO) Systems"
      ]
    },
    {
      "cell_type": "markdown",
      "metadata": {
        "id": "dbwXeuvbNeqx",
        "colab_type": "text"
      },
      "source": [
        "<a name=\"bd\"></a>\n",
        "# Block Diagrams"
      ]
    },
    {
      "cell_type": "markdown",
      "metadata": {
        "id": "LHRR--yTNsi3",
        "colab_type": "text"
      },
      "source": [
        "<a name=\"bd-algebra\"></a>\n",
        "## Block Diagram Algebra"
      ]
    }
  ]
}