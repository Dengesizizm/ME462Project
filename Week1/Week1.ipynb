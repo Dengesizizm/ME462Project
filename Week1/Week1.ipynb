{
  "nbformat": 4,
  "nbformat_minor": 0,
  "metadata": {
    "colab": {
      "name": "Week1.ipynb",
      "provenance": [],
      "collapsed_sections": [],
      "toc_visible": true,
      "include_colab_link": true
    },
    "kernelspec": {
      "name": "python3",
      "display_name": "Python 3"
    }
  },
  "cells": [
    {
      "cell_type": "markdown",
      "metadata": {
        "id": "view-in-github",
        "colab_type": "text"
      },
      "source": [
        "<a href=\"https://colab.research.google.com/github/Dengesizizm/ME462Project/blob/master/Week1/Week1.ipynb\" target=\"_parent\"><img src=\"https://colab.research.google.com/assets/colab-badge.svg\" alt=\"Open In Colab\"/></a>"
      ]
    },
    {
      "cell_type": "markdown",
      "metadata": {
        "id": "lyt88CbqRBiv",
        "colab_type": "text"
      },
      "source": [
        "# Welcome to the Control Systems Course!\n",
        "\n",
        "&nbsp;&nbsp;&nbsp;In the journey to the control systems world, Google Colab notebooks will be your both guide and companion! On these notebooks, you will be able to find brief explanations about concepts discussed in the lectures, python codes using the control system library, which provide you a playground for examples similar to the ones solved in lectures. \n",
        "\n",
        "&nbsp;&nbsp;&nbsp;Moreover, figures, pictures, graphs & other fancy stuff will be provided to make sure that you understand the concepts thoroughly. However, that is not all... There will be projects on the robot simulator called *Webots*, where you can perform what you have learned about control systems on the simulated scenarios! If you hyped enough, we could start with the *introduction to the control systems*.\n",
        "\n",
        "&nbsp;&nbsp;&nbsp;*(P.S.: Robot simulator Webots & Control Library of Python will be covered detailed enough to make you comfortable while playing with them, so don't worry about it..)*\n",
        "\n"
      ]
    },
    {
      "cell_type": "markdown",
      "metadata": {
        "colab_type": "text",
        "id": "wohmgxiEhhBg"
      },
      "source": [
        "### Basic Concepts of Control Systems\n",
        "\n",
        "&nbsp;&nbsp;&nbsp;Let's start with the basic concepts of the control systems since they are essential to understand how the control system works.\n",
        "\n",
        "&nbsp;&nbsp;&nbsp;Now, let's think that you bought a new remote-controlled car to play with it in your *(not existing)* free time, which looks like below..."
      ]
    },
    {
      "cell_type": "markdown",
      "metadata": {
        "id": "CdBUzqapm0Bx",
        "colab_type": "text"
      },
      "source": [
        "\n",
        "\n",
        "```\n",
        "                  _________________\n",
        "              _.-'_____  _________ _`.\n",
        "            .` ,'      ||         | `.`.\n",
        "          .` ,'        ||         |   `.`.\n",
        "        .`  /          ||         |  ,' ] `....___\n",
        "      _`__.'''''''''''''''''''''''`''''''''|..___ `-.._\n",
        "    .'                  [='                '     `'-.._`.\n",
        " ,:/.'''''''''''''''''''|''''''''''''''''''|'''''''''''\\'\\\n",
        "  //||    _..._         |                  '    _..._  |)|\n",
        " /|//   ,',---.`.       |                  |  .',---.`.\\>|\n",
        "(':/   //' .-. `\\\\      \\_________________/  '/' .-. `\\\\|_)\n",
        " `-...'||  '-'  ||________,,,,,,,,,,,,,,,__.'||  '-'  ||-'\n",
        "       '.'.___.','                           '.'.___.','\n",
        "         '-.m.-'                               '-.m.-'\n",
        "```\n",
        "\n"
      ]
    },
    {
      "cell_type": "markdown",
      "metadata": {
        "id": "0U7V5HHOiROj",
        "colab_type": "text"
      },
      "source": [
        "&nbsp;&nbsp;&nbsp;Also, the car comes with a mobile app, where you can type the distance you want the car to take. It is cool.. Isn't it? If so, let's type how many *meters* you want the car to take in the python code block below. What you need to do is click on the code screen and write the distance value at the right side of the '='. After that, click the *play button*, which becomes visible when you place the cursor on the '[ ]' symbol at the beginning of the code block.\n"
      ]
    },
    {
      "cell_type": "code",
      "metadata": {
        "id": "RvJx55CNnkeT",
        "colab_type": "code",
        "colab": {}
      },
      "source": [
        "distance = 0"
      ],
      "execution_count": 0,
      "outputs": []
    },
    {
      "cell_type": "markdown",
      "metadata": {
        "id": "-D-JSRn4npNK",
        "colab_type": "text"
      },
      "source": [
        "&nbsp;&nbsp;&nbsp;Okay, good job! Now I will take a meter and measure how many meters your car moved. To see the result, you can just run the python code below without making any change by pressing the play button."
      ]
    },
    {
      "cell_type": "code",
      "metadata": {
        "id": "NY6ejJ__o5o0",
        "colab_type": "code",
        "outputId": "3682c97c-625d-4d75-a273-4b4d29bc330f",
        "colab": {
          "base_uri": "https://localhost:8080/",
          "height": 34
        }
      },
      "source": [
        "# I'm measuring the distance with meter in my hands :)\n",
        "\n",
        "strong_wind = 0.3\n",
        "\n",
        "if (distance >= 0.3):\n",
        "  measured_distance=distance-(strong_wind)\n",
        "else:\n",
        "  measured_distance = 0.3\n",
        "print('The distance your car moved is measured as ' + str(measured_distance) + ' meters.')"
      ],
      "execution_count": 0,
      "outputs": [
        {
          "output_type": "stream",
          "text": [
            "The distance your car moved is measured as 0.3 meters.\n"
          ],
          "name": "stdout"
        }
      ]
    },
    {
      "cell_type": "markdown",
      "metadata": {
        "id": "a-28GkXNraIE",
        "colab_type": "text"
      },
      "source": [
        "&nbsp;&nbsp;&nbsp;Yes... The measured distance is the same as you wanted, right? Oh wait, it's not! What may be the reason for that? Let's find it out...\n",
        "\n",
        "&nbsp;&nbsp;&nbsp;First of all, the distance we want the car to take is called as ***input***, which is one of the basic definitions of the control systems. It is basically what we want to obtain as a result. In our case, it is the distance value that your car takes. \n",
        " \n",
        "&nbsp;&nbsp;&nbsp;By the way, the car is called a ***plant***, which is the thing that we want to control in our system. \n",
        " \n",
        "&nbsp;&nbsp;&nbsp;The measured distance is the ***output*** of the system, which is the result we get from the system. However, you wish the *output*(measured distance) of your system to be the same with the *input*(desired distance). The difference between them is called an ***error*** of the system. \n",
        "\n",
        "&nbsp;&nbsp;&nbsp;Then... What are the sources of errors in our system? Before that, let's get familiar with the ***actuator*** & ***controller*** of our system. ***Actuator*** is the thing that provides the action needed for the system to work. In our case, an electric motor inside your RC car is the *actuator* of the system. A ***controller*** is a device that adjusts the inputs of the system to achieve the desired performance of the system. The *controller* of your system is a controller circuit board placed in your RC car.\n",
        "\n",
        "&nbsp;&nbsp;&nbsp;Now, we can explain how the RC car system works:\n",
        "\n",
        "&nbsp;&nbsp;&nbsp;You give the desired distance as an *input* to the *controller* board of the RC car. By using the distance value, the controller decides the rotation time and rotational speed of the *actuator*, which is the electric motor of the RC car. Then, the electric motor provides the motion determined by a *controller*. Finally, the RC car, which is the *plant* of the system, takes distance we measured as an *output*. \n",
        "\n",
        "&nbsp;&nbsp;&nbsp;The difference between *input* and *output* distances is called the *error*. In our case, that difference is due to the strong wind on the RC car body, which affects the motion of the RC car unexpectedly. It is called the ***disturbance*** of the *plant*. *Disturbances* affect the system behavior and divert the plant from the desired action, and since the input is not equal to the output value, an error occurs.\n",
        "\n",
        "&nbsp;&nbsp;&nbsp;Since we cannot control the *disturbances* affecting our system, how can we obtain an output which is equal to the input? To understand it, let's look at the two main types of control systems and their working principles.\n",
        "\n",
        "\n",
        "\n",
        "\n",
        "\n",
        "\n",
        "\n",
        "\n",
        "\n"
      ]
    },
    {
      "cell_type": "markdown",
      "metadata": {
        "id": "YJr9_Yu1n7Tw",
        "colab_type": "text"
      },
      "source": [
        "### Types of Control: Open Loop & Close Loop Control\n",
        "\n",
        "![Block diagram of RC car system](https://raw.githubusercontent.com/Dengesizizm/ME462Project/master/Week1/open_loop_block.jpg)\n",
        "\n",
        "&nbsp;&nbsp;&nbsp;In the figure above, you can see the ***block diagram*** of the RC car system. A block diagram is used for modeling control systems, including the main elements such as plant, controller & actuator. Moreover, by inspecting the block diagram of the system, we can figure out what type of controller is used.\n",
        "\n",
        "&nbsp;&nbsp;&nbsp;The control systems having a block diagram similar to the above are called ***open-loop control systems***. These systems are getting the desired input and tries to obtain it as an output without considering any disturbances & errors. Therefore, having an error in the output value is inevitable, as we experienced it in the RC car model. Thus, the ***closed loop*** type systems are used to overcome those errors.\n",
        "\n",
        "![Block diagram of the closed loop RC car system](https://raw.githubusercontent.com/Dengesizizm/ME462Project/master/Week1/close_loop_block.jpg)\n",
        "\n",
        "&nbsp;&nbsp;&nbsp;You can see the block diagram of the RC car model above, which is upgraded to a close-loop type system. As you can notice, two new components are added to the system, which are *sensor* and *comparator*. In the closed loops systems, ***sensor*** is measuring the output value and providing it to the ***comparator***. *Comparator* detects the error by comparing the output & input values of the system and sends that error value to the *controller*. \n",
        "\n",
        "&nbsp;&nbsp;&nbsp;The main difference between the *open-loop* and *closed loop* controller is the input value of the *controller*. In the *open-loop system*, the controller takes the desired input value directly to calculate how the actuator should work. However, in the *closed-loop system*, the controller gets the *error* value instead of the *desired input* value. Thus, by using a well-designed controller, even there are disturbances acting on the system, the zero *error* value can be obtained.\n",
        "\n",
        "&nbsp;&nbsp;&nbsp;The working principle of the *closed loop* version RC car system is as follows; the desired distance value is given to the system, then the actual distance taken by the RC car is read from the sensor. Comparator subtracts the actual distance from the desired distance and finds the error and sends it to the controller. Then the controller decides the electrical signal needed to send the electric motor. After the electric motor gets the signal, it rotates the wheels, and the RC car moves. While the car is moving, that process is repeated in loop until the *error* value sent to the controller becomes zero. Finally, the desired input is obtained as the output of the system. This is how the *closed-loop controller* works!\n",
        "\n",
        "\n",
        "\n",
        "![Dance!](https://github.com/Dengesizizm/ME462Project/blob/master/Week1/boston_spot.gif?raw=true)\n",
        "\n",
        "&nbsp;&nbsp;&nbsp;(*P.S.*: Think about what type of control system could be used to make *Boston Dynamics' Spot* robot dance almost flawlessly. Maybe, at the end of the course, you can design a one.. What do you say? :))\n",
        "\n"
      ]
    }
  ]
}