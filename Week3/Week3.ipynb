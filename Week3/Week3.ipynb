{
  "nbformat": 4,
  "nbformat_minor": 0,
  "metadata": {
    "colab": {
      "name": "Week3.ipynb",
      "provenance": [],
      "collapsed_sections": [],
      "toc_visible": true,
      "authorship_tag": "ABX9TyOAfyQX0sb7AMg9vLoeCeUq",
      "include_colab_link": true
    },
    "kernelspec": {
      "name": "python3",
      "display_name": "Python 3"
    }
  },
  "cells": [
    {
      "cell_type": "markdown",
      "metadata": {
        "id": "view-in-github",
        "colab_type": "text"
      },
      "source": [
        "<a href=\"https://colab.research.google.com/github/Dengesizizm/ME462Project/blob/master/Week3/Week3.ipynb\" target=\"_parent\"><img src=\"https://colab.research.google.com/assets/colab-badge.svg\" alt=\"Open In Colab\"/></a>"
      ]
    },
    {
      "cell_type": "markdown",
      "metadata": {
        "id": "rwpUNf6EvXXs",
        "colab_type": "text"
      },
      "source": [
        "# Mathematical Modeling of Physical Systems\n",
        "\n",
        "&nbsp;&nbsp;&nbsp;Welcome back to Control Systems Notebook! The topic of this week is the mathematical modeling of physical systems. Let's start with what mathematical modeling is. Simply, it is a description of a system using mathematical concepts and language, such as algebra or calculus. Mathematical models help us to study the effects of different components on the system and to make predictions about its behavior. We will begin modeling with mechanical systems, which you are quite familiar with it.\n",
        "\n",
        "### Translational Mechanical Systems\n",
        "&nbsp;&nbsp;&nbsp;The first type of mechanical system we are going to model is translational systems. The modeling is based on Newton's 2nd law, and we can study it in three parts, which are mass, damper & spring.\n",
        "\n",
        "\n",
        "\n",
        "\n",
        "\n"
      ]
    },
    {
      "cell_type": "markdown",
      "metadata": {
        "id": "1RFVbduA_df5",
        "colab_type": "text"
      },
      "source": [
        "#### a) Mass\n",
        "\n",
        "&nbsp;&nbsp;&nbsp;As you know, Newton's 2nd law says that the summation of the forces applied on an object is equal to the mass times acceleration of the object.\n",
        "\n",
        "![Mass](https://raw.githubusercontent.com/Dengesizizm/ME462Project/master/Week3/Figures/translational_mass.png)\n",
        "\n",
        "&nbsp;&nbsp;&nbsp;The mathematical model of the system, which has a single object with mass *m* and forces acting on it, can be seen in the figure above. You can play with this model by changing the values of mass and forces, or you can add additional forces to the system in the python script provided below. *(P.S.: Pay attention to the direction of the forces.)*"
      ]
    },
    {
      "cell_type": "code",
      "metadata": {
        "id": "yoo-3czpEvDr",
        "colab_type": "code",
        "outputId": "6e609c28-b5fc-4047-a68a-79d907656016",
        "colab": {
          "base_uri": "https://localhost:8080/",
          "height": 34
        }
      },
      "source": [
        "f1 = 5; # N\n",
        "f2 = 10; # N\n",
        "f3 = 3; # N\n",
        "m = 10; # kg\n",
        "\n",
        "a = (f1-f2+f3)/m # Newton's 2nd law\n",
        "\n",
        "print('a = ' + str(a) + ' m^2/s')"
      ],
      "execution_count": 0,
      "outputs": [
        {
          "output_type": "stream",
          "text": [
            "a = -0.2 m^2/s\n"
          ],
          "name": "stdout"
        }
      ]
    },
    {
      "cell_type": "markdown",
      "metadata": {
        "id": "vVnkmsLCGyw6",
        "colab_type": "text"
      },
      "source": [
        "#### b) Viscous Damper\n",
        "\n",
        "&nbsp;&nbsp;&nbsp;In this course, like the previous ones, friction between two moving parts is assumed to be viscous friction. In the viscous friction model, there is a linear relationship between the velocity difference and the friction force. Modeling of viscous dampers, which are one of the fundamental elements of the mechanical systems, can be obtained by using that viscous friction model.\n",
        "\n",
        "![Viscous Friction](https://raw.githubusercontent.com/Dengesizizm/ME462Project/master/Week3/Figures/translational_damper.png)\n",
        "\n",
        "&nbsp;&nbsp;&nbsp;You can see one of the most straightforward mechanical systems, which include two objects connected by a viscous damper in the figure above. While the objects are moving relative to each other, there is a friction force applying on them, whose magnitude is equal, but the direction is opposite. You can play with the viscous damper model by changing velocities of the objects or changing the coefficient of viscous friction to obtain friction force in the python script below. *(P.S.: Pay attention to the directions of the friction force.)*"
      ]
    },
    {
      "cell_type": "code",
      "metadata": {
        "colab_type": "code",
        "outputId": "ce0c88c2-55e5-47e2-8414-b84e196c4af0",
        "id": "H9e19Dva_oDA",
        "colab": {
          "base_uri": "https://localhost:8080/",
          "height": 34
        }
      },
      "source": [
        "v1 = 10; # m/s\n",
        "v2 = 5; # m/s\n",
        "b = 50; # N*s/m\n",
        "fb = b*(v1-v2) # Viscous damper model\n",
        "\n",
        "print('fb = ' + str(fb) + ' N')"
      ],
      "execution_count": 0,
      "outputs": [
        {
          "output_type": "stream",
          "text": [
            "fb = 250 N\n"
          ],
          "name": "stdout"
        }
      ]
    },
    {
      "cell_type": "markdown",
      "metadata": {
        "id": "qajAquF7BT0F",
        "colab_type": "text"
      },
      "source": [
        "#### c) Spring\n",
        "\n",
        "&nbsp;&nbsp;&nbsp;The force needed to compress or extend a spring by some distance scales linearly with the distance and the spring constant, which is known as Hooke's law.\n",
        "\n",
        "![Linear spring](https://raw.githubusercontent.com/Dengesizizm/ME462Project/master/Week3/Figures/translational_spring.png)\n",
        "\n",
        "&nbsp;&nbsp;&nbsp;You can see another basic mechanical system, which includes two objects connected with a spring in the figure above. By changing the displacements of the objects and the spring constant, you can observe the resultant spring force in the python script below."
      ]
    },
    {
      "cell_type": "code",
      "metadata": {
        "id": "pBHqzf3ADhze",
        "colab_type": "code",
        "outputId": "aec950c6-1870-46bd-8b9d-75aba3082e10",
        "colab": {
          "base_uri": "https://localhost:8080/",
          "height": 34
        }
      },
      "source": [
        "x1 = 2; #m\n",
        "x2 = 1; #m\n",
        "k = 2000; # N/m\n",
        "fk = k*(x1-x2) # Hooke's law\n",
        "\n",
        "print('fk = ' + str(fk) + ' N')"
      ],
      "execution_count": 0,
      "outputs": [
        {
          "output_type": "stream",
          "text": [
            "fk = 2000 N\n"
          ],
          "name": "stdout"
        }
      ]
    },
    {
      "cell_type": "markdown",
      "metadata": {
        "id": "pdhhaHdwEWUu",
        "colab_type": "text"
      },
      "source": [
        "### Rotational Mechanical Systems\n",
        "&nbsp;&nbsp;&nbsp;The second type of mechanical system we are going to model is rotational systems. We will study them in three parts as we did in the translational ones.\n",
        "\n"
      ]
    },
    {
      "cell_type": "markdown",
      "metadata": {
        "id": "tEgmY-eD_hs6",
        "colab_type": "text"
      },
      "source": [
        "#### a) Inetia\n",
        "\n",
        "&nbsp;&nbsp;&nbsp;In the modeling of rotational mechanical systems, the torque acting on an object equals the inertia of the object times its angular acceleration, according to Newton's 2nd law. Therefore, by changing mass with inertia, forces with torques, and acceleration with angular acceleration in the translational model for the section \"*a) Mass,*\" we can obtain the model for a simple rotational system. \n",
        "\n",
        "![Inertia](https://raw.githubusercontent.com/Dengesizizm/ME462Project/master/Week3/Figures/rotational_inertia.png)\n",
        "\n",
        "&nbsp;&nbsp;&nbsp;The python script of the model is provided below.\n"
      ]
    },
    {
      "cell_type": "code",
      "metadata": {
        "id": "4pROWR2nHm0m",
        "colab_type": "code",
        "outputId": "9f7fa811-5907-4f2b-8647-84eea9282bf5",
        "colab": {
          "base_uri": "https://localhost:8080/",
          "height": 34
        }
      },
      "source": [
        "T = 50 ; # N*m Net torque on the system\n",
        "J = 10; # kg*m^2 Inertia of the object\n",
        "\n",
        "a = T/J # Newton's 2nd law \n",
        "\n",
        "print('a = ' + str(a) + ' rad/s^2')"
      ],
      "execution_count": 0,
      "outputs": [
        {
          "output_type": "stream",
          "text": [
            "a = 5.0 rad/s^2\n"
          ],
          "name": "stdout"
        }
      ]
    },
    {
      "cell_type": "markdown",
      "metadata": {
        "id": "XwAb82peNbPd",
        "colab_type": "text"
      },
      "source": [
        "#### b) Viscous Damper\n",
        "\n",
        "&nbsp;&nbsp;&nbsp;By using the similar viscous friction model for translational mechanical systems, we can model two rotational objects having viscous friction between each other, as shown in the figure below.\n",
        "\n",
        "![Rotational damper](https://raw.githubusercontent.com/Dengesizizm/ME462Project/master/Week3/Figures/rotational_damper.png)\n",
        "\n",
        "&nbsp;&nbsp;&nbsp;The python script for this model given below.\n"
      ]
    },
    {
      "cell_type": "code",
      "metadata": {
        "id": "OU3DcI-zOgrm",
        "colab_type": "code",
        "outputId": "b4f2926c-2867-483a-d5f5-cf9b43220283",
        "colab": {
          "base_uri": "https://localhost:8080/",
          "height": 34
        }
      },
      "source": [
        "w1 = 10; # rad/s\n",
        "w2 = 5; # rad/s\n",
        "b = 50; # N*m*s\n",
        "Tb = b*(v1-v2) # Viscous damper model\n",
        "\n",
        "print('Tb = ' + str(Tb) + ' N*m')"
      ],
      "execution_count": 0,
      "outputs": [
        {
          "output_type": "stream",
          "text": [
            "Tb = 250 N*m\n"
          ],
          "name": "stdout"
        }
      ]
    },
    {
      "cell_type": "markdown",
      "metadata": {
        "id": "8TF1uTAhPyyo",
        "colab_type": "text"
      },
      "source": [
        "#### c) Torsional Spring\n",
        "\n",
        "&nbsp;&nbsp;&nbsp;Torsional springs also have a similar model of the spring in the translational system. The torque applied by a torsional spring equal to the angular position difference times stiffness of the spring. *(P.S.: Elastic shafts can be used as torsional springs.)*\n",
        "\n",
        "![Torsional spring](https://raw.githubusercontent.com/Dengesizizm/ME462Project/master/Week3/Figures/rotational_spring.png)\n",
        "\n",
        "&nbsp;&nbsp;&nbsp;The python script for system in the figure is given below."
      ]
    },
    {
      "cell_type": "code",
      "metadata": {
        "id": "ryntdpvnRM4n",
        "colab_type": "code",
        "outputId": "5def9b18-3870-458d-8a6f-35c2482a631b",
        "colab": {
          "base_uri": "https://localhost:8080/",
          "height": 34
        }
      },
      "source": [
        "teta1 = 2; # rad\n",
        "teta2 = 1; # rad\n",
        "k = 1500; # N*m/rad\n",
        "Tk = k*(teta1-teta2) # Hooke's law\n",
        "\n",
        "print('Tk = ' + str(fk) + ' N*m')"
      ],
      "execution_count": 0,
      "outputs": [
        {
          "output_type": "stream",
          "text": [
            "Tk = 2000 N*m\n"
          ],
          "name": "stdout"
        }
      ]
    },
    {
      "cell_type": "markdown",
      "metadata": {
        "id": "lAf7dMg1SNLP",
        "colab_type": "text"
      },
      "source": [
        "### Transforming Mechanical Elements\n",
        "\n",
        "&nbsp;&nbsp;&nbsp;After modeling translational and rotational mechanical systems, let's continue with modeling of the transforming mechanical elements, which provides transformation between torque & force, and velocity & angular velocity.\n",
        "\n",
        "\n",
        "\n"
      ]
    },
    {
      "cell_type": "markdown",
      "metadata": {
        "id": "D5T7xK4T_lvg",
        "colab_type": "text"
      },
      "source": [
        "#### a) Levers\n",
        "\n",
        "&nbsp;&nbsp;&nbsp;As you know from fundamental physics, the force ratio is related to the length of arms of the lever, as you can see in the figure below.\n",
        "\n",
        "![Lever](https://raw.githubusercontent.com/Dengesizizm/ME462Project/master/Week3/Figures/transforming_lever.png)\n",
        "\n",
        "&nbsp;&nbsp;&nbsp;Moreover, the ratio of velocity & angular velocity and the ratio of force & torque on the lever is related to the arm length, which represented in the figure below. These relations can be used as mathematical models of the lever system.\n",
        "\n",
        "![Lever](https://raw.githubusercontent.com/Dengesizizm/ME462Project/master/Week3/Figures/transforming_lever1.png)\n"
      ]
    },
    {
      "cell_type": "markdown",
      "metadata": {
        "id": "w_bE9f7bW8zX",
        "colab_type": "text"
      },
      "source": [
        "#### b) Gear Boxes\n",
        "\n",
        "&nbsp;&nbsp;&nbsp;In gearboxes, the ratio of input angular velocity & output angular velocity equal to the gear ratio. Moreover, the ratio of the input torque & output torque equal to the inverse of gear ratio, which represented in the figure below. These relations can be used as mathematical models of the gearbox.\n",
        "\n",
        "![Gear Box](https://raw.githubusercontent.com/Dengesizizm/ME462Project/master/Week3/Figures/transforming_gearbox.png)"
      ]
    },
    {
      "cell_type": "markdown",
      "metadata": {
        "id": "oW1UqcaPX_vn",
        "colab_type": "text"
      },
      "source": [
        "#### c) Rack and Pinion\n",
        "\n",
        "&nbsp;&nbsp;&nbsp;The last transforming mechanical element we will model is the rack and pinion system. In this system, the ratio of the velocity of the rack & angular velocity of the pinion is equal to the radius of the pinion. Also, the ratio of the force on the rack & torque on the pinion is equal to the inverse of the radius of the pinion, which can be seen in the figure below. These relations can be used as mathematical models of the rack and pinion.\n",
        "\n",
        "![Rack and Pinion](https://raw.githubusercontent.com/Dengesizizm/ME462Project/master/Week3/Figures/transforming_racknpinion.png)"
      ]
    },
    {
      "cell_type": "markdown",
      "metadata": {
        "id": "QtSOuRHyqXhJ",
        "colab_type": "text"
      },
      "source": [
        "&nbsp;&nbsp;&nbsp;By using the mathematical models we discussed in this section, you can model the mechanical systems and obtain the relation between selected inputs and outputs of the system. While using these models to design a controller, usually, you will transform them from the time domain to the Laplace domain by using Laplace transformation to obtain the desired transfer function of the system. Therefore, make sure you practice enough in both modelings of the system and taking Laplace transforms of them."
      ]
    }
  ]
}