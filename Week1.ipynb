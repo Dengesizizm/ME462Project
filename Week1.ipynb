{
  "nbformat": 4,
  "nbformat_minor": 0,
  "metadata": {
    "colab": {
      "name": "Week1.ipynb",
      "provenance": []
    },
    "kernelspec": {
      "name": "python3",
      "display_name": "Python 3"
    }
  },
  "cells": [
    {
      "cell_type": "code",
      "metadata": {
        "id": "jWze39bRQNF6",
        "colab_type": "code",
        "colab": {}
      },
      "source": [
        ""
      ],
      "execution_count": 0,
      "outputs": []
    },
    {
      "cell_type": "markdown",
      "metadata": {
        "id": "lyt88CbqRBiv",
        "colab_type": "text"
      },
      "source": [
        "## Welcome to the Control Systems Course!\n",
        "\n",
        "&nbsp;&nbsp;&nbsp;In the journey to control systems world, Google Colab notebooks will be your both guide and companion! On these notebooks you will be able to find brief explanations about concepts discussed in the lectures, python codes using control system library which provide you playground for examples similar to the ones solved in lectures. \n",
        "\n",
        "&nbsp;&nbsp;&nbsp;Moreover, figures, pictures, graphs & other fancy stuff will be provided to make sure that you understand the concepts completely. However, that is not all.. There will be projects on the robot simulator called *Webots*, where you can perform what you have learned about control systems on the simulated scenerios! If you hyped enough, we can start with the *introduction to the control systems*. \n",
        "\n",
        "&nbsp;&nbsp;&nbsp;*(P.S.: Robot simulator Webots & Control Library of Python will be covered detailed enough to make you comfortable while playing with them, so dont worry about it..)*\n",
        "\n"
      ]
    },
    {
      "cell_type": "markdown",
      "metadata": {
        "colab_type": "text",
        "id": "wohmgxiEhhBg"
      },
      "source": [
        "### Basic Concepts of Control Systems\n",
        "\n",
        "&nbsp;&nbsp;&nbsp;Let's start with the basic concepts of the control systems, since they are essential to understand how the control system works.\n",
        "\n",
        "&nbsp;&nbsp;&nbsp;Now, lets think that you bought a new remote controlled car to play with it in your *(not existing)* free time which looks like below.."
      ]
    },
    {
      "cell_type": "markdown",
      "metadata": {
        "id": "CdBUzqapm0Bx",
        "colab_type": "text"
      },
      "source": [
        "\n",
        "\n",
        "```\n",
        "                  _________________\n",
        "              _.-'_____  _________ _`.\n",
        "            .` ,'      ||         | `.`.\n",
        "          .` ,'        ||         |   `.`.\n",
        "        .`  /          ||         |  ,' ] `....___\n",
        "      _`__.'''''''''''''''''''''''`''''''''|..___ `-.._\n",
        "    .'                  [='                '     `'-.._`.\n",
        " ,:/.'''''''''''''''''''|''''''''''''''''''|'''''''''''\\'\\\n",
        "  //||    _..._         |                  '    _..._  |)|\n",
        " /|//   ,',---.`.       |                  |  .',---.`.\\>|\n",
        "(':/   //' .-. `\\\\      \\_________________/  '/' .-. `\\\\|_)\n",
        " `-...'||  '-'  ||________,,,,,,,,,,,,,,,__.'||  '-'  ||-'\n",
        "       '.'.___.','                           '.'.___.','\n",
        "         '-.m.-'                               '-.m.-'\n",
        "```\n",
        "\n"
      ]
    },
    {
      "cell_type": "markdown",
      "metadata": {
        "id": "0U7V5HHOiROj",
        "colab_type": "text"
      },
      "source": [
        "&nbsp;&nbsp;&nbsp;Also, the car comes with a mobile app, where you can type the distance you want car to take. It is cool.. Isn't it? If so, lets type many *meters* you want car to take in the python code block below! What you need to do is clicking on the code screen and writing the distance value at right side of the '='. After that, click the *play button* at the top left corner of the code screen.\n"
      ]
    },
    {
      "cell_type": "code",
      "metadata": {
        "id": "RvJx55CNnkeT",
        "colab_type": "code",
        "colab": {}
      },
      "source": [
        "distance = 0"
      ],
      "execution_count": 0,
      "outputs": []
    },
    {
      "cell_type": "markdown",
      "metadata": {
        "id": "-D-JSRn4npNK",
        "colab_type": "text"
      },
      "source": [
        "&nbsp;&nbsp;&nbsp;Okay, good job! Now I will take a meter and measure how many meters your car moved. To see the result, you can just run the python code below without making any change by pressing play button."
      ]
    },
    {
      "cell_type": "code",
      "metadata": {
        "id": "NY6ejJ__o5o0",
        "colab_type": "code",
        "colab": {
          "base_uri": "https://localhost:8080/",
          "height": 34
        },
        "outputId": "39168346-7ea6-41ad-f2ec-462799f92535"
      },
      "source": [
        "# I'm measuring the distance with meter in my hands :)\n",
        "\n",
        "strong_wind = 0.3\n",
        "\n",
        "if (distance >= 0.3):\n",
        "  measured_distance=distance-(strong_wind)\n",
        "else:\n",
        "  measured_distance = 0.3\n",
        "print('The distance your car moved is measured as ' + str(measured_distance) + ' meters.')"
      ],
      "execution_count": 24,
      "outputs": [
        {
          "output_type": "stream",
          "text": [
            "The distance your car moved is measured as 0.3 meters.\n"
          ],
          "name": "stdout"
        }
      ]
    },
    {
      "cell_type": "markdown",
      "metadata": {
        "id": "a-28GkXNraIE",
        "colab_type": "text"
      },
      "source": [
        "Yes.. The measured distance is the same as you wanted, right? Oh, it's not! What may be the reason for that? Lets find it out..\n",
        "\n",
        "First of all, the distance we want car to take is called as ***input***, which is one of the basic definions of the control systems. It is basically what we want to obtain as a result. In our case, it is the distance value that your car takes. \n",
        " \n",
        " By the way, the car is called as ***plant***, which is the thing that we want to control in our system. \n",
        " \n",
        " The measured distance is the ***output*** of the system, which is the result we get from the system. However, you wish the *output*(measured distance) of your system to be the same with the *input*(desired distance). The difference between them is called as ***error*** of the system. \n",
        "\n",
        " Then.. What are the sources of errors in our system? Before that, lets get familiar with the ***actuator*** & ***controller*** of our system. *Actuator* is the thing that provides the action needed for system to work. In our case, electric motor inside your RC car is the *actuator* of the system. A ***controller*** a device which adjusts the inputs of the system to achieve desired performance of the system. The controller of your system is a controller circuit board placed in our RC car.\n",
        "\n",
        " Now, we can explain how the RC car system works:\n",
        "\n",
        "You give desired distance as an *input* to *controller* board of the RC car. By using the distance value, controller decides rotation time and rotational speed of the *actuator*, which is the electric motor of the RC car. Then, DC motor provides motion determined by a *controller*. Finally, RC car, which is the *plant* of the system, takes distance we measured as an *output*. \n",
        "\n",
        "\n",
        "\n",
        "\n",
        "\n",
        "\n",
        "\n"
      ]
    }
  ]
}