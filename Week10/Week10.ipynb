{
  "nbformat": 4,
  "nbformat_minor": 0,
  "metadata": {
    "colab": {
      "name": "Week10.ipynb",
      "provenance": [],
      "collapsed_sections": [],
      "authorship_tag": "ABX9TyMYLMudEup6MNpcFkUFGcid",
      "include_colab_link": true
    },
    "kernelspec": {
      "name": "python3",
      "display_name": "Python 3"
    }
  },
  "cells": [
    {
      "cell_type": "markdown",
      "metadata": {
        "id": "view-in-github",
        "colab_type": "text"
      },
      "source": [
        "<a href=\"https://colab.research.google.com/github/Dengesizizm/ME462Project/blob/master/Week10/Week10.ipynb\" target=\"_parent\"><img src=\"https://colab.research.google.com/assets/colab-badge.svg\" alt=\"Open In Colab\"/></a>"
      ]
    },
    {
      "cell_type": "markdown",
      "metadata": {
        "id": "pD_2FrGilsCl",
        "colab_type": "text"
      },
      "source": [
        "# Step Response of First Order LTI Sysytems $\\color{red}{Unfinished}$\n",
        "\n"
      ]
    },
    {
      "cell_type": "markdown",
      "metadata": {
        "id": "9cusI74tlwvH",
        "colab_type": "text"
      },
      "source": [
        "## Initial Value Theorem $\\color{red}{Unfinished}$"
      ]
    },
    {
      "cell_type": "markdown",
      "metadata": {
        "id": "7bKhnc9ylzHK",
        "colab_type": "text"
      },
      "source": [
        "##$T_0 = 0$ Case $\\color{red}{Unfinished}$"
      ]
    },
    {
      "cell_type": "markdown",
      "metadata": {
        "id": "TFlAlshBl5HY",
        "colab_type": "text"
      },
      "source": [
        "##$T_0 \\neq 0$ Case $\\color{red}{Unfinished}$"
      ]
    },
    {
      "cell_type": "markdown",
      "metadata": {
        "id": "71TNyZI8l70_",
        "colab_type": "text"
      },
      "source": [
        "# Step Response of Second Order LTI Systems $\\color{red}{Unfinished}$"
      ]
    },
    {
      "cell_type": "markdown",
      "metadata": {
        "id": "K1ybbnPGl_Ri",
        "colab_type": "text"
      },
      "source": [
        "##$T_0 = 0$ Case $\\color{red}{Unfinished}$"
      ]
    },
    {
      "cell_type": "markdown",
      "metadata": {
        "id": "I-uc1pPnmCKU",
        "colab_type": "text"
      },
      "source": [
        "### Overdamped ($\\xi > 1$) Case $\\color{red}{Unfinished}$"
      ]
    },
    {
      "cell_type": "markdown",
      "metadata": {
        "id": "XjX21RF5mIXD",
        "colab_type": "text"
      },
      "source": [
        "### Critically Damped ($\\xi = 1$) Case $\\color{red}{Unfinished}$"
      ]
    },
    {
      "cell_type": "markdown",
      "metadata": {
        "id": "wgA_kYD6mLno",
        "colab_type": "text"
      },
      "source": [
        "### Underdamped ($0 < \\xi < 1$) Case $\\color{red}{Unfinished}$"
      ]
    },
    {
      "cell_type": "markdown",
      "metadata": {
        "id": "oLs-KBZ4mQT4",
        "colab_type": "text"
      },
      "source": [
        "### Undamped ($\\xi = 0$) Case $\\color{red}{Unfinished}$"
      ]
    }
  ]
}