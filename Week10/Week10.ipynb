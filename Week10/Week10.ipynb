{
  "nbformat": 4,
  "nbformat_minor": 0,
  "metadata": {
    "colab": {
      "name": "Week10.ipynb",
      "provenance": [],
      "collapsed_sections": [],
      "authorship_tag": "ABX9TyPGDPbUQB0srZ33ghouOpuo",
      "include_colab_link": true
    },
    "kernelspec": {
      "name": "python3",
      "display_name": "Python 3"
    }
  },
  "cells": [
    {
      "cell_type": "markdown",
      "metadata": {
        "id": "view-in-github",
        "colab_type": "text"
      },
      "source": [
        "<a href=\"https://colab.research.google.com/github/Dengesizizm/ME462Project/blob/master/Week10/Week10.ipynb\" target=\"_parent\"><img src=\"https://colab.research.google.com/assets/colab-badge.svg\" alt=\"Open In Colab\"/></a>"
      ]
    },
    {
      "cell_type": "markdown",
      "metadata": {
        "id": "CO7ooX-_2F6E",
        "colab_type": "text"
      },
      "source": [
        "&nbsp;&nbsp;&nbsp;Welcome back to Control Systems Notebook! This week, we will study the Step Response of LTI Systems to understand the behaviour of a stable control system under the step input."
      ]
    },
    {
      "cell_type": "markdown",
      "metadata": {
        "id": "0Ub3m8B4GcYI",
        "colab_type": "text"
      },
      "source": [
        "# Step Response of LTI Systems $\\color {green}{Finished}$\n",
        "\n",
        "</br>&nbsp;&nbsp;&nbsp;Consider the following <ins>*stable*</ins> system.</br></br>\n",
        "<center><img src=\"https://raw.githubusercontent.com/Dengesizizm/ME462Project/master/Week10/Figures/Simple%20Transfer%20Function.png\"></img></center>\n",
        "\n",
        "</br></br>$$Y(s) = G(s) \\: X(s)$$\n",
        "\n",
        "&nbsp;&nbsp;&nbsp;<ins>**Input**</ins> $\\quad \\quad \\quad \\quad \\quad \\quad \\quad \\quad \\quad \\text{: } x(t) = x_0 \\: h(t) \\implies X(s) = \\frac{x_0}{s}$\n",
        "\n",
        "&nbsp;&nbsp;&nbsp;<ins>**Initial conditions**</ins> $\\quad \\quad \\quad \\quad \\quad \\text{: } y(0^-) = \\dot{y}(0^-) = \\dots = 0$\n",
        "\n",
        "&nbsp;&nbsp;&nbsp;$\\bullet \\quad y_0 = y(0^+)$\n",
        "\n",
        "&nbsp;&nbsp;&nbsp;$\\bullet \\quad \\dot{y}_0 = \\dot{y}(0^+)$"
      ]
    },
    {
      "cell_type": "markdown",
      "metadata": {
        "id": "9cusI74tlwvH",
        "colab_type": "text"
      },
      "source": [
        "## Initial Value Theorem $\\color {green}{Finished}$\n",
        "\n",
        "&nbsp;&nbsp;&nbsp;Let's refresh our memories from the last week's topic: Final Value Theorem. We have found an equation as follows:\n",
        "\n",
        "$$g(t)e^{-st}\\Big|_0^\\infty+s\\int_{0}^{\\infty} g(t)e^{-st}=sG(s)-g(0)$$\n",
        "\n",
        "&nbsp;&nbsp;&nbsp;In Final Value Theorem, we evaluated this equation with $\\lim \\limits_{s \\to 0}$. Now let's try to obtain another expression by evaluating this equation with $\\lim \\limits_{s \\to \\infty}$.\n",
        "\n",
        "$$\\lim \\limits_{s \\to \\infty} \\int \\limits_{0}^{\\infty} \\left[\\frac{d}{d\\text{t}} \\: g(t)\\right] \\: e^{-s\\text{t}} \\: d \\text{t} = 0 = \\lim \\limits_{s \\to \\infty} \\left[s \\: G(s) - g(0)\\right]$$\n",
        "\n",
        "$$\\implies \\lim \\limits_{s \\to \\infty} s \\: G(s) = g(0)$$</br></br>\n",
        "\n",
        "\n",
        "\n",
        "---\n",
        "\n",
        "\n",
        "***Note***: Do not confuse the $G(s)$ shown here with the transfer function notation.\n",
        "\n",
        "\n",
        "---\n",
        "\n"
      ]
    },
    {
      "cell_type": "markdown",
      "metadata": {
        "id": "pD_2FrGilsCl",
        "colab_type": "text"
      },
      "source": [
        "## Step Response of First Order LTI Systems $\\color{red}{Unfinished}$\n"
      ]
    },
    {
      "cell_type": "markdown",
      "metadata": {
        "id": "7bKhnc9ylzHK",
        "colab_type": "text"
      },
      "source": [
        "### $T_0 = 0$ Case $\\color{red}{Unfinished}$"
      ]
    },
    {
      "cell_type": "markdown",
      "metadata": {
        "id": "TFlAlshBl5HY",
        "colab_type": "text"
      },
      "source": [
        "### $T_0 \\neq 0$ Case $\\color{red}{Unfinished}$"
      ]
    },
    {
      "cell_type": "markdown",
      "metadata": {
        "id": "71TNyZI8l70_",
        "colab_type": "text"
      },
      "source": [
        "## Step Response of Second Order LTI Systems $\\color{red}{Unfinished}$"
      ]
    },
    {
      "cell_type": "markdown",
      "metadata": {
        "id": "K1ybbnPGl_Ri",
        "colab_type": "text"
      },
      "source": [
        "### $T_0 = 0$ Case $\\color{red}{Unfinished}$"
      ]
    },
    {
      "cell_type": "markdown",
      "metadata": {
        "id": "I-uc1pPnmCKU",
        "colab_type": "text"
      },
      "source": [
        "#### Overdamped ($\\xi > 1$) Case $\\color{red}{Unfinished}$"
      ]
    },
    {
      "cell_type": "markdown",
      "metadata": {
        "id": "XjX21RF5mIXD",
        "colab_type": "text"
      },
      "source": [
        "#### Critically Damped ($\\xi = 1$) Case $\\color{red}{Unfinished}$"
      ]
    },
    {
      "cell_type": "markdown",
      "metadata": {
        "id": "wgA_kYD6mLno",
        "colab_type": "text"
      },
      "source": [
        "#### Underdamped ($0 < \\xi < 1$) Case $\\color{red}{Unfinished}$"
      ]
    },
    {
      "cell_type": "markdown",
      "metadata": {
        "id": "oLs-KBZ4mQT4",
        "colab_type": "text"
      },
      "source": [
        "#### Undamped ($\\xi = 0$) Case $\\color{red}{Unfinished}$"
      ]
    }
  ]
}