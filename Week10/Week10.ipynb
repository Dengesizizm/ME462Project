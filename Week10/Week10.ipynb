{
  "nbformat": 4,
  "nbformat_minor": 0,
  "metadata": {
    "colab": {
      "name": "Week10.ipynb",
      "provenance": [],
      "collapsed_sections": [],
      "toc_visible": true,
      "authorship_tag": "ABX9TyPO9rOGTfWshkbatJhg01pF",
      "include_colab_link": true
    },
    "kernelspec": {
      "name": "python3",
      "display_name": "Python 3"
    },
    "widgets": {
      "application/vnd.jupyter.widget-state+json": {
        "f9517f406c2a488b9ccf03b7a49c9dda": {
          "model_module": "@jupyter-widgets/controls",
          "model_name": "HBoxModel",
          "state": {
            "_view_name": "HBoxView",
            "_dom_classes": [],
            "_model_name": "HBoxModel",
            "_view_module": "@jupyter-widgets/controls",
            "_model_module_version": "1.5.0",
            "_view_count": null,
            "_view_module_version": "1.5.0",
            "box_style": "",
            "layout": "IPY_MODEL_84616b38b03c46e4a595f11a7dece5c8",
            "_model_module": "@jupyter-widgets/controls",
            "children": [
              "IPY_MODEL_268a8adf69094f5cbd31a3c379247125",
              "IPY_MODEL_dd42ae1931cd44bf95dab6c316e3b54a"
            ]
          }
        },
        "84616b38b03c46e4a595f11a7dece5c8": {
          "model_module": "@jupyter-widgets/base",
          "model_name": "LayoutModel",
          "state": {
            "_view_name": "LayoutView",
            "grid_template_rows": null,
            "right": null,
            "justify_content": null,
            "_view_module": "@jupyter-widgets/base",
            "overflow": null,
            "_model_module_version": "1.2.0",
            "_view_count": null,
            "flex_flow": null,
            "width": null,
            "min_width": null,
            "border": null,
            "align_items": null,
            "bottom": null,
            "_model_module": "@jupyter-widgets/base",
            "top": null,
            "grid_column": null,
            "overflow_y": null,
            "overflow_x": null,
            "grid_auto_flow": null,
            "grid_area": null,
            "grid_template_columns": null,
            "flex": null,
            "_model_name": "LayoutModel",
            "justify_items": null,
            "grid_row": null,
            "max_height": null,
            "align_content": null,
            "visibility": null,
            "align_self": null,
            "height": null,
            "min_height": null,
            "padding": null,
            "grid_auto_rows": null,
            "grid_gap": null,
            "max_width": null,
            "order": null,
            "_view_module_version": "1.2.0",
            "grid_template_areas": null,
            "object_position": null,
            "object_fit": null,
            "grid_auto_columns": null,
            "margin": null,
            "display": null,
            "left": null
          }
        },
        "268a8adf69094f5cbd31a3c379247125": {
          "model_module": "@jupyter-widgets/controls",
          "model_name": "FloatSliderModel",
          "state": {
            "_view_name": "FloatSliderView",
            "style": "IPY_MODEL_8f38da401eab4ab796cb7808a8ffcd88",
            "_dom_classes": [],
            "description": "T =",
            "step": 0.1,
            "_model_name": "FloatSliderModel",
            "orientation": "horizontal",
            "max": 10,
            "_view_module": "@jupyter-widgets/controls",
            "_model_module_version": "1.5.0",
            "value": 3.7,
            "_view_count": null,
            "disabled": false,
            "_view_module_version": "1.5.0",
            "min": 0.1,
            "continuous_update": false,
            "readout_format": ".1f",
            "description_tooltip": null,
            "readout": true,
            "_model_module": "@jupyter-widgets/controls",
            "layout": "IPY_MODEL_51e6784796e745c38b0aaf6f3b1dfeb6"
          }
        },
        "dd42ae1931cd44bf95dab6c316e3b54a": {
          "model_module": "@jupyter-widgets/controls",
          "model_name": "FloatSliderModel",
          "state": {
            "_view_name": "FloatSliderView",
            "style": "IPY_MODEL_482b59a3c10343489d8159d72499e3ec",
            "_dom_classes": [],
            "description": "y_f =",
            "step": 0.1,
            "_model_name": "FloatSliderModel",
            "orientation": "horizontal",
            "max": 10,
            "_view_module": "@jupyter-widgets/controls",
            "_model_module_version": "1.5.0",
            "value": 5.8,
            "_view_count": null,
            "disabled": false,
            "_view_module_version": "1.5.0",
            "min": 0.1,
            "continuous_update": false,
            "readout_format": ".1f",
            "description_tooltip": null,
            "readout": true,
            "_model_module": "@jupyter-widgets/controls",
            "layout": "IPY_MODEL_f3f3258031aa41479b85de667061bd05"
          }
        },
        "8f38da401eab4ab796cb7808a8ffcd88": {
          "model_module": "@jupyter-widgets/controls",
          "model_name": "SliderStyleModel",
          "state": {
            "_view_name": "StyleView",
            "handle_color": null,
            "_model_name": "SliderStyleModel",
            "description_width": "",
            "_view_module": "@jupyter-widgets/base",
            "_model_module_version": "1.5.0",
            "_view_count": null,
            "_view_module_version": "1.2.0",
            "_model_module": "@jupyter-widgets/controls"
          }
        },
        "51e6784796e745c38b0aaf6f3b1dfeb6": {
          "model_module": "@jupyter-widgets/base",
          "model_name": "LayoutModel",
          "state": {
            "_view_name": "LayoutView",
            "grid_template_rows": null,
            "right": null,
            "justify_content": null,
            "_view_module": "@jupyter-widgets/base",
            "overflow": null,
            "_model_module_version": "1.2.0",
            "_view_count": null,
            "flex_flow": null,
            "width": null,
            "min_width": null,
            "border": null,
            "align_items": null,
            "bottom": null,
            "_model_module": "@jupyter-widgets/base",
            "top": null,
            "grid_column": null,
            "overflow_y": null,
            "overflow_x": null,
            "grid_auto_flow": null,
            "grid_area": null,
            "grid_template_columns": null,
            "flex": null,
            "_model_name": "LayoutModel",
            "justify_items": null,
            "grid_row": null,
            "max_height": null,
            "align_content": null,
            "visibility": null,
            "align_self": null,
            "height": null,
            "min_height": null,
            "padding": null,
            "grid_auto_rows": null,
            "grid_gap": null,
            "max_width": null,
            "order": null,
            "_view_module_version": "1.2.0",
            "grid_template_areas": null,
            "object_position": null,
            "object_fit": null,
            "grid_auto_columns": null,
            "margin": null,
            "display": null,
            "left": null
          }
        },
        "482b59a3c10343489d8159d72499e3ec": {
          "model_module": "@jupyter-widgets/controls",
          "model_name": "SliderStyleModel",
          "state": {
            "_view_name": "StyleView",
            "handle_color": null,
            "_model_name": "SliderStyleModel",
            "description_width": "",
            "_view_module": "@jupyter-widgets/base",
            "_model_module_version": "1.5.0",
            "_view_count": null,
            "_view_module_version": "1.2.0",
            "_model_module": "@jupyter-widgets/controls"
          }
        },
        "f3f3258031aa41479b85de667061bd05": {
          "model_module": "@jupyter-widgets/base",
          "model_name": "LayoutModel",
          "state": {
            "_view_name": "LayoutView",
            "grid_template_rows": null,
            "right": null,
            "justify_content": null,
            "_view_module": "@jupyter-widgets/base",
            "overflow": null,
            "_model_module_version": "1.2.0",
            "_view_count": null,
            "flex_flow": null,
            "width": null,
            "min_width": null,
            "border": null,
            "align_items": null,
            "bottom": null,
            "_model_module": "@jupyter-widgets/base",
            "top": null,
            "grid_column": null,
            "overflow_y": null,
            "overflow_x": null,
            "grid_auto_flow": null,
            "grid_area": null,
            "grid_template_columns": null,
            "flex": null,
            "_model_name": "LayoutModel",
            "justify_items": null,
            "grid_row": null,
            "max_height": null,
            "align_content": null,
            "visibility": null,
            "align_self": null,
            "height": null,
            "min_height": null,
            "padding": null,
            "grid_auto_rows": null,
            "grid_gap": null,
            "max_width": null,
            "order": null,
            "_view_module_version": "1.2.0",
            "grid_template_areas": null,
            "object_position": null,
            "object_fit": null,
            "grid_auto_columns": null,
            "margin": null,
            "display": null,
            "left": null
          }
        },
        "98ea7555dd654ccf96b7d848744e4e20": {
          "model_module": "@jupyter-widgets/output",
          "model_name": "OutputModel",
          "state": {
            "_view_name": "OutputView",
            "msg_id": "",
            "_dom_classes": [],
            "_model_name": "OutputModel",
            "outputs": [
              {
                "output_type": "stream",
                "metadata": {
                  "tags": []
                },
                "text": "\n\n",
                "stream": "stdout"
              },
              {
                "output_type": "display_data",
                "metadata": {
                  "tags": [],
                  "needs_background": "light"
                },
                "image/png": "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\n",
                "text/plain": "<Figure size 5400x360 with 1 Axes>"
              }
            ],
            "_view_module": "@jupyter-widgets/output",
            "_model_module_version": "1.0.0",
            "_view_count": null,
            "_view_module_version": "1.0.0",
            "layout": "IPY_MODEL_1afe0c706beb46ea98f7830a54745f1b",
            "_model_module": "@jupyter-widgets/output"
          }
        },
        "1afe0c706beb46ea98f7830a54745f1b": {
          "model_module": "@jupyter-widgets/base",
          "model_name": "LayoutModel",
          "state": {
            "_view_name": "LayoutView",
            "grid_template_rows": null,
            "right": null,
            "justify_content": null,
            "_view_module": "@jupyter-widgets/base",
            "overflow": null,
            "_model_module_version": "1.2.0",
            "_view_count": null,
            "flex_flow": null,
            "width": null,
            "min_width": null,
            "border": null,
            "align_items": null,
            "bottom": null,
            "_model_module": "@jupyter-widgets/base",
            "top": null,
            "grid_column": null,
            "overflow_y": null,
            "overflow_x": null,
            "grid_auto_flow": null,
            "grid_area": null,
            "grid_template_columns": null,
            "flex": null,
            "_model_name": "LayoutModel",
            "justify_items": null,
            "grid_row": null,
            "max_height": null,
            "align_content": null,
            "visibility": null,
            "align_self": null,
            "height": null,
            "min_height": null,
            "padding": null,
            "grid_auto_rows": null,
            "grid_gap": null,
            "max_width": null,
            "order": null,
            "_view_module_version": "1.2.0",
            "grid_template_areas": null,
            "object_position": null,
            "object_fit": null,
            "grid_auto_columns": null,
            "margin": null,
            "display": null,
            "left": null
          }
        }
      }
    }
  },
  "cells": [
    {
      "cell_type": "markdown",
      "metadata": {
        "id": "view-in-github",
        "colab_type": "text"
      },
      "source": [
        "<a href=\"https://colab.research.google.com/github/Dengesizizm/ME462Project/blob/master/Week10/Week10.ipynb\" target=\"_parent\"><img src=\"https://colab.research.google.com/assets/colab-badge.svg\" alt=\"Open In Colab\"/></a>"
      ]
    },
    {
      "cell_type": "markdown",
      "metadata": {
        "id": "CO7ooX-_2F6E",
        "colab_type": "text"
      },
      "source": [
        "&nbsp;&nbsp;&nbsp;Welcome back to Control Systems Notebook! This week, we will study the Step Response of LTI Systems to understand the behaviour of a stable control system under the step input."
      ]
    },
    {
      "cell_type": "markdown",
      "metadata": {
        "id": "0Ub3m8B4GcYI",
        "colab_type": "text"
      },
      "source": [
        "# Step Response of LTI Systems $\\color {green}{Finished}$\n",
        "\n",
        "</br>&nbsp;&nbsp;&nbsp;Consider the following <ins>*stable*</ins> system.</br></br>\n",
        "<center><img src=\"https://raw.githubusercontent.com/Dengesizizm/ME462Project/master/Week10/Figures/Simple%20Transfer%20Function.png\"></img></center>\n",
        "\n",
        "</br></br>$$Y(s) = G(s) \\: X(s) \\label{1} \\tag{1}$$\n",
        "\n",
        "&nbsp;&nbsp;&nbsp;<ins>**Input:**</ins>\n",
        "\n",
        "$$ x(t) = x_0 \\: h(t) \\implies X(s) = \\frac{x_0}{s} \\label{2} \\tag{2}$$\n",
        "\n",
        "&nbsp;&nbsp;&nbsp;<ins>**Initial conditions:**</ins> \n",
        "$$ y(0^-) = \\dot{y}(0^-) = \\dots = 0 \\label{3} \\tag{3}$$\n",
        "\n",
        "&nbsp;&nbsp;&nbsp;$\\bullet \\quad y_0 = y(0^+)$\n",
        "\n",
        "&nbsp;&nbsp;&nbsp;$\\bullet \\quad \\dot{y}_0 = \\dot{y}(0^+)$</br></br></br></br>"
      ]
    },
    {
      "cell_type": "markdown",
      "metadata": {
        "id": "9cusI74tlwvH",
        "colab_type": "text"
      },
      "source": [
        "## Initial Value Theorem $\\color {green}{Finished}$\n",
        "\n",
        "&nbsp;&nbsp;&nbsp;Let's refresh our memories from the last week's topic: Final Value Theorem. We have found an equation as follows:\n",
        "\n",
        "$$g(t)e^{-st}\\Big|_0^\\infty+s\\int_{0}^{\\infty} g(t)e^{-st}=sG(s)-g(0)$$\n",
        "\n",
        "&nbsp;&nbsp;&nbsp;In Final Value Theorem, we evaluated this equation with $\\lim \\limits_{s \\to 0}$. Now let's try to obtain another expression by evaluating this equation with $\\lim \\limits_{s \\to \\infty}$.\n",
        "\n",
        "$$\\lim \\limits_{s \\to \\infty} \\int \\limits_{0}^{\\infty} \\left[\\frac{d}{d\\text{t}} \\: g(t)\\right] \\: e^{-s\\text{t}} \\: d \\text{t} = 0 = \\lim \\limits_{s \\to \\infty} \\left[s \\: G(s) - g(0)\\right]$$\n",
        "\n",
        "$$\\implies \\lim \\limits_{s \\to \\infty} s \\: G(s) = g(0)$$</br></br></br>\n",
        "\n",
        "\n",
        "\n",
        "---\n",
        "\n",
        "\n",
        "***Note***: Do not confuse the $G(s)$ shown here with the transfer function notation.\n",
        "\n",
        "\n",
        "---\n",
        "\n",
        "</br></br></br></br>"
      ]
    },
    {
      "cell_type": "markdown",
      "metadata": {
        "id": "pD_2FrGilsCl",
        "colab_type": "text"
      },
      "source": [
        "## Step Response of First Order LTI Systems $\\color{green}{Finished}$\n",
        "\n",
        "</br>$$G(s) = \\frac{b_1 s + b_0}{a_1 s + a_0} = K \\frac{T_0 s + 1}{T s + 1} \\label{4} \\tag{4}$$\n",
        "\n",
        "&nbsp;&nbsp;&nbsp;$K = \\frac{b_0}{a_0} = G(0) =$ <ins>***SS gain***</ins> or, <ins>***DC gain.***</ins>\n",
        "</br></br>&nbsp;&nbsp;&nbsp;$T = \\frac{a_1}{a_0} =$ <ins>***Time constant***</ins> of the system.\n",
        "</br></br>&nbsp;&nbsp;&nbsp;$T_0 = \\frac{b_1}{b_0} =$ <ins>***Numerator time constant.***</ins>\n",
        "\n",
        "</br>&nbsp;&nbsp;&nbsp;$\\bullet \\quad$ Substituting \\eqref{4} in \\eqref{1} and taking inverse Laplace of the equation, we get the input/output relation in the time domain as:\n",
        "\n",
        "$$T \\: \\dot{y}(t) + y(t) = K \\: T_0 \\: \\dot{x}(t) + K \\: x(t) = K \\: T_0 \\: x_0 \\: \\delta (t) + K \\: x_0 \\: h(t) \\label{5} \\tag{5}$$</br></br></br></br>"
      ]
    },
    {
      "cell_type": "markdown",
      "metadata": {
        "id": "7bKhnc9ylzHK",
        "colab_type": "text"
      },
      "source": [
        "<a name=\"first-order-t0=0\"></a>\n",
        "### $T_0 = 0$ Case $\\color{green}{Finished}$\n",
        "\n",
        "&nbsp;&nbsp;&nbsp;Now consider the ***numerator time constant*** ($\\text{T}_0$) is *zero*. Then the \\eqref{4} becomes:\n",
        "\n",
        "$$\\boxed{G(s) = \\frac{K}{Ts + 1}}$$\n",
        "\n",
        "$$\\therefore Y(s) = \\frac{K}{Ts + 1} \\frac{x_0}{s}$$\n",
        "\n",
        "&nbsp;&nbsp;&nbsp;From **FVT**:\n",
        "\n",
        "$$\\boxed{y_f} = \\lim \\limits_{s \\to 0} s \\: Y(s) = \\lim \\limits_{s \\to 0} s \\frac{K}{Ts + 1} \\frac{x_0}{s} = \\boxed{K \\: x_0}$$\n",
        "\n",
        "&nbsp;&nbsp;&nbsp;From **IVT**:\n",
        "\n",
        "$$\\boxed{y_0} = \\lim \\limits_{s \\to \\infty} s \\: Y(s) = \\lim \\limits_{s \\to \\infty} s \\frac{K}{Ts + 1} \\frac{x_0}{s} = \\boxed{0}$$\n",
        "\n",
        "$$\\text{and}$$\n",
        "\n",
        "$$\\dot {y}_0 = \\frac{y_f}{T} = \\text{tan} \\: \\theta \\quad \\text{which will be obtained from \\eqref{6}}$$\n",
        "\n",
        "$$y(t) = L^{-1} \\left[Y(s)\\right] = L^{-1} \\left[\\frac{K}{Ts + 1} \\frac{x_0}{s}\\right] \\implies \\boxed{y(t) = y_f \\Bigg(1 - e^{-\\frac{\\text{t}}{\\text{T}}}\\Bigg) h(t)} \\label{6} \\tag{6}$$\n",
        "\n",
        "</br>&nbsp;&nbsp;&nbsp;$\\bullet \\quad$ Using \\eqref{5}, we can see that \\eqref{6} is the solution of:\n",
        "\n",
        "$$T \\dot{y}(t) + y(t) = K \\dot{x}(t) = K x_0$$\n",
        "\n",
        "&nbsp;&nbsp;&nbsp;$\\quad \\quad$ where $T_0 = 0$.</br></br></br></br>"
      ]
    },
    {
      "cell_type": "markdown",
      "metadata": {
        "id": "oWQ4V0r4Z8km",
        "colab_type": "text"
      },
      "source": [
        "&nbsp;&nbsp;&nbsp;<ins>**Ex:**</ins>\n",
        "\n",
        "&nbsp;&nbsp;&nbsp;Let's consider a system where;\n",
        "\n",
        "&nbsp;&nbsp;&nbsp;$\\bullet \\quad T_0 = 0$\n",
        "</br>&nbsp;&nbsp;&nbsp;$\\bullet \\quad y_f = 1$\n",
        "</br>&nbsp;&nbsp;&nbsp;$\\bullet \\quad T = 1$\n",
        "\n",
        "</br>&nbsp;&nbsp;&nbsp;In the following graph, we can see that $y(t)$ reaches 99.3% of the $y_f$ where the $t = 5T$. You can play with the $y_f$ and $T$ numbers and see it is pretty much the same for every value. Therefore, for all practical purposes we can say $y \\cong y_f$ for $\\text{t} \\geq 5 \\text{T}$.\n",
        "\n",
        "&nbsp;&nbsp;&nbsp;We can also see that as $\\text T$ gets smaller (i.e., as the pole moves away from the Im. axis), system gets faster.\n"
      ]
    },
    {
      "cell_type": "code",
      "metadata": {
        "id": "vQCsIxazbPjN",
        "colab_type": "code",
        "colab": {
          "base_uri": "https://localhost:8080/",
          "height": 424,
          "referenced_widgets": [
            "f9517f406c2a488b9ccf03b7a49c9dda",
            "84616b38b03c46e4a595f11a7dece5c8",
            "268a8adf69094f5cbd31a3c379247125",
            "dd42ae1931cd44bf95dab6c316e3b54a",
            "8f38da401eab4ab796cb7808a8ffcd88",
            "51e6784796e745c38b0aaf6f3b1dfeb6",
            "482b59a3c10343489d8159d72499e3ec",
            "f3f3258031aa41479b85de667061bd05",
            "98ea7555dd654ccf96b7d848744e4e20",
            "1afe0c706beb46ea98f7830a54745f1b"
          ]
        },
        "outputId": "0a4a8703-573d-4006-9a82-3cdcdc7ade29"
      },
      "source": [
        "  import matplotlib.pyplot as plt\n",
        "  import numpy as np\n",
        "  from IPython.display import display\n",
        "  from IPython.display import Markdown as md\n",
        "  import ipywidgets as widgets\n",
        "  from ipywidgets import interact, interactive, fixed, interact_manual, Layout, HBox, Label, VBox, interactive_output\n",
        "  \n",
        "  def y(t, T, y_f):\n",
        "    return y_f * (1 - np.exp(-t/T)) * np.heaviside(t, 1) #heaviside function represents the step function\n",
        "\n",
        "  def plot_function(T, y_f):\n",
        "    t = np.arange(-2., 5*T + 5, 0.01)\n",
        "    figure = plt.figure(figsize=(75,5))\n",
        "    sub_plot = figure.add_subplot(131)\n",
        "\n",
        "    sub_plot.plot(t, y(t, T, y_f))\n",
        "\n",
        "    plt.annotate(f\"$y(5T)={y(5*T, T, y_f)/y_f}y_f$\", xy=(5*T, y(5*T, T, y_f)), xytext=(5*T + 1.2, y(5*T, T, y_f + 0.5)), fontsize=20,\n",
        "              arrowprops=dict(facecolor='black', shrink=0.05),\n",
        "              )\n",
        "    plt.xticks(np.arange(-2, 5*T + 6, 1.0))\n",
        "\n",
        "    sub_plot.set_xlabel('t')\n",
        "\n",
        "\n",
        "    sub_plot.set_ylabel('y(t)')\n",
        "    sub_plot.grid(True)\n",
        "    print(\"\\n\")\n",
        "  \n",
        "\n",
        "  T = widgets.FloatSlider(value=1, min=0.1,max=10.0, step=0.1,description='T =',disabled=False,continuous_update=False,orientation='horizontal',readout=True,readout_format='.1f',)\n",
        "  y_f = widgets.FloatSlider(value=1, min=0.1,max=10.0, step=0.1,description='y_f =',disabled=False,continuous_update=False,orientation='horizontal',readout=True,readout_format='.1f',)\n",
        "  out1 = interactive_output(plot_function,{\"T\":T, \"y_f\":y_f})\n",
        "\n",
        "  hbox1 = HBox((T, y_f))\n",
        "  display(hbox1, out1)"
      ],
      "execution_count": 2,
      "outputs": [
        {
          "output_type": "display_data",
          "data": {
            "application/vnd.jupyter.widget-view+json": {
              "model_id": "f9517f406c2a488b9ccf03b7a49c9dda",
              "version_minor": 0,
              "version_major": 2
            },
            "text/plain": [
              "HBox(children=(FloatSlider(value=1.0, continuous_update=False, description='T =', max=10.0, min=0.1, readout_f…"
            ]
          },
          "metadata": {
            "tags": []
          }
        },
        {
          "output_type": "display_data",
          "data": {
            "application/vnd.jupyter.widget-view+json": {
              "model_id": "98ea7555dd654ccf96b7d848744e4e20",
              "version_minor": 0,
              "version_major": 2
            },
            "text/plain": [
              "Output()"
            ]
          },
          "metadata": {
            "tags": []
          }
        }
      ]
    },
    {
      "cell_type": "markdown",
      "metadata": {
        "id": "TFlAlshBl5HY",
        "colab_type": "text"
      },
      "source": [
        "### $T_0 \\neq 0$ Case $\\color{green}{Finished}$\n",
        "\n",
        "&nbsp;&nbsp;&nbsp;For ***nonzero*** $\\text{T}_0$,  \\eqref{4} remains the same as it is:\n",
        "\n",
        "$$\\boxed{G(s) = K \\frac{T_0 s + 1}{Ts + 1}}$$\n",
        "\n",
        "$$\\therefore Y(s) = K \\frac{T_0 s + 1}{Ts + 1} \\frac{x_0}{s}$$\n",
        "\n",
        "&nbsp;&nbsp;&nbsp;From **FVT**:\n",
        "\n",
        "$$\\boxed{y_f} = \\lim \\limits_{s \\to 0} s \\: Y(s) = \\lim \\limits_{s \\to 0} K s \\frac{T_0 s + 1}{Ts + 1} \\frac{x_0}{s} = \\boxed{K \\: x_0}$$\n",
        "\n",
        "&nbsp;&nbsp;&nbsp;From **IVT**:\n",
        "\n",
        "$$\\boxed{y_0} = \\lim \\limits_{s \\to \\infty} s \\: Y(s) = \\lim \\limits_{s \\to \\infty} K s \\frac{T_0 s + 1}{Ts + 1} \\frac{x_0}{s} = \\frac{K T_0}{T} x_0 = \\boxed{\\frac{T_0}{T}y_f} \\label{7} \\tag{7}$$\n",
        "\n",
        "$$\\text{and}$$\n",
        "\n",
        "$$\\dot {y}_0 = \\frac{y_f - y_0}{T} \\label{8} \\tag{8}$$</br></br></br>\n",
        "\n",
        "\n",
        "---\n",
        "\n",
        "\n",
        "***Note***:$\\quad y_0 \\neq 0$ means there is an initial jump!\n",
        "\n",
        "\n",
        "---\n",
        "\n",
        "\n",
        "</br></br></br>$$L(\\dot{y}) = s Y(s) - y_0 = K s \\frac{T_0 s + 1}{T s + 1} \\frac{x_0}{s} - \\frac{K T_0 x_0}{T}$$\n",
        "\n",
        "$$L^{-1} \\left[Y(s)\\right] \\implies \\boxed{y(t) = \\left[y_0 + (y_f - y_0) \\Bigg(1 - e^{-\\frac{\\text{t}}{\\text{T}}}\\Bigg) \\right]h(t)} $$"
      ]
    },
    {
      "cell_type": "markdown",
      "metadata": {
        "id": "Chqm6RymJDN6",
        "colab_type": "text"
      },
      "source": [
        "&nbsp;&nbsp;&nbsp;<ins>**Ex:**</ins>\n",
        "\n",
        "&nbsp;&nbsp;&nbsp;For the following graph example, please experiment with the sliders. If you want some explanation, [click here](#explanation)."
      ]
    },
    {
      "cell_type": "code",
      "metadata": {
        "id": "snb9QCtZAF5r",
        "colab_type": "code",
        "colab": {}
      },
      "source": [
        "  import matplotlib.pyplot as plt\n",
        "  import numpy as np\n",
        "  from IPython.display import display\n",
        "  from IPython.display import Markdown as md\n",
        "  import ipywidgets as widgets\n",
        "  from ipywidgets import interact, interactive, fixed, interact_manual, Layout, HBox, Label, VBox, interactive_output\n",
        "\n",
        "  T = None\n",
        "  T_0 = None\n",
        "  \n",
        "  def y(t, T, T_0, y_f, y_0):\n",
        "    return (y_0 + (y_f - y_0) * (1 - np.exp(-t/T))) * np.heaviside(t, 1) #heaviside function represents the step function\n",
        "\n",
        "  def plot_function(y_f, y_0, y_0_dot):\n",
        "\n",
        "    T = (y_f - y_0) / y_0_dot\n",
        "    T_0 = (y_0 * T) / y_f\n",
        "\n",
        "    print(\"\\nT = \", T)\n",
        "    print(\"T_0 = \", T_0)\n",
        "\n",
        "    t = np.arange(-2., 5*T + 5, 0.01)\n",
        "    figure = plt.figure(figsize=(75,5))\n",
        "    sub_plot = figure.add_subplot(131)\n",
        "    sub_plot.plot(t, y(t, T, T_0, y_f, y_0))\n",
        "    sub_plot.set_xlabel('t')\n",
        "    sub_plot.set_ylabel('y(t)')\n",
        "    sub_plot.grid(True)\n",
        "\n",
        "    print(\"\\n\")\n",
        "  \n",
        "\n",
        "  y_f = widgets.FloatSlider(value=1, min=0.1,max=10.0, step=0.1,description='y_f =',disabled=False,continuous_update=False,orientation='horizontal',readout=True,readout_format='.1f',)\n",
        "  y_0 = widgets.FloatSlider(value=1, min=0.1,max=10.0, step=0.1,description='y_0 =',disabled=False,continuous_update=False,orientation='horizontal',readout=True,readout_format='.1f',)\n",
        "  y_0_dot = widgets.FloatSlider(value=2, min=-10,max=10.0, step=0.1,description='y_0_dot =',disabled=False,continuous_update=False,orientation='horizontal',readout=True,readout_format='.1f',)\n",
        "  out2 = interactive_output(plot_function,{\"y_f\":y_f, \"y_0\":y_0, \"y_0_dot\":y_0_dot})\n",
        "\n",
        "  \n",
        "\n",
        "  hbox1 = HBox((y_f, y_0, y_0_dot))\n",
        "  display(hbox1, out2)"
      ],
      "execution_count": null,
      "outputs": []
    },
    {
      "cell_type": "markdown",
      "metadata": {
        "id": "WmIY7DEsJo7u",
        "colab_type": "text"
      },
      "source": [
        "<a name=\"explanation\"></a>\n",
        "\n",
        "</br></br></br></br></br></br></br></br></br></br>&nbsp;&nbsp;&nbsp;If you haven't already, try to move sliders such that $\\text{T}_0 < \\text{T}$ with $y_0 < y_f$. If you have no idea how to get such values, have a look at \\eqref{7} and \\eqref{8}.\n",
        "\n",
        "&nbsp;&nbsp;&nbsp;After that, try to move the sliders such that $\\text{T}_0 > \\text{T}$ with $y_0 > y_f$. While trying to find these, you may get empty graphs after $0$. Or a graph that does not reach the $y_f$ value. What could be the reason behind this? Does $\\text{T}$ have something with the stability requirements?\n",
        "\n",
        "&nbsp;&nbsp;&nbsp;Yes, for our system to be stable, $\\text{T}$ has to be greater than *zero*.</br></br></br></br>"
      ]
    },
    {
      "cell_type": "markdown",
      "metadata": {
        "id": "71TNyZI8l70_",
        "colab_type": "text"
      },
      "source": [
        "## Step Response of Second Order LTI Systems $\\color{green}{Finished}$\n",
        "\n",
        "$$\\boxed{G(s) = \\frac{b_1 s + b_0}{a_2 s^2 + a_1 s + a_0} = K \\frac{T_0 s + 1}{T^2 s^2 + 2 \\xi T s + 1} = K \\frac{\\eta \\omega_n s + \\omega_n^2}{1s^2 + 2 \\xi \\omega_n s + \\omega_n^2}} \\label{9} \\tag{9}$$\n",
        "\n",
        "</br>&nbsp;&nbsp;&nbsp;$\\bullet \\quad K = \\frac{b_0}{a_0} = G(0) \\quad =$ <ins>*SS Gain*</ins> or, <ins>*DC Gain.*</ins>\n",
        "</br>&nbsp;&nbsp;&nbsp;$\\bullet \\quad T = \\sqrt{\\frac{a_2}{a_0}} \\quad \\quad \\quad \\: \\; =$ <ins>*System characteristic time.*</ins>\n",
        "</br>&nbsp;&nbsp;&nbsp;$\\bullet \\quad T_0 = \\frac{b_1}{b_0} \\quad \\quad \\quad \\quad \\: =$ <ins>*Numerator characteristic time.*</ins>\n",
        "</br>&nbsp;&nbsp;&nbsp;$\\bullet \\quad \\omega_n = \\frac{1}{T} \\quad \\quad \\quad \\quad \\: =$ <ins>*Undamped natural frequency.*</ins>\n",
        "</br>&nbsp;&nbsp;&nbsp;$\\bullet \\quad \\xi = \\frac{a_1 / a_2}{2 \\omega_n} \\quad \\quad \\quad \\; \\; \\: =$ <ins>*Damping ratio.*</ins>\n",
        "</br>&nbsp;&nbsp;&nbsp;$\\bullet \\quad \\eta = \\frac{T_0}{T} = \\omega_n T_0 \\quad \\:  =$ <ins>*Characteristic time ratio.*</ins>\n",
        "\n",
        "</br><ins>**For the underdamped case**</ins> ($0 < \\xi < 1$) **:**\n",
        "\n",
        "</br>&nbsp;&nbsp;&nbsp;$\\sigma = \\xi \\omega_n \\quad \\quad \\quad \\quad \\quad \\: \\: \\: =$ <ins>*Attenuation*</ins> or, <ins>decay rate.</ins>\n",
        "</br>&nbsp;&nbsp;&nbsp;$\\omega_d = \\omega_n \\sqrt{1 - \\xi^2} \\quad \\quad =$ <ins>*Damped natural frequency.*</ins>\n",
        "\n",
        "</br><ins>**Classification with respect to $\\xi$**</ins> **:**\n",
        "\n",
        "</br>&nbsp;&nbsp;&nbsp;$\\xi = 0 \\quad \\quad \\implies $ <ins>*Undamped system.*</ins>\n",
        "</br>&nbsp;&nbsp;&nbsp;$0 < \\xi < 1 \\: \\implies $ <ins>*Underdamped system.*</ins>\n",
        "</br>&nbsp;&nbsp;&nbsp;$\\xi = 1 \\quad \\quad \\implies $ <ins>*Critically Damped system.*</ins>\n",
        "</br>&nbsp;&nbsp;&nbsp;$\\xi > 1 \\quad \\quad \\implies $ <ins>*Overdamped system.*</ins>\n",
        "\n",
        "</br><ins>**Poles and zeros**</ins> **:**\n",
        "\n",
        "</br>&nbsp;&nbsp;&nbsp;$z_1 = - \\frac{1}{T_0} = - \\frac{\\omega_n}{\\eta}$\n",
        "\n",
        "</br>&nbsp;&nbsp;&nbsp;$p_{1,2} = - \\xi \\omega_n \\mp \\omega_n \\sqrt{\\xi^2 - 1} = \\omega_n \\left(\\xi \\mp \\sqrt{\\xi^2 - 1}\\right)$\n",
        "\n",
        "</br>Therefore:\n",
        "\n",
        "</br>&nbsp;&nbsp;&nbsp;$\\xi > 1 \\implies$ 2 distinct real poles$\\quad \\quad \\quad \\quad \\quad \\quad \\;$: $p_{1,2} = - \\omega_n \\left(\\xi \\mp \\sqrt{\\xi^2 - 1}\\right)$\n",
        "\n",
        "</br>&nbsp;&nbsp;&nbsp;$\\xi = 1 \\implies$ 2 equal real poles$\\quad \\quad \\quad \\quad \\quad \\quad \\quad$: $p_1 = p_2 = - \\omega_n$\n",
        "\n",
        "</br>&nbsp;&nbsp;&nbsp;$0 < \\xi < 1 \\implies$ 2 complex conjugate poles$\\quad \\quad$: $p_{1,2} = - \\omega_n \\left(\\xi \\mp j \\sqrt{1 - \\xi^2}\\right) = \\sigma \\mp j \\omega_d$\n",
        "\n",
        "</br>&nbsp;&nbsp;&nbsp;$\\xi = 0 \\implies$ 2 imaginary poles$\\quad \\quad \\quad \\quad \\quad \\quad \\quad$: $p_{1,2} = \\mp j \\omega_n$\n",
        "\n",
        "</br></br></br></br>"
      ]
    },
    {
      "cell_type": "markdown",
      "metadata": {
        "id": "K1ybbnPGl_Ri",
        "colab_type": "text"
      },
      "source": [
        "### $T_0 = 0$ Case $\\color{green}{Finished}$\n",
        "\n",
        "&nbsp;&nbsp;&nbsp;The equation \\eqref{9} becomes:\n",
        "\n",
        "$$\\boxed{G(s) = \\frac{K}{T^2 s^2 + 2 \\xi T s + 1} = \\frac{K \\omega_n^2}{s^2 + 2 \\xi \\omega_n s + \\omega_n^2}} \\label{10} \\tag{10}$$\n",
        "\n",
        "</br>&nbsp;&nbsp;&nbsp;From **FVT**:\n",
        "\n",
        "$$y_f = K x_0 \\quad \\left[\\text{excluding $\\xi = 0$ case, which is marginally stable}\\right]$$\n",
        "\n",
        "</br>&nbsp;&nbsp;&nbsp;From **IVT**:\n",
        "\n",
        "$$y_0 = 0 \\quad , \\quad \\dot{y}_0 = 0$$"
      ]
    },
    {
      "cell_type": "markdown",
      "metadata": {
        "id": "I-uc1pPnmCKU",
        "colab_type": "text"
      },
      "source": [
        "#### Overdamped ($\\xi > 1$) Case $\\color{green}{Finished}$\n",
        "\n",
        "&nbsp;&nbsp;&nbsp;Equation \\eqref{10} becomes:\n",
        "\n",
        "$$\\boxed{G(s) = \\frac{K}{(T_1 s + 1)(T_2 s + 1)}} \\quad , \\text{assuming } T_1 > T_2$$\n",
        "\n",
        "$$\\therefore p_1 = -\\frac{1}{T_1} \\quad , \\quad p_2 = - \\frac{1}{T_2}$$\n",
        "\n",
        "</br>&nbsp;&nbsp;&nbsp;Using partial fractions:\n",
        "\n",
        "$$G(s) = \\frac{K_1}{(T_1 s + 1)} - \\frac{K_2}{(T_2 s + 1)}$$</br>\n",
        "\n",
        "&nbsp;&nbsp;&nbsp;where,\n",
        "\n",
        "$$K_1 = \\frac{K T_1}{T_1 - T_2} \\quad , \\quad K_2 = \\frac{K T_2}{T_1 - T_2}$$</br>\n",
        "\n",
        "\n",
        "\n",
        "---\n",
        "\n",
        "\n",
        "&nbsp;&nbsp;&nbsp;***Note:*** Now the system looks pretty similar to the system in First Order $T_0 = 0$ case, except it is a combination of 2.\n",
        "\n",
        "\n",
        "---\n",
        "\n",
        "\n",
        "</br>&nbsp;&nbsp;&nbsp;Using the results in [First Order $T_0 = 0$ case](#first-order-t0=0) and superposition principle:\n",
        "\n",
        "$$\\boxed{y(t) = y_f \\left(1 - \\frac{T_1}{T_1 - T_2} e^{- \\frac{t}{T_1}} + \\frac{T_2}{T_1 - T_2} e^{- \\frac{t}{T_2}}\\right)h(t)}$$\n",
        "\n",
        "</br></br><center>[Jump to the graph](#t0-graph)</center>\n",
        "\n",
        "</br></br></br></br>"
      ]
    },
    {
      "cell_type": "markdown",
      "metadata": {
        "id": "XjX21RF5mIXD",
        "colab_type": "text"
      },
      "source": [
        "#### Critically Damped ($\\xi = 1$) Case $\\color{red}{Unfinished}$"
      ]
    },
    {
      "cell_type": "markdown",
      "metadata": {
        "id": "wgA_kYD6mLno",
        "colab_type": "text"
      },
      "source": [
        "#### Underdamped ($0 < \\xi < 1$) Case $\\color{red}{Unfinished}$"
      ]
    },
    {
      "cell_type": "markdown",
      "metadata": {
        "id": "oLs-KBZ4mQT4",
        "colab_type": "text"
      },
      "source": [
        "#### Undamped ($\\xi = 0$) Case $\\color{red}{Unfinished}$"
      ]
    },
    {
      "cell_type": "markdown",
      "metadata": {
        "id": "wqUwCmpq68_T",
        "colab_type": "text"
      },
      "source": [
        "<a name=\"t0-graph\"></a>\n",
        "#### $T_0 = 0$ Graph"
      ]
    }
  ]
}