{
  "nbformat": 4,
  "nbformat_minor": 0,
  "metadata": {
    "colab": {
      "name": "Week10.ipynb",
      "provenance": [],
      "collapsed_sections": [],
      "toc_visible": true,
      "authorship_tag": "ABX9TyPtFX+0Bm3p8nCWYEXos0Wg",
      "include_colab_link": true
    },
    "kernelspec": {
      "name": "python3",
      "display_name": "Python 3"
    }
  },
  "cells": [
    {
      "cell_type": "markdown",
      "metadata": {
        "id": "view-in-github",
        "colab_type": "text"
      },
      "source": [
        "<a href=\"https://colab.research.google.com/github/Dengesizizm/ME462Project/blob/master/Week10/Week10.ipynb\" target=\"_parent\"><img src=\"https://colab.research.google.com/assets/colab-badge.svg\" alt=\"Open In Colab\"/></a>"
      ]
    },
    {
      "cell_type": "markdown",
      "metadata": {
        "id": "CO7ooX-_2F6E",
        "colab_type": "text"
      },
      "source": [
        "&nbsp;&nbsp;&nbsp;Welcome back to Control Systems Notebook! This week, we will study the Step Response of LTI Systems to understand the behaviour of a stable control system under the step input."
      ]
    },
    {
      "cell_type": "markdown",
      "metadata": {
        "id": "0Ub3m8B4GcYI",
        "colab_type": "text"
      },
      "source": [
        "# Step Response of LTI Systems $\\color {green}{Finished}$\n",
        "\n",
        "</br>&nbsp;&nbsp;&nbsp;Consider the following <ins>*stable*</ins> system.</br></br>\n",
        "<center><img src=\"https://raw.githubusercontent.com/Dengesizizm/ME462Project/master/Week10/Figures/Simple%20Transfer%20Function.png\"></img></center>\n",
        "\n",
        "</br></br>$$Y(s) = G(s) \\: X(s) \\label{1} \\tag{1}$$\n",
        "\n",
        "&nbsp;&nbsp;&nbsp;<ins>**Input:**</ins>\n",
        "\n",
        "$$ x(t) = x_0 \\: h(t) \\implies X(s) = \\frac{x_0}{s} \\label{2} \\tag{2}$$\n",
        "\n",
        "&nbsp;&nbsp;&nbsp;<ins>**Initial conditions:**</ins> \n",
        "$$ y(0^-) = \\dot{y}(0^-) = \\dots = 0 \\label{3} \\tag{3}$$\n",
        "\n",
        "&nbsp;&nbsp;&nbsp;$\\bullet \\quad y_0 = y(0^+)$\n",
        "\n",
        "&nbsp;&nbsp;&nbsp;$\\bullet \\quad \\dot{y}_0 = \\dot{y}(0^+)$</br></br></br></br>"
      ]
    },
    {
      "cell_type": "markdown",
      "metadata": {
        "id": "9cusI74tlwvH",
        "colab_type": "text"
      },
      "source": [
        "## Initial Value Theorem $\\color {green}{Finished}$\n",
        "\n",
        "&nbsp;&nbsp;&nbsp;Let's refresh our memories from the last week's topic: Final Value Theorem. We have found an equation as follows:\n",
        "\n",
        "$$g(t)e^{-st}\\Big|_0^\\infty+s\\int_{0}^{\\infty} g(t)e^{-st}=sG(s)-g(0)$$\n",
        "\n",
        "&nbsp;&nbsp;&nbsp;In Final Value Theorem, we evaluated this equation with $\\lim \\limits_{s \\to 0}$. Now let's try to obtain another expression by evaluating this equation with $\\lim \\limits_{s \\to \\infty}$.\n",
        "\n",
        "$$\\lim \\limits_{s \\to \\infty} \\int \\limits_{0}^{\\infty} \\left[\\frac{d}{d\\text{t}} \\: g(t)\\right] \\: e^{-s\\text{t}} \\: d \\text{t} = 0 = \\lim \\limits_{s \\to \\infty} \\left[s \\: G(s) - g(0)\\right]$$\n",
        "\n",
        "$$\\implies \\lim \\limits_{s \\to \\infty} s \\: G(s) = g(0)$$</br></br></br>\n",
        "\n",
        "\n",
        "\n",
        "---\n",
        "\n",
        "\n",
        "***Note***: Do not confuse the $G(s)$ shown here with the transfer function notation.\n",
        "\n",
        "\n",
        "---\n",
        "\n",
        "</br></br></br></br>"
      ]
    },
    {
      "cell_type": "markdown",
      "metadata": {
        "id": "pD_2FrGilsCl",
        "colab_type": "text"
      },
      "source": [
        "## Step Response of First Order LTI Systems $\\color{green}{Finished}$\n",
        "\n",
        "</br>$$G(s) = \\frac{b_1 s + b_0}{a_1 s + a_0} = K \\frac{T_0 s + 1}{T s + 1} \\label{4} \\tag{4}$$\n",
        "\n",
        "&nbsp;&nbsp;&nbsp;$K = \\frac{b_0}{a_0} = G(0) =$ <ins>***SS gain***</ins> or, <ins>***DC gain.***</ins>\n",
        "</br></br>&nbsp;&nbsp;&nbsp;$T = \\frac{a_1}{a_0} =$ <ins>***Time constant***</ins> of the system.\n",
        "</br></br>&nbsp;&nbsp;&nbsp;$T_0 = \\frac{b_1}{b_0} =$ <ins>***Numerator time constant.***</ins>\n",
        "\n",
        "</br>&nbsp;&nbsp;&nbsp;$\\bullet \\quad$ Substituting \\eqref{4} in \\eqref{1} and taking inverse Laplace of the equation, we get the input/output relation in the time domain as:\n",
        "\n",
        "$$T \\: \\dot{y}(t) + y(t) = K \\: T_0 \\: \\dot{x}(t) + K \\: x(t) = K \\: T_0 \\: x_0 \\: \\delta (t) + K \\: x_0 \\: h(t) \\label{5} \\tag{5}$$</br></br></br></br>"
      ]
    },
    {
      "cell_type": "markdown",
      "metadata": {
        "id": "7bKhnc9ylzHK",
        "colab_type": "text"
      },
      "source": [
        "### $T_0 = 0$ Case $\\color{green}{Finished}$\n",
        "\n",
        "&nbsp;&nbsp;&nbsp;Now consider the ***numerator time constant*** ($\\text{T}_0$) is *zero*. Then the \\eqref{4} becomes:\n",
        "\n",
        "$$\\boxed{G(s) = \\frac{K}{Ts + 1}}$$\n",
        "\n",
        "$$\\therefore Y(s) = \\frac{K}{Ts + 1} \\frac{x_0}{s}$$\n",
        "\n",
        "&nbsp;&nbsp;&nbsp;From **FVT**:\n",
        "\n",
        "$$\\boxed{y_f} = \\lim \\limits_{s \\to 0} s \\: Y(s) = \\lim \\limits_{s \\to 0} s \\frac{K}{Ts + 1} \\frac{x_0}{s} = \\boxed{K \\: x_0}$$\n",
        "\n",
        "&nbsp;&nbsp;&nbsp;From **IVT**:\n",
        "\n",
        "$$\\boxed{y_0} = \\lim \\limits_{s \\to \\infty} s \\: Y(s) = \\lim \\limits_{s \\to \\infty} s \\frac{K}{Ts + 1} \\frac{x_0}{s} = \\boxed{0}$$\n",
        "\n",
        "$$\\text{and}$$\n",
        "\n",
        "$$\\dot {y}_0 = \\frac{y_f}{T} = \\text{tan} \\: \\theta \\quad \\text{which will be obtained from \\eqref{6}}$$\n",
        "\n",
        "$$y(t) = L^{-1} \\left[Y(s)\\right] = L^{-1} \\left[\\frac{K}{Ts + 1} \\frac{x_0}{s}\\right] \\implies \\boxed{y(t) = y_f \\Bigg(1 - e^{-\\frac{\\text{t}}{\\text{T}}}\\Bigg) h(t)} \\label{6} \\tag{6}$$\n",
        "\n",
        "</br>&nbsp;&nbsp;&nbsp;$\\bullet \\quad$ Using \\eqref{5}, we can see that \\eqref{6} is the solution of:\n",
        "\n",
        "$$T \\dot{y}(t) + y(t) = K \\dot{x}(t) = K x_0$$\n",
        "\n",
        "&nbsp;&nbsp;&nbsp;$\\quad \\quad$ where $T_0 = 0$.</br></br></br></br>"
      ]
    },
    {
      "cell_type": "markdown",
      "metadata": {
        "id": "oWQ4V0r4Z8km",
        "colab_type": "text"
      },
      "source": [
        "&nbsp;&nbsp;&nbsp;<ins>**Ex:**</ins>\n",
        "\n",
        "&nbsp;&nbsp;&nbsp;Let's consider a system where;\n",
        "\n",
        "&nbsp;&nbsp;&nbsp;$\\bullet \\quad T_0 = 0$\n",
        "</br>&nbsp;&nbsp;&nbsp;$\\bullet \\quad y_f = 1$\n",
        "</br>&nbsp;&nbsp;&nbsp;$\\bullet \\quad T = 1$\n",
        "\n",
        "</br>&nbsp;&nbsp;&nbsp;In the following graph, we can see that $y(t)$ reaches 99.3% of the $y_f$ where the $t = 5T$. You can play with the $y_f$ and $T$ numbers and see it is pretty much the same for every value. Therefore, for all practical purposes we can say $y \\cong y_f$ for $\\text{t} \\geq 5 \\text{T}$.\n",
        "\n",
        "&nbsp;&nbsp;&nbsp;We can also see that as $\\text T$ gets smaller (i.e., as the pole moves away from the Im. axis), system gets faster.\n"
      ]
    },
    {
      "cell_type": "code",
      "metadata": {
        "id": "vQCsIxazbPjN",
        "colab_type": "code",
        "colab": {}
      },
      "source": [
        "  import matplotlib.pyplot as plt\n",
        "  import numpy as np\n",
        "  from IPython.display import display\n",
        "  from IPython.display import Markdown as md\n",
        "  from ipywidgets import interact, interactive, fixed, interact_manual, Layout, HBox, Label, VBox, interactive_output\n",
        "  \n",
        "  def y(t, T, y_f):\n",
        "    return y_f * (1 - np.exp(-t/T)) * np.heaviside(t, 1) #heaviside function represents the step function\n",
        "\n",
        "  def plot_function(T, y_f):\n",
        "    t = np.arange(-2., 5*T + 5, 0.01)\n",
        "    figure = plt.figure(figsize=(75,5))\n",
        "    sub_plot = figure.add_subplot(131)\n",
        "\n",
        "    sub_plot.plot(t, y(t, T, y_f))\n",
        "\n",
        "    plt.annotate(f\"$y(5T)={y(5*T, T, y_f)/y_f}y_f$\", xy=(5*T, y(5*T, T, y_f)), xytext=(5*T + 1.2, y(5*T, T, y_f + 0.5)), fontsize=20,\n",
        "              arrowprops=dict(facecolor='black', shrink=0.05),\n",
        "              )\n",
        "    plt.xticks(np.arange(-2, 5*T + 6, 1.0))\n",
        "\n",
        "    sub_plot.set_xlabel('t')\n",
        "\n",
        "\n",
        "    sub_plot.set_ylabel('y(t)')\n",
        "    sub_plot.grid(True)\n",
        "    print(\"\\n\")\n",
        "  \n",
        "\n",
        "  T = widgets.FloatSlider(value=1, min=0.1,max=10.0, step=0.1,description='T =',disabled=False,continuous_update=False,orientation='horizontal',readout=True,readout_format='.1f',)\n",
        "  y_f = widgets.FloatSlider(value=1, min=0.1,max=10.0, step=0.1,description='y_f =',disabled=False,continuous_update=False,orientation='horizontal',readout=True,readout_format='.1f',)\n",
        "  out1 = interactive_output(plot_function,{\"T\":T, \"y_f\":y_f})\n",
        "\n",
        "  hbox1 = HBox((T, y_f))\n",
        "  display(hbox1, out1)"
      ],
      "execution_count": null,
      "outputs": []
    },
    {
      "cell_type": "markdown",
      "metadata": {
        "id": "TFlAlshBl5HY",
        "colab_type": "text"
      },
      "source": [
        "### $T_0 \\neq 0$ Case $\\color{green}{Finished}$\n",
        "\n",
        "&nbsp;&nbsp;&nbsp;For ***nonzero*** $\\text{T}_0$,  \\eqref{4} remains the same as it is:\n",
        "\n",
        "$$\\boxed{G(s) = K \\frac{T_0 s + 1}{Ts + 1}}$$\n",
        "\n",
        "$$\\therefore Y(s) = K \\frac{T_0 s + 1}{Ts + 1} \\frac{x_0}{s}$$\n",
        "\n",
        "&nbsp;&nbsp;&nbsp;From **FVT**:\n",
        "\n",
        "$$\\boxed{y_f} = \\lim \\limits_{s \\to 0} s \\: Y(s) = \\lim \\limits_{s \\to 0} K s \\frac{T_0 s + 1}{Ts + 1} \\frac{x_0}{s} = \\boxed{K \\: x_0}$$\n",
        "\n",
        "&nbsp;&nbsp;&nbsp;From **IVT**:\n",
        "\n",
        "$$\\boxed{y_0} = \\lim \\limits_{s \\to \\infty} s \\: Y(s) = \\lim \\limits_{s \\to \\infty} K s \\frac{T_0 s + 1}{Ts + 1} \\frac{x_0}{s} = \\frac{K T_0}{T} x_0 = \\boxed{\\frac{T_0}{T}y_f} \\label{7} \\tag{7}$$\n",
        "\n",
        "$$\\text{and}$$\n",
        "\n",
        "$$\\dot {y}_0 = \\frac{y_f - y_0}{T} \\label{8} \\tag{8}$$</br></br></br>\n",
        "\n",
        "\n",
        "---\n",
        "\n",
        "\n",
        "***Note***:$\\quad y_0 \\neq 0$ means there is an initial jump!\n",
        "\n",
        "\n",
        "---\n",
        "\n",
        "\n",
        "</br></br></br>$$L(\\dot{y}) = s Y(s) - y_0 = K s \\frac{T_0 s + 1}{T s + 1} \\frac{x_0}{s} - \\frac{K T_0 x_0}{T}$$\n",
        "\n",
        "$$L^{-1} \\left[Y(s)\\right] \\implies \\boxed{y(t) = \\left[y_0 + (y_f - y_0) \\Bigg(1 - e^{-\\frac{\\text{t}}{\\text{T}}}\\Bigg) \\right]h(t)} $$"
      ]
    },
    {
      "cell_type": "markdown",
      "metadata": {
        "id": "Chqm6RymJDN6",
        "colab_type": "text"
      },
      "source": [
        "&nbsp;&nbsp;&nbsp;<ins>**Ex:**</ins>\n",
        "\n",
        "&nbsp;&nbsp;&nbsp;For the following graph example, please experiment with the sliders. For some explanation, [click here](#explanation)."
      ]
    },
    {
      "cell_type": "code",
      "metadata": {
        "id": "snb9QCtZAF5r",
        "colab_type": "code",
        "colab": {}
      },
      "source": [
        "  import matplotlib.pyplot as plt\n",
        "  import numpy as np\n",
        "  from IPython.display import display\n",
        "  from IPython.display import Markdown as md\n",
        "  from ipywidgets import interact, interactive, fixed, interact_manual, Layout, HBox, Label, VBox, interactive_output\n",
        "\n",
        "  T = None\n",
        "  T_0 = None\n",
        "  \n",
        "  def y(t, T, T_0, y_f, y_0):\n",
        "    return (y_0 + (y_f - y_0) * (1 - np.exp(-t/T))) * np.heaviside(t, 1) #heaviside function represents the step function\n",
        "\n",
        "  def plot_function(y_f, y_0, y_0_dot):\n",
        "\n",
        "    T = (y_f - y_0) / y_0_dot\n",
        "    T_0 = (y_0 * T) / y_f\n",
        "\n",
        "    print(\"T = \", T)\n",
        "    print(\"T_0 = \", T_0)\n",
        "\n",
        "    t = np.arange(-2., 5*T + 5, 0.01)\n",
        "    figure = plt.figure(figsize=(75,5))\n",
        "    sub_plot = figure.add_subplot(131)\n",
        "\n",
        "    sub_plot.plot(t, y(t, T, T_0, y_f, y_0))\n",
        "\n",
        "    #plt.annotate(f\"$y(5T)={y(5*T, T, T_0, y_f)/y_f}y_f$\", xy=(5*T, y(5*T, T, T_0, y_f)), xytext=(5*T + 1.2, y(5*T, T, T_0, y_f + 0.5)), fontsize=20,\n",
        "    #          arrowprops=dict(facecolor='black', shrink=0.05),\n",
        "    #          )\n",
        "    #plt.xticks(np.arange(-2, 5*T + 6, 1.0))\n",
        "\n",
        "    sub_plot.set_xlabel('t')\n",
        "\n",
        "\n",
        "    sub_plot.set_ylabel('y(t)')\n",
        "    sub_plot.grid(True)\n",
        "    print(\"\\n\")\n",
        "  \n",
        "\n",
        "  y_f = widgets.FloatSlider(value=1, min=0.1,max=10.0, step=0.1,description='y_f =',disabled=False,continuous_update=False,orientation='horizontal',readout=True,readout_format='.1f',)\n",
        "  y_0 = widgets.FloatSlider(value=0.5, min=0.1,max=10.0, step=0.1,description='y_0 =',disabled=False,continuous_update=False,orientation='horizontal',readout=True,readout_format='.1f',)\n",
        "  y_0_dot = widgets.FloatSlider(value=2, min=-10,max=10.0, step=0.1,description='y_0_dot =',disabled=False,continuous_update=False,orientation='horizontal',readout=True,readout_format='.1f',)\n",
        "  out2 = interactive_output(plot_function,{\"y_f\":y_f, \"y_0\":y_0, \"y_0_dot\":y_0_dot})\n",
        "\n",
        "  \n",
        "\n",
        "  hbox1 = HBox((y_f, y_0, y_0_dot))\n",
        "  display(hbox1, out2)"
      ],
      "execution_count": null,
      "outputs": []
    },
    {
      "cell_type": "markdown",
      "metadata": {
        "id": "WmIY7DEsJo7u",
        "colab_type": "text"
      },
      "source": [
        "<a name=\"explanation\"></a>\n",
        "\n",
        "&nbsp;&nbsp;&nbsp;If you haven't already, try to move sliders such that $\\text{T}_0 < \\text{T}$ with $y_0 < y_f$. If you have no idea how to get such values, have a look at \\eqref{7} and \\eqref{8}.\n",
        "\n",
        "&nbsp;&nbsp;&nbsp;After that, try to move the sliders such that $\\text{T}_0 > \\text{T}$ with $y_0 > y_f$. While trying to find these, you may get empty graphs. What could be the reason behind this? Does $\\text{T}$ have something with the stability requirements?\n",
        "\n",
        "&nbsp;&nbsp;&nbsp;Yes, for our system to be stable, $\\text{T}$ has to be greater than *zero*.</br></br></br></br>"
      ]
    },
    {
      "cell_type": "markdown",
      "metadata": {
        "id": "71TNyZI8l70_",
        "colab_type": "text"
      },
      "source": [
        "## Step Response of Second Order LTI Systems $\\color{red}{Unfinished}$"
      ]
    },
    {
      "cell_type": "markdown",
      "metadata": {
        "id": "K1ybbnPGl_Ri",
        "colab_type": "text"
      },
      "source": [
        "### $T_0 = 0$ Case $\\color{red}{Unfinished}$"
      ]
    },
    {
      "cell_type": "markdown",
      "metadata": {
        "id": "I-uc1pPnmCKU",
        "colab_type": "text"
      },
      "source": [
        "#### Overdamped ($\\xi > 1$) Case $\\color{red}{Unfinished}$"
      ]
    },
    {
      "cell_type": "markdown",
      "metadata": {
        "id": "XjX21RF5mIXD",
        "colab_type": "text"
      },
      "source": [
        "#### Critically Damped ($\\xi = 1$) Case $\\color{red}{Unfinished}$"
      ]
    },
    {
      "cell_type": "markdown",
      "metadata": {
        "id": "wgA_kYD6mLno",
        "colab_type": "text"
      },
      "source": [
        "#### Underdamped ($0 < \\xi < 1$) Case $\\color{red}{Unfinished}$"
      ]
    },
    {
      "cell_type": "markdown",
      "metadata": {
        "id": "oLs-KBZ4mQT4",
        "colab_type": "text"
      },
      "source": [
        "#### Undamped ($\\xi = 0$) Case $\\color{red}{Unfinished}$"
      ]
    }
  ]
}