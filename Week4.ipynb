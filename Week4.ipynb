{
  "nbformat": 4,
  "nbformat_minor": 0,
  "metadata": {
    "colab": {
      "name": "Week4.ipynb",
      "provenance": [],
      "collapsed_sections": [],
      "toc_visible": true,
      "authorship_tag": "ABX9TyNOyJJ7Af6foIJr7Cl81Hcr",
      "include_colab_link": true
    },
    "kernelspec": {
      "name": "python3",
      "display_name": "Python 3"
    }
  },
  "cells": [
    {
      "cell_type": "markdown",
      "metadata": {
        "id": "view-in-github",
        "colab_type": "text"
      },
      "source": [
        "<a href=\"https://colab.research.google.com/github/Dengesizizm/ME462Project/blob/master/Week4.ipynb\" target=\"_parent\"><img src=\"https://colab.research.google.com/assets/colab-badge.svg\" alt=\"Open In Colab\"/></a>"
      ]
    },
    {
      "cell_type": "markdown",
      "metadata": {
        "id": "PyzIBTuOc376",
        "colab_type": "text"
      },
      "source": [
        "&nbsp;&nbsp;&nbsp;Welcome back to *Control Systems Notebooks*! This week, we will continue with the mathematical modeling of the electrical, fluid flow, and thermal systems."
      ]
    },
    {
      "cell_type": "markdown",
      "metadata": {
        "id": "ISekb5Wtcdan",
        "colab_type": "text"
      },
      "source": [
        "\n",
        "### Electrical Systems\n",
        "&nbsp;&nbsp;&nbsp;With the advancement of technology, electrical systems gained importance, and they started to be used in many engineering fields. Therefore, knowledge of the modeling of the electrical systems is essential for controlling various systems. For this course, we will model the basic electrical components such as a capacitor, resistor, inductor, and op-amps."
      ]
    },
    {
      "cell_type": "markdown",
      "metadata": {
        "id": "MOJnu9UKgFT2",
        "colab_type": "text"
      },
      "source": [
        "#### a) Capacitor\n",
        "\n",
        "&nbsp;&nbsp;&nbsp;A capacitor is an electrical component that can store energy in the form of an electrical charge producing a potential difference.  \n",
        "\n",
        "![Capacitor](https://raw.githubusercontent.com/Dengesizizm/ME462Project/master/Week4/Figures/capacitor.png)\n",
        "\n",
        "&nbsp;&nbsp;&nbsp; The voltage drop across the capacitor can be defined by the equation,\n",
        "\n",
        " $$v_1-v_2=\\frac{1}{C}\\int_{t=0}^t i\\,dt.$$\n",
        "\n",
        "&nbsp;&nbsp;&nbsp;where direction of the current i is from high potential to low potential.\n",
        "\n",
        "&nbsp;&nbsp;&nbsp;If we take Laplace transform of the equation above, we can obtain the relation between the voltage difference and current as,\n",
        "\n",
        " $$ \\mathcal{L}\\{v_1-v_2=\\frac{1}{C}\\int_{t=0}^t i\\,dt\\}  \\to V_c(s) = \\frac{1}{Cs}*I(s).$$\n",
        "\n",
        "&nbsp;&nbsp;&nbsp;If you noticed that, voltage difference is directly proportional to the current in the Laplace domain which is similar to the Ohm's law,\n",
        "\n",
        "$$v(t)= R*i(t).$$\n",
        "\n",
        "&nbsp;&nbsp;&nbsp;The term $\\frac{1}{Cs}$ is called *impedance* for capacitor, which is the measure of the opposition to current flow $i$ under applied voltage difference $v_c$.\n",
        "\n",
        "$$Z_C(s)=\\frac{1}{Cs}\\qquad(impedance\\,of\\,the\\,capacitor)$$ \n",
        "\n",
        "\n"
      ]
    },
    {
      "cell_type": "markdown",
      "metadata": {
        "id": "CFLWyMjtQK8M",
        "colab_type": "text"
      },
      "source": [
        "#### b) Resistor\n",
        "\n",
        "&nbsp;&nbsp;&nbsp;Resistance is a measure of the opposition to the flow of electric current as you know well from basic physics.  \n",
        "\n",
        "![Resistor](https://raw.githubusercontent.com/Dengesizizm/ME462Project/master/Week4/Figures/resistor.png)\n",
        "\n",
        "&nbsp;&nbsp;&nbsp; The mathematical model of the resistor is obtained from Ohm's law as,\n",
        "\n",
        " $$v(t)= R*i(t).$$\n",
        "\n",
        "\n",
        "&nbsp;&nbsp;&nbsp;If we take Laplace transform of the equation, we can obtain the relation between the voltage difference and current as,\n",
        "\n",
        " $$\\mathcal{L}\\{v(t)= R*i(t)\\}  \\to V_R(s) = R*I(s).$$\n",
        "\n",
        "&nbsp;&nbsp;&nbsp;In resistor model, resistance value $R$ itself is the *impedance* for resistor.\n",
        "\n",
        "$$Z_R(s)=R\\qquad(impedance\\,of\\,the\\,resistor)$$ \n"
      ]
    },
    {
      "cell_type": "markdown",
      "metadata": {
        "id": "65-3GAN7SVB-",
        "colab_type": "text"
      },
      "source": [
        "#### c) Inductor\n",
        "\n",
        "&nbsp;&nbsp;&nbsp;An inductor is an electrical component that stores energy in a magnetic field when electric current flows through it.  \n",
        "\n",
        "![Inductor](https://raw.githubusercontent.com/Dengesizizm/ME462Project/master/Week4/Figures/inductor.png)\n",
        "\n",
        "&nbsp;&nbsp;&nbsp; The voltage drop across the capacitor can be defined by the equation,\n",
        "\n",
        " $$v_1-v_2=L\\frac{di}{dt}.$$\n",
        "\n",
        "&nbsp;&nbsp;&nbsp;where direction of the current i is from high potential to low potential.\n",
        "\n",
        "&nbsp;&nbsp;&nbsp;If we take Laplace transform of the equation above, we can obtain the relation between the voltage difference and current as,\n",
        "\n",
        " $$ \\mathcal{L}\\{v_1-v_2=L\\frac{di}{dt}\\}  \\to V_L(s) = L*s*I(s)$$\n",
        "\n",
        "&nbsp;&nbsp;&nbsp;If you noticed that, voltage difference is directly proportional to the current in the Laplace domain, similar to the capacitor case. \n",
        " \n",
        "&nbsp;&nbsp;&nbsp;Therefore term $L*s*I(s)$ is called *impedance* for inductor.\n",
        "\n",
        "$$Z_L(s)=L*s*I(s) \\qquad (impedance\\,of\\,the\\,inductor)$$ "
      ]
    },
    {
      "cell_type": "markdown",
      "metadata": {
        "id": "61tCK0wsUwvo",
        "colab_type": "text"
      },
      "source": [
        "#### Kirchhoff's Current & Voltage Laws\n",
        "\n",
        "&nbsp;&nbsp;&nbsp;Up to now, we recalled the equations of the basic electical components and obtained their mathematical models in the Laplace domain separately. \n",
        "\n",
        "&nbsp;&nbsp;&nbsp;However, in the electrical systems, eletrical components used together in the same circuit. Therefore, to obtain transfer function of the whole system, Kirchhoff's current and voltage laws are used, as you know from fundamental physics course.\n",
        "\n",
        "&nbsp;&nbsp;&nbsp; According to the Kirchhoff's current law, for any junction *(node)* in an electrical circuit, the sum of currents flowing into that node is equal to the sum of currents flowing out of that node.\n",
        "\n",
        "![Kirchhoff's Current Law](https://raw.githubusercontent.com/Dengesizizm/ME462Project/master/Week4/Figures/current_law.png)\n",
        "\n",
        "&nbsp;&nbsp;&nbsp;For the figure above we can say that,\n",
        "\n",
        "$$i_1+i_4=i_2+i_3+i_5. $$\n",
        "\n",
        "&nbsp;&nbsp;&nbsp; Furthermore, Kirchhoff's voltage law says that the directed sum of the potential differences *(voltages)* around any closed loop in the circuit is zero.\n",
        "\n",
        "![Kirchhoff's Voltage Law](https://raw.githubusercontent.com/Dengesizizm/ME462Project/master/Week4/Figures/voltage_law.png)\n",
        "\n",
        "&nbsp;&nbsp;&nbsp; If we use the voltage law for the circuit in the figure above, we obtain the equation\n",
        "\n",
        "$$v_b+v_d-v_a-v_c=0. $$\n",
        "\n",
        "&nbsp;&nbsp;&nbsp; ***A Little Advice :***  Before starting to analysis of an electrical system, you can replace all the electrical components in the circuit by their *impedances*. Therefore, you can treat them as resistors and model them by using Ohm's law as we did for a resistor in the section *b)* above. This method may shorten your solution and help you to prevent mistakes.\n",
        "\n",
        "\n"
      ]
    },
    {
      "cell_type": "markdown",
      "metadata": {
        "id": "aIftrVcYRjbv",
        "colab_type": "text"
      },
      "source": [
        "#### d) Operational Amplifiers (Op-amp)\n",
        "\n",
        "&nbsp;&nbsp;&nbsp;An op-amp is an electrical component that produces an output potential which is typically hundreds of thousands of times larger than the potential difference between its input terminals.\n",
        "\n",
        "![Op-amp](https://raw.githubusercontent.com/Dengesizizm/ME462Project/master/Week4/Figures/op_amp.png)\n",
        "\n",
        "&nbsp;&nbsp;&nbsp; If you look at the figure above, there is an op-amp including input and output voltage values. The relation between input voltage difference and output voltage value can be described as,\n",
        "\n",
        " $$e_o=K(e_2-e_1).$$\n",
        "\n",
        "&nbsp;&nbsp;&nbsp;As you can see clearly, input voltage difference is amplified $K$ times, which is called as *differential (voltage) gain*.\n",
        "\n",
        "&nbsp;&nbsp;&nbsp;***Ideal Op-amp:*** While we are modeling the op-amps, we will assume they are *ideal op-amps*. In the ideal op-amp, no current flows into the input terminals. This assumption is quite reasonable since in an actual op-amp, the current flow into the input terminals are very small *(almost negligible)*. \n",
        "<br/><br/>\n",
        "\n",
        "&nbsp;&nbsp;&nbsp; <ins>***Case Study: Inverting Amplifier***</ins>\n",
        "\n",
        "![Inverting Amplifier](https://raw.githubusercontent.com/Dengesizizm/ME462Project/master/Week4/Figures/inverting_op_amp.png)\n",
        "\n",
        "&nbsp;&nbsp;&nbsp;In the figure above, you see an inverting amplifier, which consist of an op-amp and two resistances. It is called as inverting amplifier since the output of the op-amp is provided as feedback to the *inverted terminal $(-)$* of the op-amp. \n",
        "\n",
        "&nbsp;&nbsp;&nbsp;Now, we can try to obtain the mathematical model of the *inverting amplifier* by using models of the electrical components and Kirchhoff's law, as we learned in the previous sections in this notebook.\n",
        "\n",
        "&nbsp;&nbsp;&nbsp;As a first step, let's obtain the eqations of the resistances. If we call the voltage value at the node B as $e_B$,\n",
        "\n",
        "$$i_{AB}=\\frac{e_i-e_B}{R_1}\\qquad i_{CB}=\\frac{e_o-e_B}{R_2}$$\n",
        "\n",
        "&nbsp;&nbsp;&nbsp;where $i_{AB}$ is the current flows from node A to node B, and $i_{CB}$ is the output current of the op-amp. Then, to combine these two equations, we can use Kirchhoff's current law for node B as,\n",
        "\n",
        "$$i_{AB}+i_{CB}=0\\rightarrow \\frac{e_i-e_B}{R_1}+\\frac{e_o-e_B}{R_2}=0 \\rightarrow \\frac{e_i}{R_1}+\\frac{e_o}{R_2}=(\\frac{1}{R_1}+\\frac{1}{R_2})e_B . $$\n",
        "\n",
        "&nbsp;&nbsp;&nbsp;Notice that, since the op-amp is assumed as ideal one, the current flows from node B to the inverted terminal of the op-amp is ***zero***. Therefore, it is not included in the equation above.\n",
        "\n",
        "&nbsp;&nbsp;&nbsp;Furthermore, we have the op-amp equation obtained in the previous section as,\n",
        "\n",
        "$$e_o=K(e_2-e_1) $$\n",
        "\n",
        "&nbsp;&nbsp;&nbsp;where $e_1$ is the voltage value of the inverted terminal (-) and $e_2$ is the voltage value of the non-inverted terminal (+). In the inverting amplifier case,\n",
        " $$e_1= e_B\\quad\\&\\quad e_2=0  \\qquad then\\,\\,equation\\,\\,becomes \\qquad e_o=-Ke_B \\rightarrow e_B=\\frac{-e_o}{K}.$$\n",
        "\n",
        " &nbsp;&nbsp;&nbsp;If we combine the *current law equation* & *op-amp equation* together, we get,\n",
        "\n",
        " $$\\frac{e_i}{R_1}+\\frac{e_o}{R_2}=(\\frac{1}{R_1}+\\frac{1}{R_2})\\frac{-e_o}{K}. $$\n",
        "\n",
        "&nbsp;&nbsp;&nbsp;Then, by playing with this equation, the ratio of the $e_o$ to $e_i$ can be found as,\n",
        "\n",
        "$$\\frac{e_o}{e_i}=\\frac{-\\frac{R_2}{R_1}}{1+\\frac{1+\\frac{R_2}{R_1}}{K}}. $$\n",
        "\n",
        "&nbsp;&nbsp;&nbsp; If we assume that the magnitudes of the resistances $R_1$ & $R_2$ are of comparable order, and since voltage gain of the op-amp $K\\gg1$, the term $\\frac{1+\\frac{R_2}{R_1}}{K}\\approx0.$\n",
        "\n",
        "&nbsp;&nbsp;&nbsp; Then equation of the inverting amplifier simplified to,\n",
        "\n",
        "$$\\frac{e_o(t)}{e_i(t)}=-\\frac{R_2}{R_1}. $$\n",
        "\n",
        "&nbsp;&nbsp;&nbsp;If we take Laplace transform of the equation of the inverting amplifier, *the transfer function of the inverting amplifier* can be obtained as,\n",
        "\n",
        "$$\\mathcal{L}\\{\\frac{e_o(t)}{e_i(t)}  -\\frac{R_2}{R_1}\\}\\rightarrow \\frac{E_o(s)}{E_i(s)}=-\\frac{R_2}{R_1}.$$\n",
        "\n",
        "\n",
        "&nbsp;&nbsp;&nbsp;By using the mathematical models of the components & Kirchhoff's laws as we did in this example, you can obtain the desired transfer functions of the electrical systems, such as op-amps or electrical circuits, in a systematic way! However, dont forget that  practicing on different examples is important for enhancing your mathematical modeling skills. You can find a lot of examples in your lecture notes or reference books.\n",
        "\n",
        "\n",
        "\n",
        "\n",
        "\n",
        "\n",
        "\n",
        "\n",
        "\n",
        "\n",
        "\n",
        "\n",
        "\n",
        "\n",
        "\n",
        "\n",
        "\n",
        "\n",
        "\n"
      ]
    }
  ]
}