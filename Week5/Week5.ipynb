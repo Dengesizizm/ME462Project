{
  "nbformat": 4,
  "nbformat_minor": 0,
  "metadata": {
    "colab": {
      "name": "Week5.ipynb",
      "provenance": [],
      "collapsed_sections": [],
      "authorship_tag": "ABX9TyPdJZQxWETyLK5FlSVLU6mT",
      "include_colab_link": true
    },
    "kernelspec": {
      "name": "python3",
      "display_name": "Python 3"
    }
  },
  "cells": [
    {
      "cell_type": "markdown",
      "metadata": {
        "id": "view-in-github",
        "colab_type": "text"
      },
      "source": [
        "<a href=\"https://colab.research.google.com/github/Dengesizizm/ME462Project/blob/master/Week5/Week5.ipynb\" target=\"_parent\"><img src=\"https://colab.research.google.com/assets/colab-badge.svg\" alt=\"Open In Colab\"/></a>"
      ]
    },
    {
      "cell_type": "markdown",
      "metadata": {
        "id": "MbHiwRREvFIH",
        "colab_type": "text"
      },
      "source": [
        "&nbsp;&nbsp;&nbsp;Welcome again! This week we will be covering two examples about hydro-mechanical and electromechanical systems. Let's start with the hydro-mechanical system example."
      ]
    },
    {
      "cell_type": "markdown",
      "metadata": {
        "id": "FvAtewPquRzT",
        "colab_type": "text"
      },
      "source": [
        "<img src=\"https://raw.githubusercontent.com/Dengesizizm/ME462Project/master/Week5/Figures/example_1.png\"></img>"
      ]
    },
    {
      "cell_type": "markdown",
      "metadata": {
        "id": "ABM7xiHrvOkC",
        "colab_type": "text"
      },
      "source": [
        "&nbsp;&nbsp;&nbsp;It is asked to find the **Transfer Functions** corresponding to the **Inputs: $f(t)$ and $p(t)$** and the **Output: $x(t)$** using gage pressures.</br></br>\n",
        "\n",
        "\n",
        "---\n",
        "\n",
        "\n",
        "&nbsp;&nbsp;&nbsp;***Note***: Gage pressure for ***point k*** is\n",
        "$$\\tilde{p_k} = p_k - p_a$$\n",
        "&nbsp;&nbsp;&nbsp;where $p_k$ is the pressure at ***point k*** and $p_a$ is the atmosheric pressure.</br>\n",
        "\n",
        "\n",
        "---\n",
        "\n",
        "\n",
        "</br>&nbsp;&nbsp;&nbsp;Let's start with writing the ***Pump*** equation:\n",
        "$$\\tilde{p_1} = \\tilde{p_a} + p = 0 + p \\tag{1}\\label{1}$$\n",
        "\n",
        "&nbsp;&nbsp;&nbsp;(Recall: $\\tilde{p_a} = p_a - p_a = 0$)</br></br>\n",
        "\n",
        "&nbsp;&nbsp;&nbsp;***Valve*** equation:\n",
        "$$\\tilde{p_1} - \\tilde{p_2} = R \\: Q_1 \\tag{2}\\label{2}$$</br></br>\n",
        "\n",
        "&nbsp;&nbsp;&nbsp;***Tank*** equation:\n",
        "$$C \\: \\frac{d}{dt}(\\tilde{p_2} - 0) = Q_1 - Q_2 \\tag{3}\\label{3}$$</br></br>\n",
        "\n",
        "&nbsp;&nbsp;&nbsp;***Piston cylinder*** equations:\n",
        "$$f_p = A \\: (\\tilde{p_2} - 0) \\tag{4}\\label{4}$$</br>\n",
        "\n",
        "$$Q_2 = A \\: \\dot{x} \\tag{5}\\label{5}$$</br></br>\n",
        "\n",
        "&nbsp;&nbsp;&nbsp;Also from the FBD of ***m***:\n",
        "$$f_p - b \\: \\dot{x} - f = m \\: \\ddot{x} \\tag{6}\\label{6}$$</br></br>\n",
        "\n",
        "&nbsp;&nbsp;&nbsp;We have 6 time domain equations in the 6 unknown functions which are: $\\: \\tilde{p_1}(t),\\: Q_1(t),\\: \\tilde{p_2}(t),\\: Q_2(t),\\: f_p(t),\\: x(t)$"
      ]
    },
    {
      "cell_type": "markdown",
      "metadata": {
        "id": "doqPwtTeCu4h",
        "colab_type": "text"
      },
      "source": [
        "&nbsp;&nbsp;&nbsp;Taking Laplace transform of these 6 equations, we get:\n",
        "\n",
        "$$\\tilde{P_1}(s) = P(s) \\tag{L1}\\label{L1}$$</br>\n",
        "\n",
        "$$\\tilde{P_1}(s) - \\tilde{P_2}(s) = R \\: Q_1(s) \\tag{L2}\\label{L2}$$</br>\n",
        "\n",
        "$$C \\: s \\: \\tilde{P_2}(s) = Q_1(s) - Q_2(s) \\tag{L3}\\label{L3}$$</br>\n",
        "\n",
        "$$F_p(s) = A \\: \\tilde{P_2}(s) \\tag{L4}\\label{L4}$$</br>\n",
        "\n",
        "$$Q_2(s) = A \\: s \\: X(s) \\tag{L5}\\label{L5}$$</br>\n",
        "\n",
        "$$F_p(s) - b \\: s \\: X(s) - F(s) = m \\: s^2 \\: X(s) \\tag{L6}\\label{L6}$$</br>"
      ]
    },
    {
      "cell_type": "markdown",
      "metadata": {
        "id": "YMiqEJJefF00",
        "colab_type": "text"
      },
      "source": [
        "&nbsp;&nbsp;&nbsp;To get the **Transfer Functions**, we need to solve these 6 equations (L1 - L6) for $X(s)$.\n",
        "\n",
        "&nbsp;&nbsp;&nbsp;We can start by eliminating the $Q_2(s)$ term in the \\eqref{L3} with the help of \\eqref{L5}. Elimination of the $\\tilde{P_1}(s)$ in \\eqref{L2} is also easy to perform with the help of \\eqref{L1}. The equation system we have now consists of these 4 equations that we tagged them as *intermediate step (IS)*:</br>\n",
        "\n",
        "$$P(s) - \\tilde{P_2}(s) = R \\: Q_1(s) \\tag{IS1-a}\\label{IS1-a}$$</br>\n",
        "\n",
        "$$C \\: s \\: \\tilde{P_2}(s) = Q_1(s) - A \\: s \\: X(s) \\tag{IS1-b}\\label{IS1-b}$$</br>\n",
        "\n",
        "$$F_p(s) = A \\: \\tilde{P_2}(s) \\tag{IS1-c}\\label{IS1-c}$$</br>\n",
        "\n",
        "$$F_p(s) - b \\: s \\: X(s) - F(s) = m \\: s^2 \\: X(s) \\tag{IS1-d}\\label{IS1-d}$$</br>"
      ]
    },
    {
      "cell_type": "markdown",
      "metadata": {
        "id": "oxmqd549jHQw",
        "colab_type": "text"
      },
      "source": [
        "&nbsp;&nbsp;&nbsp;Now it is time to eliminate the $\\tilde{P_2}(s)$ term in equations \\eqref{IS1-a} and \\eqref{IS1-b} with the help of \\eqref{IS1-c}. Now we have these 3 equations:\n",
        "\n",
        "$$P(s) - \\frac{F_p(s)}{A} = R \\: Q_1(s) \\tag{IS2-a}\\label{IS2-a}$$</br>\n",
        "\n",
        "$$C \\: s \\: \\frac{F_p(s)}{A} = Q_1(s) - A \\: s \\: X(s) \\tag{IS2-b}\\label{IS2-b}$$</br>\n",
        "\n",
        "$$F_p(s) - b \\: s \\: X(s) - F(s) = m \\: s^2 \\: X(s) \\tag{IS2-c}\\label{IS2-c}$$</br>"
      ]
    },
    {
      "cell_type": "markdown",
      "metadata": {
        "id": "dU8V2h4NrAXo",
        "colab_type": "text"
      },
      "source": [
        "&nbsp;&nbsp;&nbsp;Eliminating the $Q_1(s)$ term in \\eqref{IS2-b} with the help of \\eqref{IS2-a}, we get the following 2 equations:\n",
        "\n",
        "$$F_p(s) = \\frac{A}{R \\: C\\: s + 1} P(s) - \\frac{A^2 \\: R \\: s}{R \\: C \\: s + 1} X(s) \\tag{IS3-a}\\label{IS3-a}$$</br>\n",
        "\n",
        "$$F_p(s) - b \\: s \\: X(s) - F(s) = m \\: s^2 \\: X(s) \\tag{IS3-b}\\label{IS3-b}$$</br>"
      ]
    },
    {
      "cell_type": "markdown",
      "metadata": {
        "id": "RWQIcDFy0KFs",
        "colab_type": "text"
      },
      "source": [
        "&nbsp;&nbsp;&nbsp;Lastly, eliminating the $F_p(s)$ term in \\eqref{IS3-b} with the help of \\eqref{IS3-a}, we get:\n",
        "\n",
        "$$X(s) = \\frac{A}{s[(m \\: R \\: C)s^2 + (m + b \\: R \\: C)s + (b + A^2 \\: R)]} P(s) - \\frac{R \\: C \\: s + 1}{s[(m \\: R \\: C)s^2 + (m + b \\: R \\: C)s + (b + A^2 \\: R)]} F(s)$$\n",
        "\n",
        "&nbsp;&nbsp;&nbsp;Therefore we have the **Transfer Functions** as:\n",
        "\n",
        "$$G_{XP}(s) = \\frac{A}{D(s)}$$</br>\n",
        "\n",
        "$$G_{XF}(s) = \\frac{R \\: C \\: s + 1}{D(s)}$$\n",
        "\n",
        "&nbsp;&nbsp;&nbsp;where,\n",
        "\n",
        "$$D(s) = s[(m \\: R \\: C)s^2 + (m + b \\: R \\: C)s + (b + A^2 \\: R)]$$"
      ]
    },
    {
      "cell_type": "markdown",
      "metadata": {
        "id": "Vd1uCNt6CVot",
        "colab_type": "text"
      },
      "source": [
        "&nbsp;&nbsp;&nbsp;Let's see what we can do with this system with the help of Python Control Systems Library. First, we need to install the library with the following command."
      ]
    },
    {
      "cell_type": "code",
      "metadata": {
        "id": "D6k1kdSUVMRm",
        "colab_type": "code",
        "colab": {
          "base_uri": "https://localhost:8080/",
          "height": 323
        },
        "outputId": "2f4bc37a-1c33-4fd6-df85-fdfb19dfaf07"
      },
      "source": [
        "pip install control"
      ],
      "execution_count": 1,
      "outputs": [
        {
          "output_type": "stream",
          "text": [
            "Collecting control\n",
            "\u001b[?25l  Downloading https://files.pythonhosted.org/packages/e8/b0/32a903138505dd4ea523f8a3fc156c4272aa58b10100ef24ff74ced2fae8/control-0.8.3.tar.gz (249kB)\n",
            "\u001b[K     |████████████████████████████████| 256kB 2.8MB/s \n",
            "\u001b[?25hRequirement already satisfied: numpy in /usr/local/lib/python3.6/dist-packages (from control) (1.18.4)\n",
            "Requirement already satisfied: scipy in /usr/local/lib/python3.6/dist-packages (from control) (1.4.1)\n",
            "Requirement already satisfied: matplotlib in /usr/local/lib/python3.6/dist-packages (from control) (3.2.1)\n",
            "Requirement already satisfied: cycler>=0.10 in /usr/local/lib/python3.6/dist-packages (from matplotlib->control) (0.10.0)\n",
            "Requirement already satisfied: kiwisolver>=1.0.1 in /usr/local/lib/python3.6/dist-packages (from matplotlib->control) (1.2.0)\n",
            "Requirement already satisfied: python-dateutil>=2.1 in /usr/local/lib/python3.6/dist-packages (from matplotlib->control) (2.8.1)\n",
            "Requirement already satisfied: pyparsing!=2.0.4,!=2.1.2,!=2.1.6,>=2.0.1 in /usr/local/lib/python3.6/dist-packages (from matplotlib->control) (2.4.7)\n",
            "Requirement already satisfied: six in /usr/local/lib/python3.6/dist-packages (from cycler>=0.10->matplotlib->control) (1.12.0)\n",
            "Building wheels for collected packages: control\n",
            "  Building wheel for control (setup.py) ... \u001b[?25l\u001b[?25hdone\n",
            "  Created wheel for control: filename=control-0.8.3-py2.py3-none-any.whl size=260982 sha256=c9b9b68d10d8db609b19a5b451c628d0ae23c26d5f5ff90cb6fe43e8036328a8\n",
            "  Stored in directory: /root/.cache/pip/wheels/c2/d9/cc/90b28cb139a6320a3af2285428b6da87eee8d8920c78bb0223\n",
            "Successfully built control\n",
            "Installing collected packages: control\n",
            "Successfully installed control-0.8.3\n"
          ],
          "name": "stdout"
        }
      ]
    },
    {
      "cell_type": "markdown",
      "metadata": {
        "id": "u6_OEM4tE7mJ",
        "colab_type": "text"
      },
      "source": [
        "&nbsp;&nbsp;&nbsp;In our case, we have a Multiple Input Single Output (MISO) System. In order to represent our system we can use the **tf()** function in our library. This function takes two arguments; **num** and **den**. They are 1D *array_like* objects for SISO systems, or 2D nested lists of *array_like* objects for MIMO systems(which also includes MISO systems).</br>\n",
        "\n",
        "&nbsp;&nbsp;&nbsp;While creating MIMO system representation, our **num** and **den** will be 3 dimensional structures, which means we will be seeing something like this: $[[[\\text{we will, see}], [\\text{something, like this}]]]\\:\\:\\: \\leftarrow \\:\\:\\:$ (Notice the 3 square brackets on each side)\n",
        "\n",
        "&nbsp;&nbsp;&nbsp;Before starting the representation, we need to assign some arbitrary, scalar values to $A$, $C$, $R$, $m$ and $b$. Say, we have $A = 0.1$, $C = 35$, $R = 10$, $m = 10$, and $b = 40$. Our system will look like:</br></br>\n",
        "\n",
        "$$X(s) = \\frac{0.1}{3500 \\: s^3 + 95 \\: s^2 + 40.1 \\: s + \\color{red}{0}} P(s) - \\frac{350\\: s + 1}{3500 \\: s^3 + 95 \\: s^2 + 40.1 \\: s + \\color{red}{0}} F(s)$$</br>\n",
        "\n",
        "\n",
        "---\n",
        "\n",
        "\n",
        "&nbsp;&nbsp;&nbsp;***Note***: Notice the **0**'s that are written in red, because **tf** function accepts those scalars inside the lists as starting from the highest power ($s^3$ in our case for the denominator) to the lowest (which is $s^0$ in every case) one.\n",
        "\n",
        "\n",
        "---\n",
        "\n",
        "</br></br>&nbsp;&nbsp;&nbsp;So let's start with importing the function and preparing our **num** and **den** nested lists."
      ]
    },
    {
      "cell_type": "code",
      "metadata": {
        "id": "SAM64JobHDxR",
        "colab_type": "code",
        "colab": {}
      },
      "source": [
        "from control import tf\n",
        "\n",
        "num = [[[0.1], [350, 1]]]\n",
        "den = [[[3500, 95, 40.1, 0], [3500, 95, 40.1, 0]]]"
      ],
      "execution_count": 0,
      "outputs": []
    },
    {
      "cell_type": "code",
      "metadata": {
        "id": "e5TOlj-ISI4O",
        "colab_type": "code",
        "colab": {
          "base_uri": "https://localhost:8080/",
          "height": 204
        },
        "outputId": "88f445c0-ea8d-4c42-c6bb-c0463b735476"
      },
      "source": [
        "sys1 = tf(num, den)\n",
        "print(sys1)"
      ],
      "execution_count": 15,
      "outputs": [
        {
          "output_type": "stream",
          "text": [
            "\n",
            "Input 1 to output 1:\n",
            "            0.1\n",
            "--------------------------\n",
            "3500 s^3 + 95 s^2 + 40.1 s\n",
            "\n",
            "Input 2 to output 1:\n",
            "        350 s + 1\n",
            "--------------------------\n",
            "3500 s^3 + 95 s^2 + 40.1 s\n",
            "\n"
          ],
          "name": "stdout"
        }
      ]
    },
    {
      "cell_type": "code",
      "metadata": {
        "id": "CATCJjLtwqQQ",
        "colab_type": "code",
        "outputId": "53c7c119-442b-4196-a0f9-20507cef49b0",
        "colab": {
          "base_uri": "https://localhost:8080/",
          "height": 187
        }
      },
      "source": [
        "import numpy as np\n",
        "import matplotlib.pyplot as plt\n",
        "\n",
        "from control import tf, mixsyn, feedback, step_response\n",
        "\n",
        "s = tf([1, 0], 1)\n",
        "# the plant\n",
        "g = 200/(10*s + 1) / (0.05*s + 1)**2\n",
        "# disturbance plant\n",
        "gd = 100/(10*s + 1)\n",
        "\n",
        "# first design\n",
        "# sensitivity weighting\n",
        "M = 1.5\n",
        "wb = 10\n",
        "A = 1e-4\n",
        "ws1 = (s/M + wb) / (s + wb*A)\n",
        "# KS weighting\n",
        "wu = tf(1, 1)\n",
        "print(g)\n",
        "print(gd)"
      ],
      "execution_count": 0,
      "outputs": [
        {
          "output_type": "stream",
          "text": [
            "\n",
            "                200\n",
            "----------------------------------\n",
            "0.025 s^3 + 1.002 s^2 + 10.1 s + 1\n",
            "\n",
            "\n",
            "  100\n",
            "--------\n",
            "10 s + 1\n",
            "\n"
          ],
          "name": "stdout"
        }
      ]
    }
  ]
}