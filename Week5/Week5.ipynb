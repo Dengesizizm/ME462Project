{
  "nbformat": 4,
  "nbformat_minor": 0,
  "metadata": {
    "colab": {
      "name": "Week5.ipynb",
      "provenance": [],
      "collapsed_sections": [],
      "toc_visible": true,
      "authorship_tag": "ABX9TyNwItw80RyKVM/LuK50/5n+",
      "include_colab_link": true
    },
    "kernelspec": {
      "name": "python3",
      "display_name": "Python 3"
    }
  },
  "cells": [
    {
      "cell_type": "markdown",
      "metadata": {
        "id": "view-in-github",
        "colab_type": "text"
      },
      "source": [
        "<a href=\"https://colab.research.google.com/github/Dengesizizm/ME462Project/blob/master/Week5/Week5.ipynb\" target=\"_parent\"><img src=\"https://colab.research.google.com/assets/colab-badge.svg\" alt=\"Open In Colab\"/></a>"
      ]
    },
    {
      "cell_type": "markdown",
      "metadata": {
        "id": "MbHiwRREvFIH",
        "colab_type": "text"
      },
      "source": [
        "&nbsp;&nbsp;&nbsp;Welcome again! This week we will be covering an example about hydro-mechanical systems. Let's start!"
      ]
    },
    {
      "cell_type": "markdown",
      "metadata": {
        "id": "FvAtewPquRzT",
        "colab_type": "text"
      },
      "source": [
        "# Example\n",
        "\n",
        "<img src=\"https://raw.githubusercontent.com/Dengesizizm/ME462Project/master/Week5/Figures/example_1.png\"></img>"
      ]
    },
    {
      "cell_type": "markdown",
      "metadata": {
        "id": "ABM7xiHrvOkC",
        "colab_type": "text"
      },
      "source": [
        "# Understanding the Problem\n",
        "\n",
        "&nbsp;&nbsp;&nbsp;It is asked to find the **Transfer Functions** corresponding to the **Inputs: $f(t)$ and $p(t)$** and the **Output: $x(t)$** using gage pressures.</br></br>\n",
        "\n",
        "\n",
        "---\n",
        "\n",
        "\n",
        "&nbsp;&nbsp;&nbsp;***Note***: Gage pressure for ***point k*** is\n",
        "$$\\tilde{p_k} = p_k - p_a$$\n",
        "&nbsp;&nbsp;&nbsp;where $p_k$ is the pressure at ***point k*** and $p_a$ is the atmosheric pressure.</br>\n",
        "\n",
        "\n",
        "---\n",
        "\n",
        "\n",
        "</br>&nbsp;&nbsp;&nbsp;Let's start with writing the ***Pump*** equation:\n",
        "$$\\tilde{p_1} = \\tilde{p_a} + p = 0 + p \\tag{1}\\label{1}$$\n",
        "\n",
        "&nbsp;&nbsp;&nbsp;(Recall: $\\tilde{p_a} = p_a - p_a = 0$)</br></br>\n",
        "\n",
        "&nbsp;&nbsp;&nbsp;***Valve*** equation:\n",
        "$$\\tilde{p_1} - \\tilde{p_2} = R \\: Q_1 \\tag{2}\\label{2}$$</br></br>\n",
        "\n",
        "&nbsp;&nbsp;&nbsp;***Tank*** equation:\n",
        "$$C \\: \\frac{d}{dt}(\\tilde{p_2} - 0) = Q_1 - Q_2 \\tag{3}\\label{3}$$</br></br>\n",
        "\n",
        "&nbsp;&nbsp;&nbsp;***Piston cylinder*** equations:\n",
        "$$f_p = A \\: (\\tilde{p_2} - 0) \\tag{4}\\label{4}$$</br>\n",
        "\n",
        "$$Q_2 = A \\: \\dot{x} \\tag{5}\\label{5}$$</br></br>\n",
        "\n",
        "&nbsp;&nbsp;&nbsp;Also from the FBD of ***m***:\n",
        "$$f_p - b \\: \\dot{x} - f = m \\: \\ddot{x} \\tag{6}\\label{6}$$</br></br>\n",
        "\n",
        "&nbsp;&nbsp;&nbsp;We have 6 time domain equations in the 6 unknown functions which are: $\\: \\tilde{p_1}(t),\\: Q_1(t),\\: \\tilde{p_2}(t),\\: Q_2(t),\\: f_p(t),\\: x(t)$"
      ]
    },
    {
      "cell_type": "markdown",
      "metadata": {
        "id": "doqPwtTeCu4h",
        "colab_type": "text"
      },
      "source": [
        "# Laplace Transform\n",
        "\n",
        "&nbsp;&nbsp;&nbsp;Taking Laplace transform of these 6 equations, we get:\n",
        "\n",
        "$$\\tilde{P_1}(s) = P(s) \\tag{L1}\\label{L1}$$</br>\n",
        "\n",
        "$$\\tilde{P_1}(s) - \\tilde{P_2}(s) = R \\: Q_1(s) \\tag{L2}\\label{L2}$$</br>\n",
        "\n",
        "$$C \\: s \\: \\tilde{P_2}(s) = Q_1(s) - Q_2(s) \\tag{L3}\\label{L3}$$</br>\n",
        "\n",
        "$$F_p(s) = A \\: \\tilde{P_2}(s) \\tag{L4}\\label{L4}$$</br>\n",
        "\n",
        "$$Q_2(s) = A \\: s \\: X(s) \\tag{L5}\\label{L5}$$</br>\n",
        "\n",
        "$$F_p(s) - b \\: s \\: X(s) - F(s) = m \\: s^2 \\: X(s) \\tag{L6}\\label{L6}$$</br>"
      ]
    },
    {
      "cell_type": "markdown",
      "metadata": {
        "id": "iFZugjnhbH7i",
        "colab_type": "text"
      },
      "source": [
        "# Solving the Equation System\n",
        "\n",
        "&nbsp;&nbsp;&nbsp;To get the **Transfer Functions**, we need to solve these 6 equations (L1 - L6) for $X(s)$."
      ]
    },
    {
      "cell_type": "markdown",
      "metadata": {
        "id": "YMiqEJJefF00",
        "colab_type": "text"
      },
      "source": [
        "## Step 1\n",
        "\n",
        "&nbsp;&nbsp;&nbsp;We can start by eliminating the $Q_2(s)$ term in the \\eqref{L3} with the help of \\eqref{L5}. Elimination of the $\\tilde{P_1}(s)$ in \\eqref{L2} is also easy to perform with the help of \\eqref{L1}. The equation system we have now consists of these 4 equations that we tagged them as *intermediate step (IS)*:</br>\n",
        "\n",
        "$$P(s) - \\tilde{P_2}(s) = R \\: Q_1(s) \\tag{IS1-a}\\label{IS1-a}$$</br>\n",
        "\n",
        "$$C \\: s \\: \\tilde{P_2}(s) = Q_1(s) - A \\: s \\: X(s) \\tag{IS1-b}\\label{IS1-b}$$</br>\n",
        "\n",
        "$$F_p(s) = A \\: \\tilde{P_2}(s) \\tag{IS1-c}\\label{IS1-c}$$</br>\n",
        "\n",
        "$$F_p(s) - b \\: s \\: X(s) - F(s) = m \\: s^2 \\: X(s) \\tag{IS1-d}\\label{IS1-d}$$</br>"
      ]
    },
    {
      "cell_type": "markdown",
      "metadata": {
        "id": "oxmqd549jHQw",
        "colab_type": "text"
      },
      "source": [
        "## Step 2\n",
        "\n",
        "&nbsp;&nbsp;&nbsp;Now it is time to eliminate the $\\tilde{P_2}(s)$ term in equations \\eqref{IS1-a} and \\eqref{IS1-b} with the help of \\eqref{IS1-c}. Now we have these 3 equations:\n",
        "\n",
        "$$P(s) - \\frac{F_p(s)}{A} = R \\: Q_1(s) \\tag{IS2-a}\\label{IS2-a}$$</br>\n",
        "\n",
        "$$C \\: s \\: \\frac{F_p(s)}{A} = Q_1(s) - A \\: s \\: X(s) \\tag{IS2-b}\\label{IS2-b}$$</br>\n",
        "\n",
        "$$F_p(s) - b \\: s \\: X(s) - F(s) = m \\: s^2 \\: X(s) \\tag{IS2-c}\\label{IS2-c}$$</br>"
      ]
    },
    {
      "cell_type": "markdown",
      "metadata": {
        "id": "dU8V2h4NrAXo",
        "colab_type": "text"
      },
      "source": [
        "## Step 3\n",
        "\n",
        "&nbsp;&nbsp;&nbsp;Eliminating the $Q_1(s)$ term in \\eqref{IS2-b} with the help of \\eqref{IS2-a}, we get the following 2 equations:\n",
        "\n",
        "$$F_p(s) = \\frac{A}{R \\: C\\: s + 1} P(s) - \\frac{A^2 \\: R \\: s}{R \\: C \\: s + 1} X(s) \\tag{IS3-a}\\label{IS3-a}$$</br>\n",
        "\n",
        "$$F_p(s) - b \\: s \\: X(s) - F(s) = m \\: s^2 \\: X(s) \\tag{IS3-b}\\label{IS3-b}$$</br>"
      ]
    },
    {
      "cell_type": "markdown",
      "metadata": {
        "id": "RWQIcDFy0KFs",
        "colab_type": "text"
      },
      "source": [
        "## Step 4\n",
        "\n",
        "&nbsp;&nbsp;&nbsp;Lastly, eliminating the $F_p(s)$ term in \\eqref{IS3-b} with the help of \\eqref{IS3-a}, we get:\n",
        "\n",
        "$$X(s) = \\frac{A}{s[(m \\: R \\: C)s^2 + (m + b \\: R \\: C)s + (b + A^2 \\: R)]} P(s) - \\frac{R \\: C \\: s + 1}{s[(m \\: R \\: C)s^2 + (m + b \\: R \\: C)s + (b + A^2 \\: R)]} F(s)$$\n",
        "\n",
        "&nbsp;&nbsp;&nbsp;Therefore we have the **Transfer Functions** as:\n",
        "\n",
        "$$G_{XP}(s) = \\frac{A}{D(s)}$$</br>\n",
        "\n",
        "$$G_{XF}(s) = \\frac{R \\: C \\: s + 1}{D(s)}$$\n",
        "\n",
        "&nbsp;&nbsp;&nbsp;where,\n",
        "\n",
        "$$D(s) = s[(m \\: R \\: C)s^2 + (m + b \\: R \\: C)s + (b + A^2 \\: R)]$$"
      ]
    },
    {
      "cell_type": "markdown",
      "metadata": {
        "id": "Vd1uCNt6CVot",
        "colab_type": "text"
      },
      "source": [
        "# Python Control Systems Library\n",
        "\n",
        "&nbsp;&nbsp;&nbsp;Let's see what we can do with this system with the help of Python Control Systems Library. First, we need to install the dependencies and then our library with the following commands."
      ]
    },
    {
      "cell_type": "code",
      "metadata": {
        "id": "Ci-s6IuPa9zG",
        "colab_type": "code",
        "colab": {}
      },
      "source": [
        "pip install slycot"
      ],
      "execution_count": 0,
      "outputs": []
    },
    {
      "cell_type": "code",
      "metadata": {
        "id": "D6k1kdSUVMRm",
        "colab_type": "code",
        "colab": {}
      },
      "source": [
        "pip install control"
      ],
      "execution_count": 0,
      "outputs": []
    },
    {
      "cell_type": "markdown",
      "metadata": {
        "id": "u6_OEM4tE7mJ",
        "colab_type": "text"
      },
      "source": [
        "# Assigning Arbitrary Values to the Constants\n",
        "\n",
        "&nbsp;&nbsp;&nbsp;In our case, we have a Multiple Input Single Output (MISO) System. In order to represent our system we can use the **tf()** function in our library. This function takes two arguments; **num** and **den**. They are 1D *array_like* objects for SISO systems, or 2D nested lists of *array_like* objects for MIMO systems(which also includes MISO systems).</br>\n",
        "\n",
        "&nbsp;&nbsp;&nbsp;While creating MIMO system representation, our **num** and **den** will be 3 dimensional structures, which means we will be seeing something like this: $[[[\\text{we will, see}], [\\text{something, like this}]]]\\:\\:\\: \\leftarrow \\:\\:\\:$ (Notice the 3 square brackets on each side)\n",
        "\n",
        "&nbsp;&nbsp;&nbsp;Before starting the representation, we need to assign some arbitrary, scalar values to $A$, $C$, $R$, $m$ and $b$. Say, we have $A = 0.1$, $C = 35$, $R = 10$, $m = 10$, and $b = 40$. Our system will look like:</br></br>\n",
        "\n",
        "$$X(s) = \\frac{0.1}{3500 \\: s^3 + 95 \\: s^2 + 40.1 \\: s + \\color{red}{0}} P(s) - \\frac{350\\: s + 1}{3500 \\: s^3 + 95 \\: s^2 + 40.1 \\: s + \\color{red}{0}} F(s)$$</br>\n",
        "\n",
        "\n",
        "---\n",
        "\n",
        "\n",
        "&nbsp;&nbsp;&nbsp;***Note***: Notice the **0**'s that are written in red, because **tf** function accepts those scalars inside the lists as starting from the highest power ($s^3$ in our case for the denominator) to the lowest (which is $s^0$ in every case) one.\n",
        "\n",
        "\n",
        "---\n",
        "\n"
      ]
    },
    {
      "cell_type": "markdown",
      "metadata": {
        "id": "kYmwuOVqbe62",
        "colab_type": "text"
      },
      "source": [
        "# Preparing the Numerators and Denominators\n",
        "\n",
        "&nbsp;&nbsp;&nbsp;So let's start with importing the functon and preparing our **num** and **den** nested lists."
      ]
    },
    {
      "cell_type": "code",
      "metadata": {
        "id": "SAM64JobHDxR",
        "colab_type": "code",
        "colab": {}
      },
      "source": [
        "from control import tf\n",
        "\n",
        "num = [[[0.1], [350, 1]]]\n",
        "den = [[[3500, 95, 40.1, 0], [3500, 95, 40.1, 0]]]"
      ],
      "execution_count": 0,
      "outputs": []
    },
    {
      "cell_type": "markdown",
      "metadata": {
        "id": "jQExR-DQTg7_",
        "colab_type": "text"
      },
      "source": [
        "&nbsp;&nbsp;&nbsp;This may be a little bit confusing but I will try to explain it as simple as possible. Let's consider the **num** list.\n",
        "\n",
        "$$\\color{red}{[}[[0.1], [350, 1]]\\color{red}{]}$$\n",
        "&nbsp;&nbsp;&nbsp;Each sub-list of our **num** list corresponds to an output of our system. However, you will notice that we have only one sub-list of **num** list, because we have only one output in our system.\n",
        "\n",
        "$$[\\color{red}{[}[0.1], [350, 1]\\color{red}{]}]$$\n",
        "\n",
        "&nbsp;&nbsp;&nbsp;Now considering this sub-list, we have two more lists (which I will call sub-sub-list) inside of it. These sub-sub-lists correspond to the inputs of our system.\n",
        "\n",
        "$$[[\\color{red}{[}0.1\\color{red}{]}, \\color{red}{[}350, 1\\color{red}{]}]]$$\n",
        "\n",
        "&nbsp;&nbsp;&nbsp;So if I want the numerator of the transfer function relating the second input to the first (and only) output, I would get $[350, 1]$. Considering the last element of this list as the scalar multiplier of $s^0$, I can understand that the numerator I am looking for equals to $350 \\: s + 1$.</br>\n",
        "\n",
        "&nbsp;&nbsp;&nbsp;Same rules apply for the **den** list also. Don't forget the $0$ multiplier of $s^0$ terms while writing them inside the **den** list. Hopefully that explanation was comprehensible."
      ]
    },
    {
      "cell_type": "markdown",
      "metadata": {
        "id": "7csFh2WhXYoj",
        "colab_type": "text"
      },
      "source": [
        "# Representing Our System in Python\n",
        "\n",
        "&nbsp;&nbsp;&nbsp;For the last step, in order to represent our system we will call the **tf** function and assign it to our **sys** variable. By printing it, we get a nice explanation of our system in terms of the transfer functions."
      ]
    },
    {
      "cell_type": "code",
      "metadata": {
        "id": "e5TOlj-ISI4O",
        "colab_type": "code",
        "outputId": "4bf72d6c-8f21-448d-90c2-ff38cfdd7f90",
        "colab": {
          "base_uri": "https://localhost:8080/",
          "height": 204
        }
      },
      "source": [
        "sys = tf(num, den)\n",
        "print(sys)"
      ],
      "execution_count": 44,
      "outputs": [
        {
          "output_type": "stream",
          "text": [
            "\n",
            "Input 1 to output 1:\n",
            "            0.1\n",
            "--------------------------\n",
            "3500 s^3 + 95 s^2 + 40.1 s\n",
            "\n",
            "Input 2 to output 1:\n",
            "        350 s + 1\n",
            "--------------------------\n",
            "3500 s^3 + 95 s^2 + 40.1 s\n",
            "\n"
          ],
          "name": "stdout"
        }
      ]
    },
    {
      "cell_type": "code",
      "metadata": {
        "id": "2-r7znA6YhaT",
        "colab_type": "code",
        "outputId": "82004569-235e-457d-e562-10b4e94a100a",
        "colab": {
          "base_uri": "https://localhost:8080/",
          "height": 374
        }
      },
      "source": [
        "from control import step_response\n",
        "\n",
        "T = [0, 2, 4, 6]\n",
        "\n",
        "print(f\"The step responses of the inputs for the time values {T} are as follows:\\n\")\n",
        "_, yout = step_response(sys, T, input=0, output=0)\n",
        "print(f\"For the first input:\\n{list(yout)}\\n\")\n",
        "_, yout = step_response(sys, T, input=1, output=0)\n",
        "print(f\"For the second input:\\n{list(yout)}\")\n",
        "\n",
        "\n",
        "\n",
        "print(\"\\n\\n\\nPoles of the first transfer function are:\\n\")\n",
        "\n",
        "tf1 = tf(sys.num[0][0], sys.den[0][0])\n",
        "for pole in tf1.pole():\n",
        "  print(pole)\n",
        "\n",
        "print(\"\\nPoles of the second transfer function are:\\n\")\n",
        "\n",
        "tf2 = tf(sys.num[0][1], sys.den[0][1])\n",
        "for pole in tf2.pole():\n",
        "  print(pole)\n",
        "\n"
      ],
      "execution_count": 99,
      "outputs": [
        {
          "output_type": "stream",
          "text": [
            "The step responses of the inputs for the time values [0, 2, 4, 6] are as follows:\n",
            "\n",
            "For the first input:\n",
            "[0.0, 3.749815624102395e-05, 0.00029398331841228595, 0.0009681169460364643]\n",
            "\n",
            "For the second input:\n",
            "[0.0, 0.19605821349070443, 0.7631232768246802, 1.658609482778394]\n",
            "\n",
            "\n",
            "\n",
            "Poles of the first transfer function are:\n",
            "\n",
            "(-0.013571428571428576+0.10617419264432137j)\n",
            "(-0.013571428571428576-0.10617419264432137j)\n",
            "0j\n",
            "\n",
            "Poles of the second transfer function are:\n",
            "\n",
            "(-0.013571428571428576+0.10617419264432137j)\n",
            "(-0.013571428571428576-0.10617419264432137j)\n",
            "0j\n"
          ],
          "name": "stdout"
        }
      ]
    }
  ]
}