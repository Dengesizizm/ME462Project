{
  "nbformat": 4,
  "nbformat_minor": 0,
  "metadata": {
    "colab": {
      "name": "Week13.ipynb",
      "provenance": [],
      "collapsed_sections": [],
      "authorship_tag": "ABX9TyNKyR1zzuPD+7MTRGhGaooW",
      "include_colab_link": true
    },
    "kernelspec": {
      "name": "python3",
      "display_name": "Python 3"
    }
  },
  "cells": [
    {
      "cell_type": "markdown",
      "metadata": {
        "id": "view-in-github",
        "colab_type": "text"
      },
      "source": [
        "<a href=\"https://colab.research.google.com/github/Dengesizizm/ME462Project/blob/master/Week13/Week13.ipynb\" target=\"_parent\"><img src=\"https://colab.research.google.com/assets/colab-badge.svg\" alt=\"Open In Colab\"/></a>"
      ]
    },
    {
      "cell_type": "markdown",
      "metadata": {
        "id": "bdnpdQ-4BhSP",
        "colab_type": "text"
      },
      "source": [
        "&nbsp;&nbsp;&nbsp; Welcome back to Control Systems Notebook! This week, we will continue with the bode diagrams and the bode plots of the basic factors."
      ]
    },
    {
      "cell_type": "markdown",
      "metadata": {
        "id": "RMyd_dO-B_BQ",
        "colab_type": "text"
      },
      "source": [
        "# Bode Diagrams\n",
        "\n",
        "&nbsp;&nbsp;&nbsp;  We know that from the previous week, for a given sinusoidal input $x(t)=A_xsin(wt+\\alpha)$, the steady-state output will be $y(t)=A_ysin(wt+\\alpha+\\phi)$. Also, the amplitude ratio and the phase angle can be found as $M=M(w)=|G(jw)|=\\frac{A_y}{A_x}$ and $\\phi=\\phi(jw)=\\angle G(jw)$ respectively. Bode diagrams are the plots of $M(w)\\,vs.\\,w$ and $\\phi(w)\\,vs.\\,w$ data. They show us what will be the amplitude and phase angle of the output signal when system reaches the steady-state for each frequency ($w$) value. Let's look at the two types of the bode diagram and their properties below.\n",
        "\n",
        "###1. Magnitude(or, Amplitude) Bode Diagram\n",
        "\n",
        "&nbsp;&nbsp;&nbsp;  This bode diagram represents the magnitude ratio vs. frequency plot. However, there are some modifications in the representation such as the magnitude ratio $M(w)$ is in the decibels, $\\overline{M}=20logM(w)$, and the frequency ($w$) axis using the logarithmic scale.\n",
        "\n",
        "###2. Phase Angle Bode Diagram\n",
        "\n",
        "&nbsp;&nbsp;&nbsp;  Phase angle bode diagram represents the phase angle vs. frequency plot—the frequency ($w$) axis using the logarithmic scale as in the magnitude bode diagram.\n",
        "\n",
        "&nbsp;&nbsp;&nbsp;  You can see an example of magnitude and phase angle bode diagram below.\n",
        "\n",
        "<center><img src=\"https://raw.githubusercontent.com/Dengesizizm/ME462Project/master/Week13/Figures/Bode_example.png\"></img></center>\n",
        "\n",
        "\n",
        "&nbsp;&nbsp;&nbsp;  Frequency ranges may be expressed in terms of decades and octaves.\n",
        "\n",
        "&nbsp;&nbsp;&nbsp;  ***Decade:*** Frequency band from $w_1$ to $10w_1$.\n",
        "\n",
        "&nbsp;&nbsp;&nbsp;  ***Octave:*** Frequency band from $w_1$ to $2w_1$.\n",
        "\n",
        "&nbsp;&nbsp;&nbsp;  In the following section, we will look at the bode plots of basic factors used frequently in the transfer functions of the systems.\n",
        "\n"
      ]
    },
    {
      "cell_type": "markdown",
      "metadata": {
        "id": "0nVsKCcTLTNp",
        "colab_type": "text"
      },
      "source": [
        "###1. Constant Gain, K\n",
        "\n",
        "&nbsp;&nbsp;&nbsp; If we take the transfer function of the system as $G(s)=K$, the magnitude ratio and the phase angle can be calculated as,\n",
        "\n",
        "$$\\overline{M}(w)=20logK \\qquad and \\qquad \\phi(w)=0 \\quad if\\,\\,K>0,$$\n",
        "\n",
        "$$\\overline{M}(w)=20log|K| \\qquad and \\qquad \\phi(w)=180^\\circ \\quad if\\,\\,K>0.$$\n",
        "\n",
        "&nbsp;&nbsp;&nbsp; You can see the bode diagram of $G(s)=K$ for different $K$ values by running the code below.\n",
        "\n",
        "&nbsp;&nbsp;&nbsp; Give gains $K=2$ and $K=0.5$, which results in transfer functions $G(s)=2$ and $G(s)=\\frac{1}{2}$ respectively. You can see that their bode plots are symmetrical to $\\overline{M}(w)=0$ and $\\phi=0$. This case can be generalized for all bode plots such that bode plots of $G(s)$ and $\\frac{1}{G(s)}$ are symmetrical wrt.  $\\overline{M}(w)=0$ and $\\phi=0$ lines. \n",
        "\n",
        "\n",
        "\n"
      ]
    },
    {
      "cell_type": "code",
      "metadata": {
        "id": "VzJwPQlmSR5w",
        "colab_type": "code",
        "colab": {}
      },
      "source": [
        "!pip install ipywidgets\n",
        "!jupyter nbextension enable --py widgetsnbextension\n",
        "!pip install nodejs\n",
        "!pip install control\n",
        "from IPython.display import clear_output\n",
        "clear_output()\n",
        "import ipywidgets as widgets\n",
        "import control\n",
        "import matplotlib.pyplot as plt\n",
        "import numpy as np\n",
        "from IPython.display import display\n",
        "from IPython.display import Markdown as md\n",
        "from control import TransferFunction as tf\n",
        "from control import minreal\n",
        "from control import impulse_response, step_response\n",
        "from IPython.display import clear_output\n",
        "from ipywidgets import interact, interactive, fixed, interact_manual, Layout, HBox, Label, VBox, interactive_output\n",
        "from control.matlab import *\n",
        "import warnings\n",
        "\n",
        "warnings.filterwarnings(\"ignore\")\n",
        "\n",
        "def d_e(a):\n",
        "  a_latex = a._repr_latex_()\n",
        "  a_latex = a_latex[2:-2]\n",
        "  return a_latex\n",
        "\n",
        "\n",
        "def closed_loop(K0):\n",
        "  G0 = tf([K0], [1])\n",
        "  mag, phase, omega = control.bode_plot(G0)\n",
        "  display(md(\"$\\qquad \\qquad \\qquad \\qquad \\quad Bode\\,plot\\,of\\,G(s)\\qquad \\qquad \\qquad \\qquad where \\qquad G(s) =\" + d_e(minreal(G0,verbose=False)) + \"$\"))\n",
        "\n",
        "display(md(\"$ $\"))\n",
        "K0 = widgets.BoundedFloatText(value=2.00,min=-20.00,max=20.00,step=0.01,description=u'K =',disabled=False,layout=Layout(width='14%', height='80px'),readout=True,readout_format='.2f')\n",
        "out0 = interactive_output(closed_loop,{\"K0\":K0})\n",
        "\n",
        "display(K0,out0)\n"
      ],
      "execution_count": null,
      "outputs": []
    },
    {
      "cell_type": "markdown",
      "metadata": {
        "id": "V3VINSnYZQnT",
        "colab_type": "text"
      },
      "source": [
        "###2. Integral and Derivative Factors\n",
        "\n",
        "#### &nbsp;&nbsp;&nbsp; a) Integral Factors\n",
        "\n",
        "&nbsp;&nbsp;&nbsp; If we take the transfer function of the system as $G(s)=\\frac{1}{s^n}$, the magnitude ratio and the phase angle can be calculated as,\n",
        "\n",
        "$$\\overline{M}(w)=-20n\\,logw \\qquad and \\qquad\\phi(w)=-90^\\circ n.$$\n",
        "\n",
        "\n",
        "&nbsp;&nbsp;&nbsp; You can see the bode diagram of $G(s)=K$ for different $K$ values by running the code below.\n",
        "\n",
        "\n",
        "<br>\n",
        "\n",
        "#### &nbsp;&nbsp;&nbsp; b) Derivative Factors\n",
        "\n",
        "&nbsp;&nbsp;&nbsp; If we take the transfer function of the system as $G(s)=s^n$, the magnitude ratio and the phase angle can be calculated as,\n",
        "\n",
        "$$\\overline{M}(w)=20n\\,logw \\qquad \\phi(w)=90^\\circ n.$$\n",
        "\n",
        "\n",
        "&nbsp;&nbsp;&nbsp; You can see the bode diagram of $G(s)=\\frac{1}{s^n}$ and $G(s)=s^n$ for different $n$ values by running the code below.\n"
      ]
    },
    {
      "cell_type": "code",
      "metadata": {
        "id": "515EkclAb-UT",
        "colab_type": "code",
        "colab": {}
      },
      "source": [
        "import ipywidgets as widgets\n",
        "import control\n",
        "import matplotlib.pyplot as plt\n",
        "import numpy as np\n",
        "from IPython.display import display\n",
        "from IPython.display import Markdown as md\n",
        "from control import TransferFunction as tf\n",
        "from control import minreal\n",
        "from control import impulse_response, step_response\n",
        "from IPython.display import clear_output\n",
        "from ipywidgets import interact, interactive, fixed, interact_manual, Layout, HBox, Label, VBox, interactive_output\n",
        "from control.matlab import *\n",
        "import warnings\n",
        "\n",
        "warnings.filterwarnings(\"ignore\")\n",
        "\n",
        "def d_e(a):\n",
        "  a_latex = a._repr_latex_()\n",
        "  a_latex = a_latex[2:-2]\n",
        "  return a_latex\n",
        "\n",
        "\n",
        "def closed_loop(I,K1):\n",
        "  if I==1:\n",
        "    if K1==1:\n",
        "      G1 = tf([1], [1,0])\n",
        "    elif K1==2:\n",
        "      G1 = tf([1], [1,0,0])\n",
        "    else :\n",
        "      G1 = tf([1], [1,0,0,0])\n",
        "  else :\n",
        "    if K1==1:\n",
        "      G1 = tf( [1,0],[1])\n",
        "    elif K1==2:\n",
        "      G1 = tf([1,0,0],[1])\n",
        "    else :\n",
        "      G1 = tf([1,0,0,0],[1])\n",
        "     \n",
        "  mag, phase, omega = control.bode_plot(G1)\n",
        "  display(md(\"$\\qquad \\qquad \\qquad \\qquad \\quad Bode\\,plot\\,of\\,G(s)\\qquad \\qquad \\qquad \\qquad where \\qquad G(s) =\" + d_e(minreal(G1,verbose=False)) + \"$\"))\n",
        "\n",
        "display(md(\"$ $\"))\n",
        "K1 = widgets.BoundedFloatText(value=1,min=1,max=3,step=1,description=u'n =',disabled=False,layout=Layout(width='14%', height='80px'),readout=True,readout_format='.0f')\n",
        "I = widgets.RadioButtons(options=[('Integral', 1), ('Derivative', 2)],value=1,description='Factor:',disabled=False)\n",
        "out1 = interactive_output(closed_loop,{\"I\":I,\"K1\":K1})\n",
        "\n",
        "hbox1 = HBox((I,K1))\n",
        "display(hbox1,out1)"
      ],
      "execution_count": null,
      "outputs": []
    },
    {
      "cell_type": "markdown",
      "metadata": {
        "id": "1oZCpGrveCqj",
        "colab_type": "text"
      },
      "source": [
        "###3. First Order Factors\n",
        "\n",
        "&nbsp;&nbsp;&nbsp; We know from previous weeks the first order transfer function can be written as $G(s)=\\frac{1}{Ts+1}$. Then, the magnitude ratio and the phase angle can be calculated as,\n",
        "\n",
        "$$\\overline{M}(w)=-20log\\sqrt{1+w^2T^2} \\qquad and \\qquad \\phi(w)=-atan2 (wT).$$\n",
        "\n",
        "\n",
        "&nbsp;&nbsp;&nbsp; You can see the bode diagram of $G(s)=\\frac{1}{Ts+1}$ for different $T$ values by running the code below.\n",
        "\n",
        "\n",
        "\n"
      ]
    },
    {
      "cell_type": "code",
      "metadata": {
        "id": "YQFSa-bRfVEF",
        "colab_type": "code",
        "colab": {}
      },
      "source": [
        "import ipywidgets as widgets\n",
        "import control\n",
        "import matplotlib.pyplot as plt\n",
        "import numpy as np\n",
        "from IPython.display import display\n",
        "from IPython.display import Markdown as md\n",
        "from control import TransferFunction as tf\n",
        "from control import minreal\n",
        "from control import impulse_response, step_response\n",
        "from IPython.display import clear_output\n",
        "from ipywidgets import interact, interactive, fixed, interact_manual, Layout, HBox, Label, VBox, interactive_output\n",
        "from control.matlab import *\n",
        "import warnings\n",
        "\n",
        "warnings.filterwarnings(\"ignore\")\n",
        "\n",
        "def d_e(a):\n",
        "  a_latex = a._repr_latex_()\n",
        "  a_latex = a_latex[2:-2]\n",
        "  return a_latex\n",
        "\n",
        "\n",
        "def closed_loop(K2):\n",
        "  G2 = tf([1], [K2,1])\n",
        "  mag, phase, omega = control.bode_plot(G2)\n",
        "  display(md(\"$\\qquad \\qquad \\qquad \\qquad \\quad Bode\\,plot\\,of\\,G(s)\\qquad \\qquad \\qquad \\qquad where \\qquad G(s) =\" + d_e(minreal(G2,verbose=False)) + \"$\"))\n",
        "\n",
        "display(md(\"$ $\"))\n",
        "K2 = widgets.BoundedFloatText(value=1.00,min=0,max=20.00,step=0.01,description=u'T =',disabled=False,layout=Layout(width='14%', height='80px'),readout=True,readout_format='.2f')\n",
        "out2 = interactive_output(closed_loop,{\"K2\":K2})\n",
        "\n",
        "display(K2,out2)"
      ],
      "execution_count": null,
      "outputs": []
    },
    {
      "cell_type": "markdown",
      "metadata": {
        "id": "qL6lNsTQgPok",
        "colab_type": "text"
      },
      "source": [
        "\n",
        "&nbsp;&nbsp;&nbsp; As you can observe from the code above, the bode plots are not linear like the previous ones. However, we can make a straight-line approximation to simplify them. \n",
        "\n",
        "&nbsp;&nbsp;&nbsp; For low frequencies $(w \\ll \\frac{1}{T})$, the magnitude ratio and the phase angle can be approximated as,\n",
        "\n",
        "$$\\overline{M}(w)=-20log\\sqrt{1+w^2T^2}\\cong -20log1=0\\,dB\\,\\,(low\\,frequency\\,asymptote) \\qquad and \\qquad \\phi(w)=-atan2 (wT)\\cong 0^\\circ.$$\n",
        "\n",
        "&nbsp;&nbsp;&nbsp; For higher frequencies $(w \\gg \\frac{1}{T})$, the magnitude ratio and the phase angle can be approximated as,\n",
        "\n",
        "$$\\overline{M}(w)=-20log\\sqrt{1+w^2T^2}\\cong -20logwT\\,\\,(high\\,frequency\\,asymptote\\,,\\, slope=-20\\,dB/decade) \\qquad and \\qquad \\phi(w)=-atan2 (wT)\\cong -90^\\circ.$$\n",
        "\n",
        "&nbsp;&nbsp;&nbsp; The frequency value where the low and high frequecny asymptotes meet is called as *cut-off frequency*, $w_c=\\frac{1}{T}$.\n",
        "\n",
        "&nbsp;&nbsp;&nbsp; You can see the straight-line approximation and the cut-off frequency in the following figure.\n",
        "\n",
        "<center><img src=https://raw.githubusercontent.com/Dengesizizm/ME462Project/master/Week13/Figures/First_order_approximation.png height=\"400\"></center>\n",
        "\n",
        "&nbsp;&nbsp;&nbsp; As we can see from the figure above, the magnitude ratio $\\overline{M}(w)=0\\rightarrow M(w)=\\frac{A_y}{A_x}=1$ for the frequency values less than cut-off frequency, $w<w_c$. Therefore, if we want the first-order system to track the input signal's amplitude, the system should only take input signals that have a frequency of less than cut-off frequency. This can be achieved using the *low-pass filters*, which only passes the signals having a frequency lower than cut-off frequency and blocks the frequencies that $w>w_c$."
      ]
    },
    {
      "cell_type": "markdown",
      "metadata": {
        "id": "XeO58EesGMqH",
        "colab_type": "text"
      },
      "source": [
        "###4. Second Order Factors\n",
        "\n",
        "&nbsp;&nbsp;&nbsp; We know from previous weeks the second order transfer function can be written as $G(s)=\\frac{1}{T^2s^2+2\\xi Ts+1} =\\frac{w_n^2}{s^2+2\\xi w_ns+w_n^2}$. Then, the magnitude ratio and the phase angle can be calculated as,\n",
        "\n",
        "$$\\overline{M}(w)=-20log\\sqrt{\\bigg( 1-\\frac{w^2}{w_n^2} \\bigg)^2+ \\bigg( 2\\xi \\frac{w}{w_n} \\bigg)^2} \\qquad and \\qquad \\phi(w)=-atan2 \\bigg(\\frac{2\\xi \\frac{w}{w_n}}{1-\\frac{w^2}{w_n^2}} \\bigg), \\quad where \\quad w_n=\\frac{1}{T}.$$\n",
        "\n",
        "\n",
        "&nbsp;&nbsp;&nbsp; You can see the bode diagram of $G(s)=\\frac{1}{T^2s^2+2\\xi Ts+1} =\\frac{w_n^2}{s^2+2\\xi w_ns+w_n^2}$ for different $T$ and $\\xi$  values by running the code below. "
      ]
    },
    {
      "cell_type": "code",
      "metadata": {
        "id": "bpwl-t_bJqLA",
        "colab_type": "code",
        "colab": {}
      },
      "source": [
        "import ipywidgets as widgets\n",
        "import control\n",
        "import matplotlib.pyplot as plt\n",
        "import numpy as np\n",
        "from IPython.display import display\n",
        "from IPython.display import Markdown as md\n",
        "from control import TransferFunction as tf\n",
        "from control import minreal\n",
        "from control import impulse_response, step_response\n",
        "from IPython.display import clear_output\n",
        "from ipywidgets import interact, interactive, fixed, interact_manual, Layout, HBox, Label, VBox, interactive_output\n",
        "from control.matlab import *\n",
        "import warnings\n",
        "\n",
        "warnings.filterwarnings(\"ignore\")\n",
        "\n",
        "def d_e(a):\n",
        "  a_latex = a._repr_latex_()\n",
        "  a_latex = a_latex[2:-2]\n",
        "  return a_latex\n",
        "\n",
        "\n",
        "def closed_loop(T1,xi):\n",
        "  G2 = tf([1], [T1**2,2*T1*xi,1])\n",
        "  mag, phase, omega = control.bode_plot(G2)\n",
        "  display(md(\"$\\qquad \\qquad \\qquad \\qquad \\quad Bode\\,plot\\,of\\,G(s)\\qquad \\qquad \\qquad \\qquad where \\qquad G(s) =\" + d_e(minreal(G2,verbose=False)) + \", \\quad w_n= \"+str(round(1/T1,2)) +\"$\"))\n",
        "\n",
        "display(md(\"$ $\"))\n",
        "T1 = widgets.BoundedFloatText(value=1.00,min=0.10,max=20.00,step=0.50,description=u'T =',disabled=False,layout=Layout(width='14%', height='80px'),readout=True,readout_format='.2f')\n",
        "xi = widgets.BoundedFloatText(value=0.70,min=0.00,max=1.00,step=0.10,description=u'ksi =',disabled=False,layout=Layout(width='14%', height='80px'),readout=True,readout_format='.2f')\n",
        "out3 = interactive_output(closed_loop,{\"T1\":T1, \"xi\":xi})\n",
        "hbox2 = HBox((T1,xi))\n",
        "\n",
        "display(hbox2,out3)"
      ],
      "execution_count": null,
      "outputs": []
    },
    {
      "cell_type": "markdown",
      "metadata": {
        "id": "BUPeqP9mMUc5",
        "colab_type": "text"
      },
      "source": [
        "&nbsp;&nbsp;&nbsp; Similar to the first order factor, we can make a straight-line approximation for low frequencies $(w \\ll \\frac{1}{T})$ as, \n",
        "\n",
        "\n",
        "$$\\overline{M}(w)\\cong -20log1=0\\,dB\\,\\,(low\\,frequency\\,asymptote) \\qquad and \\qquad \\phi(w)=-2\\xi \\frac{w}{w_n}\\,\\,rad.$$\n",
        "\n",
        "&nbsp;&nbsp;&nbsp; For higher frequencies $(w \\gg \\frac{1}{T})$, the magnitude ratio and the phase angle can be approximated as,\n",
        "\n",
        "$$\\overline{M}(w)=-20log\\bigg( \\frac{w}{w_n}\\bigg)^2 = -40log\\frac{w}{w_n}= -40(logw-logw_n) \\,\\,(high\\,frequency\\,asymptote\\,,\\, slope=-40\\,dB/decade) \\qquad and \\qquad \\phi(w)\\cong -2\\bigg( \\frac{\\pi}{2}-\\xi \\frac{w_n}{w} \\bigg)\\,\\,rad.$$\n",
        "\n",
        "&nbsp;&nbsp;&nbsp; The frequency value where the low and high frequecny asymptotes meet is called as *corner frequency*, $w_c=w_n=\\frac{1}{T}$. \n",
        "At the corner frequency, the magnitude ratio can be found as $\\overline{M}(w_c)=20log\\big( \\frac{1}{2\\xi} \\big)$.\n",
        "\n",
        "<br>\n",
        "\n",
        "&nbsp;&nbsp;&nbsp; Moreover, we can extend the straight-line approximation for phase angle bode plot as,\n",
        "\n",
        "$$\\phi \\cong 0^\\circ \\quad for \\quad w<10^{- \\xi} w_n \\qquad and \\qquad \\phi \\cong -180^\\circ \\quad for \\quad w>10^\\xi w_n. $$\n",
        "\n",
        "&nbsp;&nbsp;&nbsp; $\\phi$ is approximately a straight line which passes through $(w_n,-90^\\circ)$ with slope $\\frac{-90^\\circ}{\\xi}$ degree/decade, for $10^{- \\xi} w_n<w<10^\\xi w_n$.\n",
        "\n",
        "&nbsp;&nbsp;&nbsp; You can see the straight-line approximation and the corner frequency in the following figure.\n",
        "\n",
        "<center><img src=https://raw.githubusercontent.com/Dengesizizm/ME462Project/master/Week13/Figures/Second_order_approximation.png height=\"400\"></center>\n",
        "\n",
        "&nbsp;&nbsp;&nbsp; You can see how the bode plot changes by increasing the damping ratio $ \\xi $. You can also observe that from the code block of the second-order factor by changing the value of the $ \\xi $.\n",
        "\n",
        "&nbsp;&nbsp;&nbsp; Maximum value of the magnitude ratio is called as resonance peak, $M_r=max(M(w))$ and the frequecy at the resonance peak occurs is named as resonance frequency, $w_r$ where $M_r=M(w_r)$. Then, the resonance frequency can be found by equating derivative of the magnitude bode plot to zero as,\n",
        "\n",
        "$$ \\frac{dM(w)}{dw}=0  \\rightarrow w_r=w_n \\sqrt{1-2\\xi^2}\\quad which\\,\\,is\\,\\,real\\,\\,for\\,\\,\\xi<\\frac{\\sqrt{2}}{2}=0.707.$$\n",
        "\n",
        "&nbsp;&nbsp;&nbsp; Then, for the damping ratio $\\xi < 0.707$, the resonance peak and resonance frequency can be found as\n",
        "\n",
        "$$M_r=\\frac{1}{2\\xi \\sqrt{1-\\xi^2}} \\quad and \\quad  w_r=w_n \\sqrt{1-2\\xi^2}. $$\n",
        "\n",
        "&nbsp;&nbsp;&nbsp;   <i> Note: As the damping ratio increases ($\\xi \\uparrow$), the resonance peak and resonance frequency decreases ($M_r\\downarrow ,\\,\\,w_r \\downarrow$).  </i>\n"
      ]
    },
    {
      "cell_type": "markdown",
      "metadata": {
        "id": "1r-OswjiWP2Z",
        "colab_type": "text"
      },
      "source": [
        "&nbsp;&nbsp;&nbsp; That's all for this Colab! If you understand the bode plots of the basic factors, you are ready to continue with bode diagrams of the composite transfer functions next week!"
      ]
    }
  ]
}